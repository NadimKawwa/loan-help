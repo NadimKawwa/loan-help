{
 "cells": [
  {
   "cell_type": "code",
   "execution_count": 1,
   "metadata": {},
   "outputs": [
    {
     "ename": "ModuleNotFoundError",
     "evalue": "No module named 'numpy.core._multiarray_umath'",
     "output_type": "error",
     "traceback": [
      "\u001b[0;31m---------------------------------------------------------------------------\u001b[0m",
      "\u001b[0;31mModuleNotFoundError\u001b[0m                       Traceback (most recent call last)",
      "\u001b[0;31mModuleNotFoundError\u001b[0m: No module named 'numpy.core._multiarray_umath'"
     ]
    },
    {
     "name": "stderr",
     "output_type": "stream",
     "text": [
      "Using TensorFlow backend.\n"
     ]
    }
   ],
   "source": [
    "import numpy as np\n",
    "import pandas as pd\n",
    "import matplotlib.pyplot as plt\n",
    "\n",
    "import os\n",
    "import copy\n",
    "from collections import OrderedDict\n",
    "import argparse\n",
    "import json\n",
    "import pickle\n",
    "from datetime import datetime\n",
    "\n",
    "from sklearn.metrics import classification_report, roc_curve, precision_recall_curve,roc_auc_score, f1_score, confusion_matrix\n",
    "from sklearn.model_selection import GridSearchCV\n",
    "from sklearn.neighbors import KNeighborsRegressor\n",
    "\n",
    "\n",
    "import xgboost as xgb\n",
    "\n",
    "import shap\n",
    "\n",
    "from imblearn.over_sampling import SMOTE\n",
    "\n",
    "import utils\n",
    "\n",
    "%matplotlib inline\n"
   ]
  },
  {
   "cell_type": "markdown",
   "metadata": {},
   "source": [
    "Recall from previous notebook the top feature importances:\n",
    "\n",
    "![SHAP values](plots/xgb_shap_importance.png)\n",
    "\n",
    "\n",
    "We now wish to take what we learned to create a smaller version of the model that can take in user input and convert it to useful features."
   ]
  },
  {
   "cell_type": "markdown",
   "metadata": {},
   "source": [
    "# 1.0 Load Data"
   ]
  },
  {
   "cell_type": "code",
   "execution_count": 2,
   "metadata": {},
   "outputs": [],
   "source": [
    "#get directory\n",
    "df_train_path = os.path.join('data','df_train_scaled.csv')\n",
    "df_test_path = os.path.join('data','df_test_scaled.csv')"
   ]
  },
  {
   "cell_type": "code",
   "execution_count": 3,
   "metadata": {},
   "outputs": [
    {
     "name": "stderr",
     "output_type": "stream",
     "text": [
      "elementwise comparison failed; returning scalar instead, but in the future will perform elementwise comparison\n"
     ]
    },
    {
     "data": {
      "text/html": [
       "<div>\n",
       "<style scoped>\n",
       "    .dataframe tbody tr th:only-of-type {\n",
       "        vertical-align: middle;\n",
       "    }\n",
       "\n",
       "    .dataframe tbody tr th {\n",
       "        vertical-align: top;\n",
       "    }\n",
       "\n",
       "    .dataframe thead th {\n",
       "        text-align: right;\n",
       "    }\n",
       "</style>\n",
       "<table border=\"1\" class=\"dataframe\">\n",
       "  <thead>\n",
       "    <tr style=\"text-align: right;\">\n",
       "      <th></th>\n",
       "      <th>pub_rec</th>\n",
       "      <th>grade</th>\n",
       "      <th>purp_renewable_energy</th>\n",
       "      <th>revol_bal</th>\n",
       "      <th>open_acc</th>\n",
       "      <th>mort_acc</th>\n",
       "      <th>purp_credit_card</th>\n",
       "      <th>purp_car</th>\n",
       "      <th>e_exec</th>\n",
       "      <th>verification_status</th>\n",
       "      <th>...</th>\n",
       "      <th>installment</th>\n",
       "      <th>total_acc</th>\n",
       "      <th>e_admin</th>\n",
       "      <th>purp_medical</th>\n",
       "      <th>purp_vacation</th>\n",
       "      <th>e_self</th>\n",
       "      <th>purp_debt_consolidation</th>\n",
       "      <th>int_rate</th>\n",
       "      <th>annual_inc</th>\n",
       "      <th>purp_home_improvement</th>\n",
       "    </tr>\n",
       "  </thead>\n",
       "  <tbody>\n",
       "    <tr>\n",
       "      <th>2139270</th>\n",
       "      <td>0.0</td>\n",
       "      <td>-1.817008</td>\n",
       "      <td>0</td>\n",
       "      <td>-0.508426</td>\n",
       "      <td>-0.843970</td>\n",
       "      <td>-0.718077</td>\n",
       "      <td>0</td>\n",
       "      <td>0</td>\n",
       "      <td>0</td>\n",
       "      <td>0</td>\n",
       "      <td>...</td>\n",
       "      <td>-0.788166</td>\n",
       "      <td>-1.415080</td>\n",
       "      <td>0</td>\n",
       "      <td>0</td>\n",
       "      <td>0</td>\n",
       "      <td>0</td>\n",
       "      <td>1</td>\n",
       "      <td>0.190831</td>\n",
       "      <td>-1.073069</td>\n",
       "      <td>0</td>\n",
       "    </tr>\n",
       "    <tr>\n",
       "      <th>2139245</th>\n",
       "      <td>0.0</td>\n",
       "      <td>-2.586479</td>\n",
       "      <td>0</td>\n",
       "      <td>-0.549872</td>\n",
       "      <td>0.075527</td>\n",
       "      <td>-0.718077</td>\n",
       "      <td>0</td>\n",
       "      <td>0</td>\n",
       "      <td>0</td>\n",
       "      <td>0</td>\n",
       "      <td>...</td>\n",
       "      <td>-1.440208</td>\n",
       "      <td>-0.980748</td>\n",
       "      <td>0</td>\n",
       "      <td>0</td>\n",
       "      <td>0</td>\n",
       "      <td>0</td>\n",
       "      <td>1</td>\n",
       "      <td>0.653814</td>\n",
       "      <td>-0.507501</td>\n",
       "      <td>0</td>\n",
       "    </tr>\n",
       "    <tr>\n",
       "      <th>2139236</th>\n",
       "      <td>0.0</td>\n",
       "      <td>1.260876</td>\n",
       "      <td>0</td>\n",
       "      <td>-0.559592</td>\n",
       "      <td>-0.292272</td>\n",
       "      <td>-0.718077</td>\n",
       "      <td>0</td>\n",
       "      <td>0</td>\n",
       "      <td>0</td>\n",
       "      <td>0</td>\n",
       "      <td>...</td>\n",
       "      <td>-1.099830</td>\n",
       "      <td>-0.720149</td>\n",
       "      <td>0</td>\n",
       "      <td>0</td>\n",
       "      <td>0</td>\n",
       "      <td>0</td>\n",
       "      <td>1</td>\n",
       "      <td>-1.133175</td>\n",
       "      <td>0.855853</td>\n",
       "      <td>0</td>\n",
       "    </tr>\n",
       "    <tr>\n",
       "      <th>2139235</th>\n",
       "      <td>0.0</td>\n",
       "      <td>-0.278066</td>\n",
       "      <td>0</td>\n",
       "      <td>-0.594821</td>\n",
       "      <td>0.995025</td>\n",
       "      <td>-0.718077</td>\n",
       "      <td>0</td>\n",
       "      <td>0</td>\n",
       "      <td>0</td>\n",
       "      <td>0</td>\n",
       "      <td>...</td>\n",
       "      <td>-1.365033</td>\n",
       "      <td>-0.546417</td>\n",
       "      <td>0</td>\n",
       "      <td>0</td>\n",
       "      <td>0</td>\n",
       "      <td>0</td>\n",
       "      <td>0</td>\n",
       "      <td>-0.536115</td>\n",
       "      <td>-1.110524</td>\n",
       "      <td>0</td>\n",
       "    </tr>\n",
       "    <tr>\n",
       "      <th>2139225</th>\n",
       "      <td>0.0</td>\n",
       "      <td>1.260876</td>\n",
       "      <td>0</td>\n",
       "      <td>0.226401</td>\n",
       "      <td>0.627226</td>\n",
       "      <td>-0.718077</td>\n",
       "      <td>0</td>\n",
       "      <td>0</td>\n",
       "      <td>0</td>\n",
       "      <td>0</td>\n",
       "      <td>...</td>\n",
       "      <td>-0.870123</td>\n",
       "      <td>3.101968</td>\n",
       "      <td>0</td>\n",
       "      <td>0</td>\n",
       "      <td>0</td>\n",
       "      <td>0</td>\n",
       "      <td>0</td>\n",
       "      <td>-0.999098</td>\n",
       "      <td>1.324038</td>\n",
       "      <td>1</td>\n",
       "    </tr>\n",
       "  </tbody>\n",
       "</table>\n",
       "<p>5 rows × 43 columns</p>\n",
       "</div>"
      ],
      "text/plain": [
       "         pub_rec     grade  purp_renewable_energy  revol_bal  open_acc  \\\n",
       "2139270      0.0 -1.817008                      0  -0.508426 -0.843970   \n",
       "2139245      0.0 -2.586479                      0  -0.549872  0.075527   \n",
       "2139236      0.0  1.260876                      0  -0.559592 -0.292272   \n",
       "2139235      0.0 -0.278066                      0  -0.594821  0.995025   \n",
       "2139225      0.0  1.260876                      0   0.226401  0.627226   \n",
       "\n",
       "         mort_acc  purp_credit_card  purp_car  e_exec  verification_status  \\\n",
       "2139270 -0.718077                 0         0       0                    0   \n",
       "2139245 -0.718077                 0         0       0                    0   \n",
       "2139236 -0.718077                 0         0       0                    0   \n",
       "2139235 -0.718077                 0         0       0                    0   \n",
       "2139225 -0.718077                 0         0       0                    0   \n",
       "\n",
       "                 ...            installment  total_acc  e_admin  purp_medical  \\\n",
       "2139270          ...              -0.788166  -1.415080        0             0   \n",
       "2139245          ...              -1.440208  -0.980748        0             0   \n",
       "2139236          ...              -1.099830  -0.720149        0             0   \n",
       "2139235          ...              -1.365033  -0.546417        0             0   \n",
       "2139225          ...              -0.870123   3.101968        0             0   \n",
       "\n",
       "         purp_vacation  e_self  purp_debt_consolidation  int_rate  annual_inc  \\\n",
       "2139270              0       0                        1  0.190831   -1.073069   \n",
       "2139245              0       0                        1  0.653814   -0.507501   \n",
       "2139236              0       0                        1 -1.133175    0.855853   \n",
       "2139235              0       0                        0 -0.536115   -1.110524   \n",
       "2139225              0       0                        0 -0.999098    1.324038   \n",
       "\n",
       "         purp_home_improvement  \n",
       "2139270                      0  \n",
       "2139245                      0  \n",
       "2139236                      0  \n",
       "2139235                      0  \n",
       "2139225                      1  \n",
       "\n",
       "[5 rows x 43 columns]"
      ]
     },
     "execution_count": 3,
     "metadata": {},
     "output_type": "execute_result"
    }
   ],
   "source": [
    "df_train = pd.read_csv(df_train_path, compression='zip',index_col=0)\n",
    "df_train.head()"
   ]
  },
  {
   "cell_type": "code",
   "execution_count": 4,
   "metadata": {},
   "outputs": [
    {
     "data": {
      "text/plain": [
       "(1292073, 43)"
      ]
     },
     "execution_count": 4,
     "metadata": {},
     "output_type": "execute_result"
    }
   ],
   "source": [
    "df_train.shape"
   ]
  },
  {
   "cell_type": "code",
   "execution_count": 5,
   "metadata": {},
   "outputs": [
    {
     "data": {
      "text/html": [
       "<div>\n",
       "<style scoped>\n",
       "    .dataframe tbody tr th:only-of-type {\n",
       "        vertical-align: middle;\n",
       "    }\n",
       "\n",
       "    .dataframe tbody tr th {\n",
       "        vertical-align: top;\n",
       "    }\n",
       "\n",
       "    .dataframe thead th {\n",
       "        text-align: right;\n",
       "    }\n",
       "</style>\n",
       "<table border=\"1\" class=\"dataframe\">\n",
       "  <thead>\n",
       "    <tr style=\"text-align: right;\">\n",
       "      <th></th>\n",
       "      <th>pub_rec</th>\n",
       "      <th>grade</th>\n",
       "      <th>purp_renewable_energy</th>\n",
       "      <th>revol_bal</th>\n",
       "      <th>open_acc</th>\n",
       "      <th>mort_acc</th>\n",
       "      <th>purp_credit_card</th>\n",
       "      <th>purp_car</th>\n",
       "      <th>e_exec</th>\n",
       "      <th>verification_status</th>\n",
       "      <th>...</th>\n",
       "      <th>installment</th>\n",
       "      <th>total_acc</th>\n",
       "      <th>e_admin</th>\n",
       "      <th>purp_medical</th>\n",
       "      <th>purp_vacation</th>\n",
       "      <th>e_self</th>\n",
       "      <th>purp_debt_consolidation</th>\n",
       "      <th>int_rate</th>\n",
       "      <th>annual_inc</th>\n",
       "      <th>purp_home_improvement</th>\n",
       "    </tr>\n",
       "  </thead>\n",
       "  <tbody>\n",
       "    <tr>\n",
       "      <th>244697</th>\n",
       "      <td>0.0</td>\n",
       "      <td>1.316121</td>\n",
       "      <td>0</td>\n",
       "      <td>-0.258040</td>\n",
       "      <td>-0.172649</td>\n",
       "      <td>-0.335020</td>\n",
       "      <td>0</td>\n",
       "      <td>0</td>\n",
       "      <td>0</td>\n",
       "      <td>2</td>\n",
       "      <td>...</td>\n",
       "      <td>2.819585</td>\n",
       "      <td>-0.001213</td>\n",
       "      <td>0</td>\n",
       "      <td>0</td>\n",
       "      <td>0</td>\n",
       "      <td>0</td>\n",
       "      <td>0</td>\n",
       "      <td>-1.237809</td>\n",
       "      <td>0.263661</td>\n",
       "      <td>0</td>\n",
       "    </tr>\n",
       "    <tr>\n",
       "      <th>244789</th>\n",
       "      <td>0.0</td>\n",
       "      <td>-0.236910</td>\n",
       "      <td>0</td>\n",
       "      <td>0.935375</td>\n",
       "      <td>2.552677</td>\n",
       "      <td>-0.335020</td>\n",
       "      <td>1</td>\n",
       "      <td>0</td>\n",
       "      <td>0</td>\n",
       "      <td>2</td>\n",
       "      <td>...</td>\n",
       "      <td>0.289097</td>\n",
       "      <td>1.790371</td>\n",
       "      <td>0</td>\n",
       "      <td>0</td>\n",
       "      <td>0</td>\n",
       "      <td>0</td>\n",
       "      <td>0</td>\n",
       "      <td>0.416115</td>\n",
       "      <td>0.411947</td>\n",
       "      <td>0</td>\n",
       "    </tr>\n",
       "    <tr>\n",
       "      <th>244459</th>\n",
       "      <td>0.0</td>\n",
       "      <td>-1.013426</td>\n",
       "      <td>0</td>\n",
       "      <td>-0.262623</td>\n",
       "      <td>-0.354337</td>\n",
       "      <td>0.730536</td>\n",
       "      <td>0</td>\n",
       "      <td>0</td>\n",
       "      <td>0</td>\n",
       "      <td>2</td>\n",
       "      <td>...</td>\n",
       "      <td>2.253124</td>\n",
       "      <td>0.243094</td>\n",
       "      <td>0</td>\n",
       "      <td>0</td>\n",
       "      <td>0</td>\n",
       "      <td>0</td>\n",
       "      <td>1</td>\n",
       "      <td>1.040837</td>\n",
       "      <td>-0.181633</td>\n",
       "      <td>0</td>\n",
       "    </tr>\n",
       "    <tr>\n",
       "      <th>245213</th>\n",
       "      <td>0.0</td>\n",
       "      <td>0.539606</td>\n",
       "      <td>0</td>\n",
       "      <td>-0.659508</td>\n",
       "      <td>-1.081091</td>\n",
       "      <td>0.197758</td>\n",
       "      <td>1</td>\n",
       "      <td>0</td>\n",
       "      <td>1</td>\n",
       "      <td>1</td>\n",
       "      <td>...</td>\n",
       "      <td>0.233329</td>\n",
       "      <td>-1.059876</td>\n",
       "      <td>0</td>\n",
       "      <td>0</td>\n",
       "      <td>0</td>\n",
       "      <td>0</td>\n",
       "      <td>0</td>\n",
       "      <td>-0.630029</td>\n",
       "      <td>-0.059664</td>\n",
       "      <td>0</td>\n",
       "    </tr>\n",
       "    <tr>\n",
       "      <th>245189</th>\n",
       "      <td>0.0</td>\n",
       "      <td>1.316121</td>\n",
       "      <td>0</td>\n",
       "      <td>-0.490607</td>\n",
       "      <td>-0.354337</td>\n",
       "      <td>-0.335020</td>\n",
       "      <td>0</td>\n",
       "      <td>0</td>\n",
       "      <td>0</td>\n",
       "      <td>0</td>\n",
       "      <td>...</td>\n",
       "      <td>-1.027633</td>\n",
       "      <td>-0.815569</td>\n",
       "      <td>0</td>\n",
       "      <td>0</td>\n",
       "      <td>0</td>\n",
       "      <td>0</td>\n",
       "      <td>0</td>\n",
       "      <td>-1.104394</td>\n",
       "      <td>0.902531</td>\n",
       "      <td>1</td>\n",
       "    </tr>\n",
       "  </tbody>\n",
       "</table>\n",
       "<p>5 rows × 43 columns</p>\n",
       "</div>"
      ],
      "text/plain": [
       "        pub_rec     grade  purp_renewable_energy  revol_bal  open_acc  \\\n",
       "244697      0.0  1.316121                      0  -0.258040 -0.172649   \n",
       "244789      0.0 -0.236910                      0   0.935375  2.552677   \n",
       "244459      0.0 -1.013426                      0  -0.262623 -0.354337   \n",
       "245213      0.0  0.539606                      0  -0.659508 -1.081091   \n",
       "245189      0.0  1.316121                      0  -0.490607 -0.354337   \n",
       "\n",
       "        mort_acc  purp_credit_card  purp_car  e_exec  verification_status  \\\n",
       "244697 -0.335020                 0         0       0                    2   \n",
       "244789 -0.335020                 1         0       0                    2   \n",
       "244459  0.730536                 0         0       0                    2   \n",
       "245213  0.197758                 1         0       1                    1   \n",
       "245189 -0.335020                 0         0       0                    0   \n",
       "\n",
       "                ...            installment  total_acc  e_admin  purp_medical  \\\n",
       "244697          ...               2.819585  -0.001213        0             0   \n",
       "244789          ...               0.289097   1.790371        0             0   \n",
       "244459          ...               2.253124   0.243094        0             0   \n",
       "245213          ...               0.233329  -1.059876        0             0   \n",
       "245189          ...              -1.027633  -0.815569        0             0   \n",
       "\n",
       "        purp_vacation  e_self  purp_debt_consolidation  int_rate  annual_inc  \\\n",
       "244697              0       0                        0 -1.237809    0.263661   \n",
       "244789              0       0                        0  0.416115    0.411947   \n",
       "244459              0       0                        1  1.040837   -0.181633   \n",
       "245213              0       0                        0 -0.630029   -0.059664   \n",
       "245189              0       0                        0 -1.104394    0.902531   \n",
       "\n",
       "        purp_home_improvement  \n",
       "244697                      0  \n",
       "244789                      0  \n",
       "244459                      0  \n",
       "245213                      0  \n",
       "245189                      1  \n",
       "\n",
       "[5 rows x 43 columns]"
      ]
     },
     "execution_count": 5,
     "metadata": {},
     "output_type": "execute_result"
    }
   ],
   "source": [
    "df_test = pd.read_csv(df_test_path, compression='zip', index_col=0)\n",
    "df_test.head()"
   ]
  },
  {
   "cell_type": "code",
   "execution_count": 6,
   "metadata": {},
   "outputs": [
    {
     "data": {
      "text/plain": [
       "(11534, 43)"
      ]
     },
     "execution_count": 6,
     "metadata": {},
     "output_type": "execute_result"
    }
   ],
   "source": [
    "df_test.shape"
   ]
  },
  {
   "cell_type": "markdown",
   "metadata": {},
   "source": [
    "# 2.0 FICO to Grade: An Example"
   ]
  },
  {
   "cell_type": "code",
   "execution_count": 7,
   "metadata": {},
   "outputs": [
    {
     "data": {
      "text/html": [
       "<div>\n",
       "<style scoped>\n",
       "    .dataframe tbody tr th:only-of-type {\n",
       "        vertical-align: middle;\n",
       "    }\n",
       "\n",
       "    .dataframe tbody tr th {\n",
       "        vertical-align: top;\n",
       "    }\n",
       "\n",
       "    .dataframe thead th {\n",
       "        text-align: right;\n",
       "    }\n",
       "</style>\n",
       "<table border=\"1\" class=\"dataframe\">\n",
       "  <thead>\n",
       "    <tr style=\"text-align: right;\">\n",
       "      <th></th>\n",
       "      <th>sub_grade</th>\n",
       "      <th>score</th>\n",
       "      <th>value</th>\n",
       "    </tr>\n",
       "  </thead>\n",
       "  <tbody>\n",
       "    <tr>\n",
       "      <th>0</th>\n",
       "      <td>A1</td>\n",
       "      <td>789</td>\n",
       "      <td>34</td>\n",
       "    </tr>\n",
       "    <tr>\n",
       "      <th>1</th>\n",
       "      <td>A2</td>\n",
       "      <td>780</td>\n",
       "      <td>33</td>\n",
       "    </tr>\n",
       "    <tr>\n",
       "      <th>2</th>\n",
       "      <td>A3</td>\n",
       "      <td>769</td>\n",
       "      <td>32</td>\n",
       "    </tr>\n",
       "    <tr>\n",
       "      <th>3</th>\n",
       "      <td>A4</td>\n",
       "      <td>761</td>\n",
       "      <td>31</td>\n",
       "    </tr>\n",
       "    <tr>\n",
       "      <th>4</th>\n",
       "      <td>A5</td>\n",
       "      <td>741</td>\n",
       "      <td>30</td>\n",
       "    </tr>\n",
       "  </tbody>\n",
       "</table>\n",
       "</div>"
      ],
      "text/plain": [
       "  sub_grade  score  value\n",
       "0        A1    789     34\n",
       "1        A2    780     33\n",
       "2        A3    769     32\n",
       "3        A4    761     31\n",
       "4        A5    741     30"
      ]
     },
     "execution_count": 7,
     "metadata": {},
     "output_type": "execute_result"
    }
   ],
   "source": [
    "df_fico_grade = pd.read_csv('data/grade_to_fico.csv')\n",
    "df_fico_grade.head()"
   ]
  },
  {
   "cell_type": "code",
   "execution_count": 8,
   "metadata": {},
   "outputs": [
    {
     "data": {
      "image/png": "[encoded data removed]",
      "text/plain": [
       "<Figure size 720x360 with 1 Axes>"
      ]
     },
     "metadata": {
      "needs_background": "light"
     },
     "output_type": "display_data"
    }
   ],
   "source": [
    "plt.figure(figsize=(10,5))\n",
    "plt.plot(df_fico_grade['value'], df_fico_grade['score'], marker='x')\n",
    "plt.xticks(range(df_fico_grade.shape[0]) , df_fico_grade['sub_grade'][::-1], rotation='vertical')\n",
    "plt.xlabel('Sub Grade')\n",
    "plt.ylabel(\"FICO Score\")\n",
    "plt.title(\"FICO Versus Sub Grade Per SEC Filing\")\n",
    "plt.savefig(os.path.join('plots','fico_grade_line.png'))\n",
    "plt.show()"
   ]
  },
  {
   "cell_type": "code",
   "execution_count": 9,
   "metadata": {},
   "outputs": [
    {
     "data": {
      "text/plain": [
       "30.0"
      ]
     },
     "execution_count": 9,
     "metadata": {},
     "output_type": "execute_result"
    }
   ],
   "source": [
    "#instantiate regressor\n",
    "knn = KNeighborsRegressor(n_neighbors=1)\n",
    "#fit to data\n",
    "knn.fit(np.reshape(df_fico_grade['score'].values, (-1, 1)), \n",
    "        df_fico_grade['value'])\n",
    "#make sample prediction\n",
    "knn.predict(np.reshape([750], (1,-1)))[0]"
   ]
  },
  {
   "cell_type": "markdown",
   "metadata": {},
   "source": [
    "### Save KNN Regression"
   ]
  },
  {
   "cell_type": "code",
   "execution_count": 10,
   "metadata": {},
   "outputs": [],
   "source": [
    "#save the model\n",
    "with open(os.path.join('models', 'knn_regression.pkl'), 'wb') as handle:\n",
    "    pickle.dump(knn,\n",
    "                handle)"
   ]
  },
  {
   "cell_type": "markdown",
   "metadata": {},
   "source": [
    "# 3.0 FICO to Interest Rate"
   ]
  },
  {
   "cell_type": "code",
   "execution_count": 11,
   "metadata": {},
   "outputs": [
    {
     "data": {
      "text/html": [
       "<div>\n",
       "<style scoped>\n",
       "    .dataframe tbody tr th:only-of-type {\n",
       "        vertical-align: middle;\n",
       "    }\n",
       "\n",
       "    .dataframe tbody tr th {\n",
       "        vertical-align: top;\n",
       "    }\n",
       "\n",
       "    .dataframe thead th {\n",
       "        text-align: right;\n",
       "    }\n",
       "</style>\n",
       "<table border=\"1\" class=\"dataframe\">\n",
       "  <thead>\n",
       "    <tr style=\"text-align: right;\">\n",
       "      <th></th>\n",
       "      <th>grade_num</th>\n",
       "      <th>loan_grade</th>\n",
       "      <th>apr</th>\n",
       "      <th>36_mo</th>\n",
       "      <th>60_mo</th>\n",
       "    </tr>\n",
       "  </thead>\n",
       "  <tbody>\n",
       "    <tr>\n",
       "      <th>0</th>\n",
       "      <td>34</td>\n",
       "      <td>A1</td>\n",
       "      <td>6.03</td>\n",
       "      <td>6.78</td>\n",
       "      <td>7.30</td>\n",
       "    </tr>\n",
       "    <tr>\n",
       "      <th>1</th>\n",
       "      <td>33</td>\n",
       "      <td>A2</td>\n",
       "      <td>6.97</td>\n",
       "      <td>7.99</td>\n",
       "      <td>8.26</td>\n",
       "    </tr>\n",
       "    <tr>\n",
       "      <th>2</th>\n",
       "      <td>32</td>\n",
       "      <td>A3</td>\n",
       "      <td>7.62</td>\n",
       "      <td>8.99</td>\n",
       "      <td>8.91</td>\n",
       "    </tr>\n",
       "    <tr>\n",
       "      <th>3</th>\n",
       "      <td>31</td>\n",
       "      <td>A4</td>\n",
       "      <td>8.60</td>\n",
       "      <td>9.98</td>\n",
       "      <td>9.91</td>\n",
       "    </tr>\n",
       "    <tr>\n",
       "      <th>4</th>\n",
       "      <td>30</td>\n",
       "      <td>A5</td>\n",
       "      <td>9.25</td>\n",
       "      <td>10.99</td>\n",
       "      <td>10.56</td>\n",
       "    </tr>\n",
       "  </tbody>\n",
       "</table>\n",
       "</div>"
      ],
      "text/plain": [
       "   grade_num loan_grade   apr  36_mo  60_mo\n",
       "0         34         A1  6.03   6.78   7.30\n",
       "1         33         A2  6.97   7.99   8.26\n",
       "2         32         A3  7.62   8.99   8.91\n",
       "3         31         A4  8.60   9.98   9.91\n",
       "4         30         A5  9.25  10.99  10.56"
      ]
     },
     "execution_count": 11,
     "metadata": {},
     "output_type": "execute_result"
    }
   ],
   "source": [
    "df_fico_apr = pd.read_csv('data/grade_to_apr.csv')\n",
    "df_fico_apr.head()"
   ]
  },
  {
   "cell_type": "code",
   "execution_count": 12,
   "metadata": {},
   "outputs": [
    {
     "data": {
      "text/plain": [
       "4    10.99\n",
       "Name: 36_mo, dtype: float64"
      ]
     },
     "execution_count": 12,
     "metadata": {},
     "output_type": "execute_result"
    }
   ],
   "source": [
    "df_fico_apr[df_fico_apr['grade_num']==30]['36_mo']"
   ]
  },
  {
   "cell_type": "markdown",
   "metadata": {},
   "source": [
    "# 4.0 Fit Model"
   ]
  },
  {
   "cell_type": "markdown",
   "metadata": {},
   "source": [
    "## 4.1 Prepare Data"
   ]
  },
  {
   "cell_type": "code",
   "execution_count": 13,
   "metadata": {},
   "outputs": [],
   "source": [
    "#target variable\n",
    "target_col = 'loan_status'\n",
    "\n",
    "#training variables\n",
    "X_train = df_train.drop(columns=[target_col])\n",
    "y_train = df_train[target_col]\n",
    "\n",
    "#instantiate smote\n",
    "sm = SMOTE(random_state=42)\n",
    "#apply oversampling to training data\n",
    "X_train, y_train = sm.fit_resample(X_train, y_train)\n",
    "\n",
    "#test variables\n",
    "X_test = df_test.drop(columns=[target_col])\n",
    "y_test = df_test[target_col]"
   ]
  },
  {
   "cell_type": "markdown",
   "metadata": {},
   "source": [
    "## 4.2 Training"
   ]
  },
  {
   "cell_type": "code",
   "execution_count": 14,
   "metadata": {},
   "outputs": [
    {
     "data": {
      "text/plain": [
       "XGBClassifier(base_score=0.5, booster='gbtree', colsample_bylevel=1,\n",
       "              colsample_bynode=1, colsample_bytree=0.9, eta=0.3, gamma=0,\n",
       "              learning_rate=0.1, max_delta_step=0, max_depth=3,\n",
       "              min_child_weight=1, missing=None, n_estimators=100, n_jobs=1,\n",
       "              nthread=None, objective='binary:logistic', random_state=0,\n",
       "              reg_alpha=0, reg_lambda=1, scale_pos_weight=1, seed=None,\n",
       "              silent=None, subsample=1, verbosity=1)"
      ]
     },
     "execution_count": 14,
     "metadata": {},
     "output_type": "execute_result"
    }
   ],
   "source": [
    "#instantiate model\n",
    "clf = xgb.XGBClassifier(colsample_bytree=0.9, eta=0.3, max_depth=3)\n",
    "#fit to data\n",
    "clf.fit(X_train, y_train)\n"
   ]
  },
  {
   "cell_type": "markdown",
   "metadata": {},
   "source": [
    "## 4.3 Predictions"
   ]
  },
  {
   "cell_type": "code",
   "execution_count": 15,
   "metadata": {},
   "outputs": [
    {
     "data": {
      "text/plain": [
       "array([[ 187,  437],\n",
       "       [1700, 9210]])"
      ]
     },
     "execution_count": 15,
     "metadata": {},
     "output_type": "execute_result"
    }
   ],
   "source": [
    "#make predictions\n",
    "y_pred = clf.predict(X_test.values)\n",
    "confusion_matrix(y_test, y_pred)"
   ]
  },
  {
   "cell_type": "code",
   "execution_count": 16,
   "metadata": {},
   "outputs": [],
   "source": [
    "fpr, tpr, thresholds = roc_curve(y_test,\n",
    "                                 clf.predict_proba(X_test.values)[:,1],\n",
    "                                 pos_label=1)"
   ]
  },
  {
   "cell_type": "code",
   "execution_count": 17,
   "metadata": {},
   "outputs": [],
   "source": [
    "precision, recall, thresholds = precision_recall_curve(y_test,\n",
    "                                                       clf.predict_proba(X_test.values)[:,1],\n",
    "                                                       pos_label=1)"
   ]
  },
  {
   "cell_type": "code",
   "execution_count": 18,
   "metadata": {},
   "outputs": [
    {
     "data": {
      "image/png": "[encoded data removed]",
      "text/plain": [
       "<Figure size 432x288 with 1 Axes>"
      ]
     },
     "metadata": {
      "needs_background": "light"
     },
     "output_type": "display_data"
    }
   ],
   "source": [
    "plt.plot(fpr, tpr, label='XGB')\n",
    "plt.plot([0,1], [0,1], label='No Discrimination', linestyle='-', dashes=(5, 5))\n",
    "plt.show()"
   ]
  },
  {
   "cell_type": "code",
   "execution_count": 19,
   "metadata": {},
   "outputs": [
    {
     "name": "stdout",
     "output_type": "stream",
     "text": [
      "xgb_auc: 0.6675232526028814\n"
     ]
    }
   ],
   "source": [
    "xgb_auc = roc_auc_score(y_test, clf.predict_proba(X_test.values)[:,1])\n",
    "print(\"xgb_auc: {}\".format(xgb_auc))"
   ]
  },
  {
   "cell_type": "code",
   "execution_count": 20,
   "metadata": {},
   "outputs": [
    {
     "name": "stdout",
     "output_type": "stream",
     "text": [
      "f1_xgb (binary): 0.896045142773751\n",
      "\n",
      "              precision    recall  f1-score   support\n",
      "\n",
      "           0       0.10      0.30      0.15       624\n",
      "           1       0.95      0.84      0.90     10910\n",
      "\n",
      "    accuracy                           0.81     11534\n",
      "   macro avg       0.53      0.57      0.52     11534\n",
      "weighted avg       0.91      0.81      0.86     11534\n",
      "\n"
     ]
    }
   ],
   "source": [
    "f1_xgb = f1_score(y_test, y_pred)\n",
    "\n",
    "print(\"f1_xgb (binary): {}\\n\".format(f1_xgb))\n",
    "print(classification_report(y_test, y_pred))"
   ]
  },
  {
   "cell_type": "markdown",
   "metadata": {},
   "source": [
    "## 4.4 Save Model"
   ]
  },
  {
   "cell_type": "code",
   "execution_count": 21,
   "metadata": {},
   "outputs": [
    {
     "name": "stdout",
     "output_type": "stream",
     "text": [
      "Saving model at: models/xgb_cv_compact.pkl\n"
     ]
    }
   ],
   "source": [
    "#define location to save trained model\n",
    "save_model_dir = os.path.join('models','xgb_cv_compact.pkl')\n",
    "print(\"Saving model at: {}\".format(save_model_dir))\n",
    "\n",
    "#save the model\n",
    "with open(save_model_dir, 'wb') as handle:\n",
    "    pickle.dump(clf,\n",
    "                handle)"
   ]
  },
  {
   "cell_type": "markdown",
   "metadata": {},
   "source": [
    "# 5.0 Case by Case Timing"
   ]
  },
  {
   "cell_type": "code",
   "execution_count": 22,
   "metadata": {},
   "outputs": [
    {
     "data": {
      "text/html": [
       "<div>\n",
       "<style scoped>\n",
       "    .dataframe tbody tr th:only-of-type {\n",
       "        vertical-align: middle;\n",
       "    }\n",
       "\n",
       "    .dataframe tbody tr th {\n",
       "        vertical-align: top;\n",
       "    }\n",
       "\n",
       "    .dataframe thead th {\n",
       "        text-align: right;\n",
       "    }\n",
       "</style>\n",
       "<table border=\"1\" class=\"dataframe\">\n",
       "  <thead>\n",
       "    <tr style=\"text-align: right;\">\n",
       "      <th></th>\n",
       "      <th>pred_time</th>\n",
       "      <th>y_pred</th>\n",
       "      <th>y_true</th>\n",
       "    </tr>\n",
       "  </thead>\n",
       "  <tbody>\n",
       "    <tr>\n",
       "      <th>0</th>\n",
       "      <td>3754</td>\n",
       "      <td>1</td>\n",
       "      <td>1</td>\n",
       "    </tr>\n",
       "    <tr>\n",
       "      <th>1</th>\n",
       "      <td>327</td>\n",
       "      <td>0</td>\n",
       "      <td>1</td>\n",
       "    </tr>\n",
       "    <tr>\n",
       "      <th>2</th>\n",
       "      <td>198</td>\n",
       "      <td>0</td>\n",
       "      <td>1</td>\n",
       "    </tr>\n",
       "    <tr>\n",
       "      <th>3</th>\n",
       "      <td>192</td>\n",
       "      <td>1</td>\n",
       "      <td>1</td>\n",
       "    </tr>\n",
       "    <tr>\n",
       "      <th>4</th>\n",
       "      <td>187</td>\n",
       "      <td>1</td>\n",
       "      <td>1</td>\n",
       "    </tr>\n",
       "  </tbody>\n",
       "</table>\n",
       "</div>"
      ],
      "text/plain": [
       "   pred_time  y_pred  y_true\n",
       "0       3754       1       1\n",
       "1        327       0       1\n",
       "2        198       0       1\n",
       "3        192       1       1\n",
       "4        187       1       1"
      ]
     },
     "execution_count": 22,
     "metadata": {},
     "output_type": "execute_result"
    }
   ],
   "source": [
    "predictions_list = []\n",
    "\n",
    "for x, y in zip(X_test.values, y_test):\n",
    "    start  = datetime.now()\n",
    "    pred = clf.predict(x.reshape(1, -1))[0]\n",
    "    delta = (datetime.now() - start).microseconds\n",
    "    pred_dict = {'y_true': y, 'y_pred': pred, 'pred_time': delta}\n",
    "    predictions_list.append(pred_dict)\n",
    "    \n",
    "pred_df = pd.DataFrame(predictions_list)\n",
    "\n",
    "pred_df.head()"
   ]
  },
  {
   "cell_type": "code",
   "execution_count": 23,
   "metadata": {},
   "outputs": [
    {
     "data": {
      "text/html": [
       "<div>\n",
       "<style scoped>\n",
       "    .dataframe tbody tr th:only-of-type {\n",
       "        vertical-align: middle;\n",
       "    }\n",
       "\n",
       "    .dataframe tbody tr th {\n",
       "        vertical-align: top;\n",
       "    }\n",
       "\n",
       "    .dataframe thead th {\n",
       "        text-align: right;\n",
       "    }\n",
       "</style>\n",
       "<table border=\"1\" class=\"dataframe\">\n",
       "  <thead>\n",
       "    <tr style=\"text-align: right;\">\n",
       "      <th></th>\n",
       "      <th>pred_time</th>\n",
       "      <th>y_pred</th>\n",
       "      <th>y_true</th>\n",
       "    </tr>\n",
       "  </thead>\n",
       "  <tbody>\n",
       "    <tr>\n",
       "      <th>count</th>\n",
       "      <td>11534.000000</td>\n",
       "      <td>11534.000000</td>\n",
       "      <td>11534.000000</td>\n",
       "    </tr>\n",
       "    <tr>\n",
       "      <th>mean</th>\n",
       "      <td>155.172707</td>\n",
       "      <td>0.836397</td>\n",
       "      <td>0.945899</td>\n",
       "    </tr>\n",
       "    <tr>\n",
       "      <th>std</th>\n",
       "      <td>46.939933</td>\n",
       "      <td>0.369931</td>\n",
       "      <td>0.226227</td>\n",
       "    </tr>\n",
       "    <tr>\n",
       "      <th>min</th>\n",
       "      <td>142.000000</td>\n",
       "      <td>0.000000</td>\n",
       "      <td>0.000000</td>\n",
       "    </tr>\n",
       "    <tr>\n",
       "      <th>25%</th>\n",
       "      <td>146.000000</td>\n",
       "      <td>1.000000</td>\n",
       "      <td>1.000000</td>\n",
       "    </tr>\n",
       "    <tr>\n",
       "      <th>50%</th>\n",
       "      <td>147.000000</td>\n",
       "      <td>1.000000</td>\n",
       "      <td>1.000000</td>\n",
       "    </tr>\n",
       "    <tr>\n",
       "      <th>75%</th>\n",
       "      <td>150.000000</td>\n",
       "      <td>1.000000</td>\n",
       "      <td>1.000000</td>\n",
       "    </tr>\n",
       "    <tr>\n",
       "      <th>max</th>\n",
       "      <td>3754.000000</td>\n",
       "      <td>1.000000</td>\n",
       "      <td>1.000000</td>\n",
       "    </tr>\n",
       "  </tbody>\n",
       "</table>\n",
       "</div>"
      ],
      "text/plain": [
       "          pred_time        y_pred        y_true\n",
       "count  11534.000000  11534.000000  11534.000000\n",
       "mean     155.172707      0.836397      0.945899\n",
       "std       46.939933      0.369931      0.226227\n",
       "min      142.000000      0.000000      0.000000\n",
       "25%      146.000000      1.000000      1.000000\n",
       "50%      147.000000      1.000000      1.000000\n",
       "75%      150.000000      1.000000      1.000000\n",
       "max     3754.000000      1.000000      1.000000"
      ]
     },
     "execution_count": 23,
     "metadata": {},
     "output_type": "execute_result"
    }
   ],
   "source": [
    "pred_df.describe()"
   ]
  },
  {
   "cell_type": "code",
   "execution_count": 24,
   "metadata": {},
   "outputs": [
    {
     "data": {
      "image/png": "[encoded data removed]",
      "text/plain": [
       "<Figure size 432x288 with 1 Axes>"
      ]
     },
     "metadata": {
      "needs_background": "light"
     },
     "output_type": "display_data"
    }
   ],
   "source": [
    "plt.hist(pred_df['pred_time'], bins=np.arange(100, 255, 5))\n",
    "plt.xlabel(\"Prediction Time (microseconds)\")\n",
    "plt.show()"
   ]
  },
  {
   "cell_type": "markdown",
   "metadata": {},
   "source": [
    "## 6.0 Custom Input "
   ]
  },
  {
   "cell_type": "code",
   "execution_count": 25,
   "metadata": {},
   "outputs": [
    {
     "data": {
      "text/plain": [
       "Index(['pub_rec', 'grade', 'purp_renewable_energy', 'revol_bal', 'open_acc',\n",
       "       'mort_acc', 'purp_credit_card', 'purp_car', 'e_exec',\n",
       "       'verification_status', 'purp_other', 'e_other', 'home_ownership',\n",
       "       'e_educ', 'loan_status', 'emp_length', 'e_driver', 'revol_util',\n",
       "       'purp_moving', 'loan_amnt', 'time_delta', 'e_law', 'e_health', 'e_fin',\n",
       "       'purp_small_business', 'sub_grade', 'application_type', 'dti',\n",
       "       'e_manager', 'purp_major_purchase', 'pub_rec_bankruptcies',\n",
       "       'purp_house', 'term', 'installment', 'total_acc', 'e_admin',\n",
       "       'purp_medical', 'purp_vacation', 'e_self', 'purp_debt_consolidation',\n",
       "       'int_rate', 'annual_inc', 'purp_home_improvement'],\n",
       "      dtype='object')"
      ]
     },
     "execution_count": 25,
     "metadata": {},
     "output_type": "execute_result"
    }
   ],
   "source": [
    "df_train.columns"
   ]
  },
  {
   "cell_type": "markdown",
   "metadata": {},
   "source": [
    "Ask user for:\n",
    "- FICO score\n",
    "- loan_amount\n",
    "- term\n",
    "- dti\n",
    "- home_ownership\n",
    "- mort_acc: number of mortage accounts \n",
    "- annual_inc\n",
    "- open_acc: number of open credit lines\n",
    "- employment\n",
    "- verification_status: loan verified or not \n",
    "- revol_bal\n",
    "- revol_util: Revolving linΩ utilization rate, or the amount of credit the borrower is using relative to all available revolving credit\n",
    "- pub_rec\n",
    "- emp_length\n",
    "- purpose\n",
    "\n",
    "\n",
    "calculate:\n",
    "- sub_grade\n",
    "- grade\n",
    "- installment\n",
    "- int_rate\n"
   ]
  },
  {
   "cell_type": "code",
   "execution_count": 26,
   "metadata": {},
   "outputs": [],
   "source": [
    "def emp_title_to_dict(e_title):\n",
    "    #force make string if not and make lower\n",
    "    title_lower = str(e_title).lower()\n",
    "    \n",
    "    #list of employment types to consider\n",
    "    emp_list = ['e_manager', 'e_educ', 'e_self',\n",
    "                'e_health', 'e_exec', 'e_driver',\n",
    "                'e_law', 'e_admin', 'e_fin', 'e_other']\n",
    "    \n",
    "    #instantiate title dict\n",
    "    title_dict = dict(zip(emp_list, len(emp_list)*[0]))\n",
    "    \n",
    "    #check and fill out dict\n",
    "    if any(job in title_lower for job in ['manag', 'superv']):\n",
    "        title_dict['e_manager'] = 1\n",
    "        \n",
    "    elif 'teacher' in title_lower:\n",
    "        title_dict['e_educ'] = 1\n",
    "\n",
    "    elif 'owner' in title_lower:\n",
    "        title_dict['e_self'] = 1\n",
    "    \n",
    "    elif any(job in title_lower for job in ['rn', 'registered nurse', 'nurse',\n",
    "                                          'doctor', 'pharm', 'medic']):\n",
    "        title_dict['e_health'] = 1\n",
    "    \n",
    "    elif any(job in title_lower for job in ['vice president', 'president', 'director',\n",
    "                                          'exec', 'chief']):\n",
    "        title_dict['e_exec'] = 1\n",
    "        \n",
    "    elif any(job in title_lower for job in ['driver', 'trucker']):\n",
    "        title_dict['e_driver'] = 1   \n",
    "    \n",
    "    elif any(job in title_lower for job in ['lawyer', 'legal', 'judg']):\n",
    "        title_dict['e_law'] = 1    \n",
    "    \n",
    "    elif 'admin' in title_lower:\n",
    "        title_dict['e_admin'] = 1    \n",
    "    \n",
    "    elif any(job in title_lower for job in ['analyst', 'financ', 'sales']):\n",
    "        title_dict['e_fin'] = 1\n",
    "    else:\n",
    "        title_dict['e_other'] = 1\n",
    "    \n",
    "    return title_dict\n",
    "\n",
    "\n",
    "\n",
    "def purp_to_int(title):\n",
    "\n",
    "    \n",
    "    #force make string if not and make lower\n",
    "    title_lower = str(title).lower()\n",
    "    \n",
    "    #list of employment types to consider\n",
    "    title_list = ['purp_car', 'purp_credit_card', 'purp_debt_consolidation',\n",
    "                  'purp_educational', 'purp_home_improvement',\n",
    "                  'purp_house', 'purp_major_purchase', 'purp_medical',\n",
    "                  'purp_moving', 'purp_other', 'purp_renewable_energy',\n",
    "                  'purp_small_business', 'purp_vacation', 'purp_wedding']\n",
    "    \n",
    "    #instantiate title dict\n",
    "    title_dict = dict(zip(title_list,\n",
    "                          len(title_list)*[0]))\n",
    "    #check if any shared items\n",
    "    for key in title_dict:\n",
    "        if bool(set(title_lower.split()) & set(key.split('_'))):\n",
    "            title_dict[key] = 1\n",
    "    \n",
    "    return title_dict\n",
    "\n",
    "home_to_int = {'MORTGAGE': 4,\n",
    "               'RENT': 3,\n",
    "               'OWN': 5,         \n",
    "               'ANY': 2,            \n",
    "               'OTHER': 1,          \n",
    "               'NONE':0 }"
   ]
  },
  {
   "cell_type": "code",
   "execution_count": 27,
   "metadata": {},
   "outputs": [],
   "source": [
    "#get input\n",
    "fico = 750\n",
    "loan_amnt = 6000\n",
    "term = 36\n",
    "dti = 20\n",
    "home_ownership = 'rent'\n",
    "mort_acc = 5\n",
    "annual_inc = 50_000\n",
    "open_acc = 5\n",
    "employment = 'nurse'\n",
    "verification_status = 1\n",
    "revol_bal = 14_000\n",
    "revol_util = 60\n",
    "pub_rec = 0\n",
    "emp_length = 10\n",
    "application_type = 0\n",
    "emp_title = 'sales'\n",
    "purpose = 'wedding'\n",
    "pub_rec_bankruptcies = 0\n",
    "        \n",
    "    \n",
    "#calculate grade from FICO\n",
    "sub_grade = knn.predict(np.reshape([fico], (1,-1)))[0]\n",
    "#calculate grade\n",
    "grade = round(sub_grade/5) + 1\n",
    "        \n",
    "#get purpose of loan\n",
    "title_dict = emp_title_to_dict(emp_title)\n",
    "        \n",
    "#get purpose dict\n",
    "purp_dict = purp_to_int(purpose)\n",
    "        \n",
    "#get interest rate\n",
    "apr_row = df_fico_apr[df_fico_apr['grade_num']==sub_grade]\n",
    "        \n",
    "if term<=36:\n",
    "    int_rate = apr_row['36_mo'].values[0]\n",
    "    installment = float(loan_amnt)/36\n",
    "            \n",
    "else:\n",
    "    int_rate = apr_row['60'].values[0]\n",
    "    installment = float(loan_amnt)/60"
   ]
  },
  {
   "cell_type": "code",
   "execution_count": 28,
   "metadata": {},
   "outputs": [
    {
     "data": {
      "text/plain": [
       "10.99"
      ]
     },
     "execution_count": 28,
     "metadata": {},
     "output_type": "execute_result"
    }
   ],
   "source": [
    "apr_row['36_mo'].values[0]"
   ]
  },
  {
   "cell_type": "code",
   "execution_count": 29,
   "metadata": {},
   "outputs": [
    {
     "data": {
      "text/plain": [
       "(1, 42)"
      ]
     },
     "execution_count": 29,
     "metadata": {},
     "output_type": "execute_result"
    }
   ],
   "source": [
    "title_df = pd.DataFrame({k: [v] for k, v in title_dict.items()})\n",
    "purp_df = pd.DataFrame({k: [v] for k, v in purp_dict.items()})\n",
    "temp =pd.concat([title_df, purp_df], axis=1)\n",
    "\n",
    "#temp['fico'] = fico\n",
    "temp['loan_amnt'] = loan_amnt\n",
    "temp['term'] = term\n",
    "temp['dti'] = dti\n",
    "temp['home_ownership'] = home_to_int[home_ownership.upper()]\n",
    "temp['mort_acc'] = mort_acc\n",
    "temp['annual_inc'] = annual_inc\n",
    "temp['open_acc'] = open_acc\n",
    "temp['verification_status'] = verification_status\n",
    "temp['revol_bal'] = revol_bal\n",
    "temp['revol_util'] = revol_util\n",
    "temp['pub_rec'] = pub_rec\n",
    "temp['emp_length'] = emp_length\n",
    "temp['application_type'] = application_type\n",
    "temp['int_rate'] = int_rate\n",
    "temp['installment'] = installment\n",
    "temp['grade'] = grade\n",
    "temp['sub_grade'] = sub_grade\n",
    "temp['time_delta'] = 20\n",
    "temp['pub_rec_bankruptcies'] = pub_rec_bankruptcies\n",
    "temp['total_acc'] = 1\n",
    "\n",
    "temp = temp[df_train.drop(columns=['loan_status']).columns]\n",
    "\n",
    "temp.shape"
   ]
  },
  {
   "cell_type": "code",
   "execution_count": 30,
   "metadata": {},
   "outputs": [
    {
     "data": {
      "text/html": [
       "<div>\n",
       "<style scoped>\n",
       "    .dataframe tbody tr th:only-of-type {\n",
       "        vertical-align: middle;\n",
       "    }\n",
       "\n",
       "    .dataframe tbody tr th {\n",
       "        vertical-align: top;\n",
       "    }\n",
       "\n",
       "    .dataframe thead th {\n",
       "        text-align: right;\n",
       "    }\n",
       "</style>\n",
       "<table border=\"1\" class=\"dataframe\">\n",
       "  <thead>\n",
       "    <tr style=\"text-align: right;\">\n",
       "      <th></th>\n",
       "      <th>pub_rec</th>\n",
       "      <th>grade</th>\n",
       "      <th>purp_renewable_energy</th>\n",
       "      <th>revol_bal</th>\n",
       "      <th>open_acc</th>\n",
       "      <th>mort_acc</th>\n",
       "      <th>purp_credit_card</th>\n",
       "      <th>purp_car</th>\n",
       "      <th>e_exec</th>\n",
       "      <th>verification_status</th>\n",
       "      <th>...</th>\n",
       "      <th>installment</th>\n",
       "      <th>total_acc</th>\n",
       "      <th>e_admin</th>\n",
       "      <th>purp_medical</th>\n",
       "      <th>purp_vacation</th>\n",
       "      <th>e_self</th>\n",
       "      <th>purp_debt_consolidation</th>\n",
       "      <th>int_rate</th>\n",
       "      <th>annual_inc</th>\n",
       "      <th>purp_home_improvement</th>\n",
       "    </tr>\n",
       "  </thead>\n",
       "  <tbody>\n",
       "    <tr>\n",
       "      <th>0</th>\n",
       "      <td>0</td>\n",
       "      <td>7.0</td>\n",
       "      <td>0</td>\n",
       "      <td>14000</td>\n",
       "      <td>5</td>\n",
       "      <td>5</td>\n",
       "      <td>0</td>\n",
       "      <td>0</td>\n",
       "      <td>0</td>\n",
       "      <td>1</td>\n",
       "      <td>...</td>\n",
       "      <td>166.666667</td>\n",
       "      <td>1</td>\n",
       "      <td>0</td>\n",
       "      <td>0</td>\n",
       "      <td>0</td>\n",
       "      <td>0</td>\n",
       "      <td>0</td>\n",
       "      <td>10.99</td>\n",
       "      <td>50000</td>\n",
       "      <td>0</td>\n",
       "    </tr>\n",
       "  </tbody>\n",
       "</table>\n",
       "<p>1 rows × 42 columns</p>\n",
       "</div>"
      ],
      "text/plain": [
       "   pub_rec  grade  purp_renewable_energy  revol_bal  open_acc  mort_acc  \\\n",
       "0        0    7.0                      0      14000         5         5   \n",
       "\n",
       "   purp_credit_card  purp_car  e_exec  verification_status  \\\n",
       "0                 0         0       0                    1   \n",
       "\n",
       "           ...            installment  total_acc  e_admin  purp_medical  \\\n",
       "0          ...             166.666667          1        0             0   \n",
       "\n",
       "   purp_vacation  e_self  purp_debt_consolidation  int_rate  annual_inc  \\\n",
       "0              0       0                        0     10.99       50000   \n",
       "\n",
       "   purp_home_improvement  \n",
       "0                      0  \n",
       "\n",
       "[1 rows x 42 columns]"
      ]
     },
     "execution_count": 30,
     "metadata": {},
     "output_type": "execute_result"
    }
   ],
   "source": [
    "temp = temp[['pub_rec', 'grade', 'purp_renewable_energy', 'revol_bal', 'open_acc',\n",
    "       'mort_acc', 'purp_credit_card', 'purp_car', 'e_exec',\n",
    "       'verification_status', 'purp_other', 'e_other', 'home_ownership',\n",
    "       'e_educ', 'emp_length', 'e_driver', 'revol_util',\n",
    "       'purp_moving', 'loan_amnt', 'time_delta', 'e_law', 'e_health', 'e_fin',\n",
    "       'purp_small_business', 'sub_grade', 'application_type', 'dti',\n",
    "       'e_manager', 'purp_major_purchase', 'pub_rec_bankruptcies',\n",
    "       'purp_house', 'term', 'installment', 'total_acc', 'e_admin',\n",
    "       'purp_medical', 'purp_vacation', 'e_self', 'purp_debt_consolidation',\n",
    "       'int_rate', 'annual_inc', 'purp_home_improvement']]\n",
    "\n",
    "temp.head()"
   ]
  },
  {
   "cell_type": "code",
   "execution_count": 31,
   "metadata": {},
   "outputs": [
    {
     "data": {
      "text/plain": [
       "(2062084, 42)"
      ]
     },
     "execution_count": 31,
     "metadata": {},
     "output_type": "execute_result"
    }
   ],
   "source": [
    "X_train.shape"
   ]
  },
  {
   "cell_type": "code",
   "execution_count": 32,
   "metadata": {},
   "outputs": [],
   "source": [
    "df_macro_mean  = pd.read_csv('data/df_macro_mean.csv', index_col=0)\n",
    "\n",
    "df_macro_std = pd.read_csv('data/df_macro_std.csv', index_col=0)\n"
   ]
  },
  {
   "cell_type": "code",
   "execution_count": 33,
   "metadata": {},
   "outputs": [
    {
     "data": {
      "text/html": [
       "<div>\n",
       "<style scoped>\n",
       "    .dataframe tbody tr th:only-of-type {\n",
       "        vertical-align: middle;\n",
       "    }\n",
       "\n",
       "    .dataframe tbody tr th {\n",
       "        vertical-align: top;\n",
       "    }\n",
       "\n",
       "    .dataframe thead th {\n",
       "        text-align: right;\n",
       "    }\n",
       "</style>\n",
       "<table border=\"1\" class=\"dataframe\">\n",
       "  <thead>\n",
       "    <tr style=\"text-align: right;\">\n",
       "      <th></th>\n",
       "      <th>loan_amnt</th>\n",
       "      <th>term</th>\n",
       "      <th>int_rate</th>\n",
       "      <th>installment</th>\n",
       "      <th>grade</th>\n",
       "      <th>sub_grade</th>\n",
       "      <th>emp_length</th>\n",
       "      <th>home_ownership</th>\n",
       "      <th>annual_inc</th>\n",
       "      <th>open_acc</th>\n",
       "      <th>revol_bal</th>\n",
       "      <th>dti</th>\n",
       "      <th>total_acc</th>\n",
       "      <th>mort_acc</th>\n",
       "      <th>time_delta</th>\n",
       "    </tr>\n",
       "    <tr>\n",
       "      <th>zip_2</th>\n",
       "      <th></th>\n",
       "      <th></th>\n",
       "      <th></th>\n",
       "      <th></th>\n",
       "      <th></th>\n",
       "      <th></th>\n",
       "      <th></th>\n",
       "      <th></th>\n",
       "      <th></th>\n",
       "      <th></th>\n",
       "      <th></th>\n",
       "      <th></th>\n",
       "      <th></th>\n",
       "      <th></th>\n",
       "      <th></th>\n",
       "    </tr>\n",
       "  </thead>\n",
       "  <tbody>\n",
       "    <tr>\n",
       "      <th>0</th>\n",
       "      <td>15817.500000</td>\n",
       "      <td>1.300000</td>\n",
       "      <td>13.001000</td>\n",
       "      <td>482.474000</td>\n",
       "      <td>5.300000</td>\n",
       "      <td>23.200000</td>\n",
       "      <td>7.300000</td>\n",
       "      <td>3.900000</td>\n",
       "      <td>77400.000000</td>\n",
       "      <td>11.100000</td>\n",
       "      <td>14004.700000</td>\n",
       "      <td>18.074000</td>\n",
       "      <td>28.100000</td>\n",
       "      <td>1.200000</td>\n",
       "      <td>6142.000000</td>\n",
       "    </tr>\n",
       "    <tr>\n",
       "      <th>1</th>\n",
       "      <td>15361.415220</td>\n",
       "      <td>1.268147</td>\n",
       "      <td>12.803955</td>\n",
       "      <td>462.144017</td>\n",
       "      <td>5.363081</td>\n",
       "      <td>23.899515</td>\n",
       "      <td>6.301173</td>\n",
       "      <td>3.707259</td>\n",
       "      <td>80454.829590</td>\n",
       "      <td>11.821025</td>\n",
       "      <td>18144.884056</td>\n",
       "      <td>17.350918</td>\n",
       "      <td>24.955168</td>\n",
       "      <td>1.693556</td>\n",
       "      <td>5978.337854</td>\n",
       "    </tr>\n",
       "    <tr>\n",
       "      <th>2</th>\n",
       "      <td>14809.246154</td>\n",
       "      <td>1.242272</td>\n",
       "      <td>12.839088</td>\n",
       "      <td>449.497686</td>\n",
       "      <td>5.361373</td>\n",
       "      <td>23.849941</td>\n",
       "      <td>6.041893</td>\n",
       "      <td>3.581065</td>\n",
       "      <td>79299.406929</td>\n",
       "      <td>11.589302</td>\n",
       "      <td>17669.103763</td>\n",
       "      <td>16.757010</td>\n",
       "      <td>24.290320</td>\n",
       "      <td>1.390580</td>\n",
       "      <td>5821.610888</td>\n",
       "    </tr>\n",
       "    <tr>\n",
       "      <th>3</th>\n",
       "      <td>14376.356527</td>\n",
       "      <td>1.239706</td>\n",
       "      <td>12.859303</td>\n",
       "      <td>434.978950</td>\n",
       "      <td>5.352378</td>\n",
       "      <td>23.818385</td>\n",
       "      <td>6.414459</td>\n",
       "      <td>3.746888</td>\n",
       "      <td>77424.508513</td>\n",
       "      <td>11.523141</td>\n",
       "      <td>17445.314874</td>\n",
       "      <td>18.958433</td>\n",
       "      <td>25.313278</td>\n",
       "      <td>1.815512</td>\n",
       "      <td>6025.756463</td>\n",
       "    </tr>\n",
       "    <tr>\n",
       "      <th>4</th>\n",
       "      <td>13856.960621</td>\n",
       "      <td>1.229063</td>\n",
       "      <td>12.868347</td>\n",
       "      <td>420.335269</td>\n",
       "      <td>5.336661</td>\n",
       "      <td>23.698281</td>\n",
       "      <td>6.463117</td>\n",
       "      <td>3.866334</td>\n",
       "      <td>66706.723566</td>\n",
       "      <td>11.231281</td>\n",
       "      <td>15859.820300</td>\n",
       "      <td>19.801525</td>\n",
       "      <td>24.908486</td>\n",
       "      <td>1.858014</td>\n",
       "      <td>6212.874099</td>\n",
       "    </tr>\n",
       "  </tbody>\n",
       "</table>\n",
       "</div>"
      ],
      "text/plain": [
       "          loan_amnt      term   int_rate  installment     grade  sub_grade  \\\n",
       "zip_2                                                                        \n",
       "0      15817.500000  1.300000  13.001000   482.474000  5.300000  23.200000   \n",
       "1      15361.415220  1.268147  12.803955   462.144017  5.363081  23.899515   \n",
       "2      14809.246154  1.242272  12.839088   449.497686  5.361373  23.849941   \n",
       "3      14376.356527  1.239706  12.859303   434.978950  5.352378  23.818385   \n",
       "4      13856.960621  1.229063  12.868347   420.335269  5.336661  23.698281   \n",
       "\n",
       "       emp_length  home_ownership    annual_inc   open_acc     revol_bal  \\\n",
       "zip_2                                                                      \n",
       "0        7.300000        3.900000  77400.000000  11.100000  14004.700000   \n",
       "1        6.301173        3.707259  80454.829590  11.821025  18144.884056   \n",
       "2        6.041893        3.581065  79299.406929  11.589302  17669.103763   \n",
       "3        6.414459        3.746888  77424.508513  11.523141  17445.314874   \n",
       "4        6.463117        3.866334  66706.723566  11.231281  15859.820300   \n",
       "\n",
       "             dti  total_acc  mort_acc   time_delta  \n",
       "zip_2                                               \n",
       "0      18.074000  28.100000  1.200000  6142.000000  \n",
       "1      17.350918  24.955168  1.693556  5978.337854  \n",
       "2      16.757010  24.290320  1.390580  5821.610888  \n",
       "3      18.958433  25.313278  1.815512  6025.756463  \n",
       "4      19.801525  24.908486  1.858014  6212.874099  "
      ]
     },
     "execution_count": 33,
     "metadata": {},
     "output_type": "execute_result"
    }
   ],
   "source": [
    "df_macro_mean.head()"
   ]
  },
  {
   "cell_type": "code",
   "execution_count": 34,
   "metadata": {
    "scrolled": false
   },
   "outputs": [
    {
     "ename": "ModuleNotFoundError",
     "evalue": "No module named 'numpy.core._multiarray_umath'",
     "output_type": "error",
     "traceback": [
      "\u001b[0;31m---------------------------------------------------------------------------\u001b[0m",
      "\u001b[0;31mModuleNotFoundError\u001b[0m                       Traceback (most recent call last)",
      "\u001b[0;31mModuleNotFoundError\u001b[0m: No module named 'numpy.core._multiarray_umath'"
     ]
    },
    {
     "data": {
      "text/html": [
       "<div>\n",
       "<style scoped>\n",
       "    .dataframe tbody tr th:only-of-type {\n",
       "        vertical-align: middle;\n",
       "    }\n",
       "\n",
       "    .dataframe tbody tr th {\n",
       "        vertical-align: top;\n",
       "    }\n",
       "\n",
       "    .dataframe thead th {\n",
       "        text-align: right;\n",
       "    }\n",
       "</style>\n",
       "<table border=\"1\" class=\"dataframe\">\n",
       "  <thead>\n",
       "    <tr style=\"text-align: right;\">\n",
       "      <th></th>\n",
       "      <th>pub_rec</th>\n",
       "      <th>grade</th>\n",
       "      <th>purp_renewable_energy</th>\n",
       "      <th>revol_bal</th>\n",
       "      <th>open_acc</th>\n",
       "      <th>mort_acc</th>\n",
       "      <th>purp_credit_card</th>\n",
       "      <th>purp_car</th>\n",
       "      <th>e_exec</th>\n",
       "      <th>verification_status</th>\n",
       "      <th>...</th>\n",
       "      <th>installment</th>\n",
       "      <th>total_acc</th>\n",
       "      <th>e_admin</th>\n",
       "      <th>purp_medical</th>\n",
       "      <th>purp_vacation</th>\n",
       "      <th>e_self</th>\n",
       "      <th>purp_debt_consolidation</th>\n",
       "      <th>int_rate</th>\n",
       "      <th>annual_inc</th>\n",
       "      <th>purp_home_improvement</th>\n",
       "    </tr>\n",
       "  </thead>\n",
       "  <tbody>\n",
       "    <tr>\n",
       "      <th>0</th>\n",
       "      <td>0</td>\n",
       "      <td>1.384494</td>\n",
       "      <td>0</td>\n",
       "      <td>-0.155244</td>\n",
       "      <td>-1.216943</td>\n",
       "      <td>1.3574</td>\n",
       "      <td>0</td>\n",
       "      <td>0</td>\n",
       "      <td>0</td>\n",
       "      <td>1</td>\n",
       "      <td>...</td>\n",
       "      <td>-1.053571</td>\n",
       "      <td>-2.086712</td>\n",
       "      <td>0</td>\n",
       "      <td>0</td>\n",
       "      <td>0</td>\n",
       "      <td>0</td>\n",
       "      <td>0</td>\n",
       "      <td>-0.537568</td>\n",
       "      <td>-0.505693</td>\n",
       "      <td>0</td>\n",
       "    </tr>\n",
       "  </tbody>\n",
       "</table>\n",
       "<p>1 rows × 42 columns</p>\n",
       "</div>"
      ],
      "text/plain": [
       "   pub_rec     grade  purp_renewable_energy  revol_bal  open_acc  mort_acc  \\\n",
       "0        0  1.384494                      0  -0.155244 -1.216943    1.3574   \n",
       "\n",
       "   purp_credit_card  purp_car  e_exec  verification_status  \\\n",
       "0                 0         0       0                    1   \n",
       "\n",
       "           ...            installment  total_acc  e_admin  purp_medical  \\\n",
       "0          ...              -1.053571  -2.086712        0             0   \n",
       "\n",
       "   purp_vacation  e_self  purp_debt_consolidation  int_rate  annual_inc  \\\n",
       "0              0       0                        0 -0.537568   -0.505693   \n",
       "\n",
       "   purp_home_improvement  \n",
       "0                      0  \n",
       "\n",
       "[1 rows x 42 columns]"
      ]
     },
     "execution_count": 34,
     "metadata": {},
     "output_type": "execute_result"
    }
   ],
   "source": [
    "scale = temp.copy()\n",
    "code=23\n",
    "\n",
    "for feat in df_macro_mean.columns:\n",
    "    scale[feat] = (scale[feat] - df_macro_mean.loc[code,feat]) / df_macro_std.loc[code,feat]\n",
    "        \n",
    "    \n",
    "\n",
    "scale.head()"
   ]
  },
  {
   "cell_type": "code",
   "execution_count": 35,
   "metadata": {},
   "outputs": [
    {
     "data": {
      "text/plain": [
       "1"
      ]
     },
     "execution_count": 35,
     "metadata": {},
     "output_type": "execute_result"
    }
   ],
   "source": [
    "clf.predict(scale.values)[0]"
   ]
  },
  {
   "cell_type": "code",
   "execution_count": 36,
   "metadata": {},
   "outputs": [
    {
     "data": {
      "text/plain": [
       "{'pub_rec': 0.0,\n",
       " 'grade': 7.0,\n",
       " 'purp_renewable_energy': 0.0,\n",
       " 'revol_bal': 14000.0,\n",
       " 'open_acc': 5.0,\n",
       " 'mort_acc': 5.0,\n",
       " 'purp_credit_card': 0.0,\n",
       " 'purp_car': 0.0,\n",
       " 'e_exec': 0.0,\n",
       " 'verification_status': 1.0,\n",
       " 'purp_other': 0.0,\n",
       " 'e_other': 0.0,\n",
       " 'home_ownership': 3.0,\n",
       " 'e_educ': 0.0,\n",
       " 'emp_length': 10.0,\n",
       " 'e_driver': 0.0,\n",
       " 'revol_util': 60.0,\n",
       " 'purp_moving': 0.0,\n",
       " 'loan_amnt': 6000.0,\n",
       " 'time_delta': 20.0,\n",
       " 'e_law': 0.0,\n",
       " 'e_health': 0.0,\n",
       " 'e_fin': 1.0,\n",
       " 'purp_small_business': 0.0,\n",
       " 'sub_grade': 30.0,\n",
       " 'application_type': 0.0,\n",
       " 'dti': 20.0,\n",
       " 'e_manager': 0.0,\n",
       " 'purp_major_purchase': 0.0,\n",
       " 'pub_rec_bankruptcies': 0.0,\n",
       " 'purp_house': 0.0,\n",
       " 'term': 36.0,\n",
       " 'installment': 166.66666666666666,\n",
       " 'total_acc': 1.0,\n",
       " 'e_admin': 0.0,\n",
       " 'purp_medical': 0.0,\n",
       " 'purp_vacation': 0.0,\n",
       " 'e_self': 0.0,\n",
       " 'purp_debt_consolidation': 0.0,\n",
       " 'int_rate': 10.99,\n",
       " 'annual_inc': 50000.0,\n",
       " 'purp_home_improvement': 0.0}"
      ]
     },
     "execution_count": 36,
     "metadata": {},
     "output_type": "execute_result"
    }
   ],
   "source": [
    "temp.to_dict(orient='record')[0]"
   ]
  },
  {
   "cell_type": "code",
   "execution_count": 37,
   "metadata": {},
   "outputs": [],
   "source": [
    "clf.save_model('models/clf.pkl')"
   ]
  },
  {
   "cell_type": "code",
   "execution_count": 40,
   "metadata": {},
   "outputs": [
    {
     "data": {
      "text/plain": [
       "'0.21.3'"
      ]
     },
     "execution_count": 40,
     "metadata": {},
     "output_type": "execute_result"
    }
   ],
   "source": [
    "import sklearn\n",
    "sklearn.__version__"
   ]
  },
  {
   "cell_type": "code",
   "execution_count": null,
   "metadata": {},
   "outputs": [],
   "source": []
  }
 ],
 "metadata": {
  "kernelspec": {
   "display_name": "Python 3",
   "language": "python",
   "name": "python3"
  },
  "language_info": {
   "codemirror_mode": {
    "name": "ipython",
    "version": 3
   },
   "file_extension": ".py",
   "mimetype": "text/x-python",
   "name": "python",
   "nbconvert_exporter": "python",
   "pygments_lexer": "ipython3",
   "version": "3.7.4"
  }
 },
 "nbformat": 4,
 "nbformat_minor": 2
}
