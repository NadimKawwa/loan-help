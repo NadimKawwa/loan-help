{
 "cells": [
  {
   "cell_type": "markdown",
   "metadata": {},
   "source": [
    "# Model Selection"
   ]
  },
  {
   "cell_type": "code",
   "execution_count": 1,
   "metadata": {},
   "outputs": [],
   "source": [
    "goog_drive=False\n",
    "\n",
    "if goog_drive:\n",
    "    from google.colab import drive\n",
    "    drive.mount('/content/drive')\n",
    "    goog_dir = '/content/drive/My Drive/lending_club_project/'\n",
    "else:\n",
    "    goog_dir = ''"
   ]
  },
  {
   "cell_type": "code",
   "execution_count": 2,
   "metadata": {},
   "outputs": [],
   "source": [
    "import pandas as pd\n",
    "import numpy as np\n",
    "import matplotlib.pyplot as plt\n",
    "import seaborn as sns\n",
    "import os\n",
    "import pickle\n",
    "\n",
    "from utils import chunk_loader\n",
    "\n",
    "from sklearn.metrics import classification_report, roc_curve, precision_recall_curve, roc_auc_score\n",
    "\n",
    "from sklearn.naive_bayes import MultinomialNB\n",
    "from sklearn.linear_model import LogisticRegression\n",
    "from sklearn.ensemble import GradientBoostingClassifier, RandomForestClassifier\n",
    "from sklearn.neighbors import KNeighborsClassifier\n",
    "from sklearn.svm import SVC\n",
    "\n",
    "import xgboost as xgb\n",
    "\n",
    "%matplotlib inline"
   ]
  },
  {
   "cell_type": "code",
   "execution_count": 3,
   "metadata": {},
   "outputs": [],
   "source": [
    "#directory to save files\n",
    "save_path = os.path.join(goog_dir, 'models')"
   ]
  },
  {
   "cell_type": "markdown",
   "metadata": {},
   "source": [
    "# 1.0  Download the Data"
   ]
  },
  {
   "cell_type": "code",
   "execution_count": 5,
   "metadata": {},
   "outputs": [
    {
     "name": "stderr",
     "output_type": "stream",
     "text": [
      "/Users/nadimkawwa/opt/anaconda3/lib/python3.7/site-packages/numpy/lib/arraysetops.py:522: FutureWarning: elementwise comparison failed; returning scalar instead, but in the future will perform elementwise comparison\n",
      "  mask |= (ar1 == a)\n"
     ]
    }
   ],
   "source": [
    "#get directory\n",
    "df_train_path = os.path.join(goog_dir, 'data','df_train_scaled.csv')\n",
    "df_test_path = os.path.join(goog_dir,'data','df_test_scaled.csv')\n",
    "\n",
    "#download in chunks\n",
    "df_train = pd.read_csv(df_train_path, index_col=0, compression='zip')\n",
    "df_test = pd.read_csv(df_test_path, index_col=0, compression='zip')"
   ]
  },
  {
   "cell_type": "code",
   "execution_count": 6,
   "metadata": {},
   "outputs": [
    {
     "data": {
      "text/plain": [
       "(1292073, 43)"
      ]
     },
     "execution_count": 6,
     "metadata": {},
     "output_type": "execute_result"
    }
   ],
   "source": [
    "df_train.shape"
   ]
  },
  {
   "cell_type": "code",
   "execution_count": 7,
   "metadata": {},
   "outputs": [
    {
     "data": {
      "text/plain": [
       "(11534, 43)"
      ]
     },
     "execution_count": 7,
     "metadata": {},
     "output_type": "execute_result"
    }
   ],
   "source": [
    "df_test.shape"
   ]
  },
  {
   "cell_type": "code",
   "execution_count": 8,
   "metadata": {},
   "outputs": [],
   "source": [
    "target_col = 'loan_status'\n",
    "\n",
    "#feature space\n",
    "X_train = df_train.drop(columns=[target_col])\n",
    "X_test = df_test.drop(columns=[target_col])\n",
    "\n",
    "#target variable\n",
    "y_train = df_train[target_col]\n",
    "y_test = df_test[target_col]\n"
   ]
  },
  {
   "cell_type": "markdown",
   "metadata": {},
   "source": [
    "# 2.0 Defining Our Metrics\n",
    "The dataset is heaviliy imbalanced in favor of the positive class (pays back loan). We will take into account:\n",
    "- Precision\n",
    "- Recall\n",
    "- F1 Score\n",
    "- AUC"
   ]
  },
  {
   "cell_type": "code",
   "execution_count": 9,
   "metadata": {},
   "outputs": [],
   "source": [
    "#ROC dict for TPR and FPR values\n",
    "roc_dict = {}\n",
    "\n",
    "#precision recall curve\n",
    "prc_dict = {}"
   ]
  },
  {
   "cell_type": "code",
   "execution_count": 10,
   "metadata": {},
   "outputs": [],
   "source": [
    "def modify_roc_dict(clf, y_test, X_test, name ,dict_modify):\n",
    "    \"\"\"\n",
    "    modifies a dictionary in place and adds keys for ROC metrics\n",
    "    \"\"\"\n",
    "    \n",
    "    fpr, tpr, thresholds = roc_curve(y_test,\n",
    "                                     clf.predict_proba(X_test)[:,1],\n",
    "                                     pos_label=1)\n",
    "    \n",
    "    \n",
    "    clf_roc_dict = {'fpr':fpr, 'tpr': tpr, 'thresholds': thresholds}\n",
    "    \n",
    "    dict_modify[name] = clf_roc_dict\n",
    "    \n"
   ]
  },
  {
   "cell_type": "code",
   "execution_count": 11,
   "metadata": {},
   "outputs": [],
   "source": [
    "def modify_prc_dict(clf, y_test, X_test, name ,dict_modify):\n",
    "    \"\"\"\n",
    "    modifies a dictionary in place and adds keys for precision recall metrics\n",
    "    \"\"\"\n",
    "    \n",
    "    precision, recall, thresholds = precision_recall_curve(y_test,\n",
    "                                     clf.predict_proba(X_test)[:,1],\n",
    "                                     pos_label=1)\n",
    "    \n",
    "    clf_prc_dict = {'precision':precision, 'recall': recall, 'thresholds': thresholds}\n",
    "    \n",
    "    dict_modify[name] = clf_prc_dict"
   ]
  },
  {
   "cell_type": "markdown",
   "metadata": {},
   "source": [
    "# 3.0 Fit & Score"
   ]
  },
  {
   "cell_type": "code",
   "execution_count": 12,
   "metadata": {},
   "outputs": [],
   "source": [
    "def fit_score_clf(clf, X_train, y_train, X_test, y_test, name='clf'):\n",
    "    \"\"\"\n",
    "    fits a classifer from sklearn and returns a dataframe\n",
    "    clf(sklearn): classifier\n",
    "    X_train(numpy): train features\n",
    "    y_train(numpy): predictions row vector\n",
    "    X_test(numpy): test features\n",
    "    y_test(numpy): ground truth row vector\n",
    "    name(string): name of classifier\n",
    "    \n",
    "    \"\"\"\n",
    "    #fit to train data\n",
    "    clf.fit(X_train, y_train)\n",
    "    #make predictions\n",
    "    y_pred = clf.predict(X_test)\n",
    "    #make dataframe from report\n",
    "    clf_report = pd.DataFrame(classification_report(y_test, y_pred, output_dict=True))\n",
    "    #add clf name as column\n",
    "    clf_report['clf'] = name\n",
    "    \n",
    "    return clf_report"
   ]
  },
  {
   "cell_type": "markdown",
   "metadata": {},
   "source": [
    "## 3.1 Naive Bayes\n",
    "Worth mentioning but not used since in our scaling of the data produces negative values. Naive Bayes does not accept negative values, for reference see article below:\n",
    "\n",
    "https://stats.stackexchange.com/questions/169400/naive-bayes-questions-continus-data-negative-data-and-multinomialnb-in-scikit\n"
   ]
  },
  {
   "cell_type": "markdown",
   "metadata": {},
   "source": [
    "## 3.2 Logistic Regression"
   ]
  },
  {
   "cell_type": "code",
   "execution_count": 13,
   "metadata": {},
   "outputs": [
    {
     "data": {
      "text/html": [
       "<div>\n",
       "<style scoped>\n",
       "    .dataframe tbody tr th:only-of-type {\n",
       "        vertical-align: middle;\n",
       "    }\n",
       "\n",
       "    .dataframe tbody tr th {\n",
       "        vertical-align: top;\n",
       "    }\n",
       "\n",
       "    .dataframe thead th {\n",
       "        text-align: right;\n",
       "    }\n",
       "</style>\n",
       "<table border=\"1\" class=\"dataframe\">\n",
       "  <thead>\n",
       "    <tr style=\"text-align: right;\">\n",
       "      <th></th>\n",
       "      <th>0</th>\n",
       "      <th>1</th>\n",
       "      <th>accuracy</th>\n",
       "      <th>macro avg</th>\n",
       "      <th>weighted avg</th>\n",
       "      <th>clf</th>\n",
       "    </tr>\n",
       "  </thead>\n",
       "  <tbody>\n",
       "    <tr>\n",
       "      <th>f1-score</th>\n",
       "      <td>0.098988</td>\n",
       "      <td>0.963885</td>\n",
       "      <td>0.930553</td>\n",
       "      <td>0.531436</td>\n",
       "      <td>0.917093</td>\n",
       "      <td>lr</td>\n",
       "    </tr>\n",
       "    <tr>\n",
       "      <th>precision</th>\n",
       "      <td>0.166038</td>\n",
       "      <td>0.948531</td>\n",
       "      <td>0.930553</td>\n",
       "      <td>0.557285</td>\n",
       "      <td>0.906198</td>\n",
       "      <td>lr</td>\n",
       "    </tr>\n",
       "    <tr>\n",
       "      <th>recall</th>\n",
       "      <td>0.070513</td>\n",
       "      <td>0.979743</td>\n",
       "      <td>0.930553</td>\n",
       "      <td>0.525128</td>\n",
       "      <td>0.930553</td>\n",
       "      <td>lr</td>\n",
       "    </tr>\n",
       "    <tr>\n",
       "      <th>support</th>\n",
       "      <td>624.000000</td>\n",
       "      <td>10910.000000</td>\n",
       "      <td>0.930553</td>\n",
       "      <td>11534.000000</td>\n",
       "      <td>11534.000000</td>\n",
       "      <td>lr</td>\n",
       "    </tr>\n",
       "  </tbody>\n",
       "</table>\n",
       "</div>"
      ],
      "text/plain": [
       "                    0             1  accuracy     macro avg  weighted avg clf\n",
       "f1-score     0.098988      0.963885  0.930553      0.531436      0.917093  lr\n",
       "precision    0.166038      0.948531  0.930553      0.557285      0.906198  lr\n",
       "recall       0.070513      0.979743  0.930553      0.525128      0.930553  lr\n",
       "support    624.000000  10910.000000  0.930553  11534.000000  11534.000000  lr"
      ]
     },
     "execution_count": 13,
     "metadata": {},
     "output_type": "execute_result"
    }
   ],
   "source": [
    "#instantiate with default params\n",
    "lr  = LogisticRegression(penalty='l2',\n",
    "                         C=1.0,\n",
    "                         solver = 'lbfgs',\n",
    "                         max_iter=400,\n",
    "                         n_jobs=-1)\n",
    "\n",
    "lr_report = fit_score_clf(lr, X_train, y_train, X_test, y_test, name='lr')\n",
    "lr_report.head()"
   ]
  },
  {
   "cell_type": "code",
   "execution_count": 14,
   "metadata": {},
   "outputs": [],
   "source": [
    "#metrics for lr\n",
    "modify_roc_dict(clf=lr,\n",
    "                y_test=y_test,\n",
    "                X_test=X_test,\n",
    "                name='Logistic Regression', \n",
    "                dict_modify=roc_dict)"
   ]
  },
  {
   "cell_type": "code",
   "execution_count": 15,
   "metadata": {},
   "outputs": [],
   "source": [
    "modify_prc_dict(clf=lr,\n",
    "                y_test=y_test,\n",
    "                X_test=X_test,\n",
    "                name='Logistic Regression',\n",
    "                dict_modify=prc_dict)"
   ]
  },
  {
   "cell_type": "markdown",
   "metadata": {},
   "source": [
    "## 3.3 Gradient Boosted Tree"
   ]
  },
  {
   "cell_type": "code",
   "execution_count": 16,
   "metadata": {},
   "outputs": [
    {
     "data": {
      "text/html": [
       "<div>\n",
       "<style scoped>\n",
       "    .dataframe tbody tr th:only-of-type {\n",
       "        vertical-align: middle;\n",
       "    }\n",
       "\n",
       "    .dataframe tbody tr th {\n",
       "        vertical-align: top;\n",
       "    }\n",
       "\n",
       "    .dataframe thead th {\n",
       "        text-align: right;\n",
       "    }\n",
       "</style>\n",
       "<table border=\"1\" class=\"dataframe\">\n",
       "  <thead>\n",
       "    <tr style=\"text-align: right;\">\n",
       "      <th></th>\n",
       "      <th>0</th>\n",
       "      <th>1</th>\n",
       "      <th>accuracy</th>\n",
       "      <th>macro avg</th>\n",
       "      <th>weighted avg</th>\n",
       "      <th>clf</th>\n",
       "    </tr>\n",
       "  </thead>\n",
       "  <tbody>\n",
       "    <tr>\n",
       "      <th>f1-score</th>\n",
       "      <td>0.083832</td>\n",
       "      <td>0.965592</td>\n",
       "      <td>0.933674</td>\n",
       "      <td>0.524712</td>\n",
       "      <td>0.917888</td>\n",
       "      <td>gbtree</td>\n",
       "    </tr>\n",
       "    <tr>\n",
       "      <th>precision</th>\n",
       "      <td>0.165877</td>\n",
       "      <td>0.947982</td>\n",
       "      <td>0.933674</td>\n",
       "      <td>0.556929</td>\n",
       "      <td>0.905669</td>\n",
       "      <td>gbtree</td>\n",
       "    </tr>\n",
       "    <tr>\n",
       "      <th>recall</th>\n",
       "      <td>0.056090</td>\n",
       "      <td>0.983868</td>\n",
       "      <td>0.933674</td>\n",
       "      <td>0.519979</td>\n",
       "      <td>0.933674</td>\n",
       "      <td>gbtree</td>\n",
       "    </tr>\n",
       "    <tr>\n",
       "      <th>support</th>\n",
       "      <td>624.000000</td>\n",
       "      <td>10910.000000</td>\n",
       "      <td>0.933674</td>\n",
       "      <td>11534.000000</td>\n",
       "      <td>11534.000000</td>\n",
       "      <td>gbtree</td>\n",
       "    </tr>\n",
       "  </tbody>\n",
       "</table>\n",
       "</div>"
      ],
      "text/plain": [
       "                    0             1  accuracy     macro avg  weighted avg  \\\n",
       "f1-score     0.083832      0.965592  0.933674      0.524712      0.917888   \n",
       "precision    0.165877      0.947982  0.933674      0.556929      0.905669   \n",
       "recall       0.056090      0.983868  0.933674      0.519979      0.933674   \n",
       "support    624.000000  10910.000000  0.933674  11534.000000  11534.000000   \n",
       "\n",
       "              clf  \n",
       "f1-score   gbtree  \n",
       "precision  gbtree  \n",
       "recall     gbtree  \n",
       "support    gbtree  "
      ]
     },
     "execution_count": 16,
     "metadata": {},
     "output_type": "execute_result"
    }
   ],
   "source": [
    "gbtree = GradientBoostingClassifier(learning_rate=0.1,\n",
    "                                    n_estimators = 100)\n",
    "\n",
    "gbtree_report = fit_score_clf(gbtree, X_train, y_train, X_test, y_test, name='gbtree')\n",
    "gbtree_report.head()"
   ]
  },
  {
   "cell_type": "code",
   "execution_count": 17,
   "metadata": {},
   "outputs": [],
   "source": [
    "#metrics for gbtree\n",
    "modify_roc_dict(gbtree, y_test, X_test, name='GBTree',dict_modify=roc_dict)"
   ]
  },
  {
   "cell_type": "code",
   "execution_count": 18,
   "metadata": {},
   "outputs": [],
   "source": [
    "modify_prc_dict(clf=gbtree,\n",
    "                y_test=y_test,\n",
    "                X_test=X_test,\n",
    "                name='GBTree',\n",
    "                dict_modify=prc_dict)"
   ]
  },
  {
   "cell_type": "markdown",
   "metadata": {},
   "source": [
    "## 3.4 KNN"
   ]
  },
  {
   "cell_type": "code",
   "execution_count": 19,
   "metadata": {},
   "outputs": [
    {
     "data": {
      "text/html": [
       "<div>\n",
       "<style scoped>\n",
       "    .dataframe tbody tr th:only-of-type {\n",
       "        vertical-align: middle;\n",
       "    }\n",
       "\n",
       "    .dataframe tbody tr th {\n",
       "        vertical-align: top;\n",
       "    }\n",
       "\n",
       "    .dataframe thead th {\n",
       "        text-align: right;\n",
       "    }\n",
       "</style>\n",
       "<table border=\"1\" class=\"dataframe\">\n",
       "  <thead>\n",
       "    <tr style=\"text-align: right;\">\n",
       "      <th></th>\n",
       "      <th>0</th>\n",
       "      <th>1</th>\n",
       "      <th>accuracy</th>\n",
       "      <th>macro avg</th>\n",
       "      <th>weighted avg</th>\n",
       "      <th>clf</th>\n",
       "    </tr>\n",
       "  </thead>\n",
       "  <tbody>\n",
       "    <tr>\n",
       "      <th>f1-score</th>\n",
       "      <td>0.116468</td>\n",
       "      <td>0.934283</td>\n",
       "      <td>0.877666</td>\n",
       "      <td>0.525376</td>\n",
       "      <td>0.890039</td>\n",
       "      <td>KNN</td>\n",
       "    </tr>\n",
       "    <tr>\n",
       "      <th>precision</th>\n",
       "      <td>0.095581</td>\n",
       "      <td>0.949721</td>\n",
       "      <td>0.877666</td>\n",
       "      <td>0.522651</td>\n",
       "      <td>0.903511</td>\n",
       "      <td>KNN</td>\n",
       "    </tr>\n",
       "    <tr>\n",
       "      <th>recall</th>\n",
       "      <td>0.149038</td>\n",
       "      <td>0.919340</td>\n",
       "      <td>0.877666</td>\n",
       "      <td>0.534189</td>\n",
       "      <td>0.877666</td>\n",
       "      <td>KNN</td>\n",
       "    </tr>\n",
       "    <tr>\n",
       "      <th>support</th>\n",
       "      <td>624.000000</td>\n",
       "      <td>10910.000000</td>\n",
       "      <td>0.877666</td>\n",
       "      <td>11534.000000</td>\n",
       "      <td>11534.000000</td>\n",
       "      <td>KNN</td>\n",
       "    </tr>\n",
       "  </tbody>\n",
       "</table>\n",
       "</div>"
      ],
      "text/plain": [
       "                    0             1  accuracy     macro avg  weighted avg  clf\n",
       "f1-score     0.116468      0.934283  0.877666      0.525376      0.890039  KNN\n",
       "precision    0.095581      0.949721  0.877666      0.522651      0.903511  KNN\n",
       "recall       0.149038      0.919340  0.877666      0.534189      0.877666  KNN\n",
       "support    624.000000  10910.000000  0.877666  11534.000000  11534.000000  KNN"
      ]
     },
     "execution_count": 19,
     "metadata": {},
     "output_type": "execute_result"
    }
   ],
   "source": [
    "knn = KNeighborsClassifier(n_neighbors =5, n_jobs=-1)\n",
    "\n",
    "knn_report = fit_score_clf(knn, X_train, y_train, X_test, y_test, name='KNN')\n",
    "knn_report.head()"
   ]
  },
  {
   "cell_type": "code",
   "execution_count": 20,
   "metadata": {},
   "outputs": [],
   "source": [
    "#metrics for knn\n",
    "modify_roc_dict(knn, y_test, X_test, name='KNN',dict_modify=roc_dict)"
   ]
  },
  {
   "cell_type": "code",
   "execution_count": 21,
   "metadata": {},
   "outputs": [],
   "source": [
    "modify_prc_dict(clf=knn,\n",
    "                y_test=y_test,\n",
    "                X_test=X_test,\n",
    "                name='knn',\n",
    "                dict_modify=prc_dict)"
   ]
  },
  {
   "cell_type": "markdown",
   "metadata": {},
   "source": [
    "## 3.5 SVM"
   ]
  },
  {
   "cell_type": "code",
   "execution_count": 22,
   "metadata": {},
   "outputs": [
    {
     "name": "stderr",
     "output_type": "stream",
     "text": [
      "/Users/nadimkawwa/opt/anaconda3/lib/python3.7/site-packages/sklearn/svm/base.py:241: ConvergenceWarning: Solver terminated early (max_iter=400).  Consider pre-processing your data with StandardScaler or MinMaxScaler.\n",
      "  % self.max_iter, ConvergenceWarning)\n"
     ]
    },
    {
     "data": {
      "text/html": [
       "<div>\n",
       "<style scoped>\n",
       "    .dataframe tbody tr th:only-of-type {\n",
       "        vertical-align: middle;\n",
       "    }\n",
       "\n",
       "    .dataframe tbody tr th {\n",
       "        vertical-align: top;\n",
       "    }\n",
       "\n",
       "    .dataframe thead th {\n",
       "        text-align: right;\n",
       "    }\n",
       "</style>\n",
       "<table border=\"1\" class=\"dataframe\">\n",
       "  <thead>\n",
       "    <tr style=\"text-align: right;\">\n",
       "      <th></th>\n",
       "      <th>0</th>\n",
       "      <th>1</th>\n",
       "      <th>accuracy</th>\n",
       "      <th>macro avg</th>\n",
       "      <th>weighted avg</th>\n",
       "      <th>clf</th>\n",
       "    </tr>\n",
       "  </thead>\n",
       "  <tbody>\n",
       "    <tr>\n",
       "      <th>f1-score</th>\n",
       "      <td>0.101986</td>\n",
       "      <td>0.102453</td>\n",
       "      <td>0.10222</td>\n",
       "      <td>0.102219</td>\n",
       "      <td>0.102428</td>\n",
       "      <td>svc</td>\n",
       "    </tr>\n",
       "    <tr>\n",
       "      <th>precision</th>\n",
       "      <td>0.053910</td>\n",
       "      <td>0.942584</td>\n",
       "      <td>0.10222</td>\n",
       "      <td>0.498247</td>\n",
       "      <td>0.894506</td>\n",
       "      <td>svc</td>\n",
       "    </tr>\n",
       "    <tr>\n",
       "      <th>recall</th>\n",
       "      <td>0.942308</td>\n",
       "      <td>0.054170</td>\n",
       "      <td>0.10222</td>\n",
       "      <td>0.498239</td>\n",
       "      <td>0.102220</td>\n",
       "      <td>svc</td>\n",
       "    </tr>\n",
       "    <tr>\n",
       "      <th>support</th>\n",
       "      <td>624.000000</td>\n",
       "      <td>10910.000000</td>\n",
       "      <td>0.10222</td>\n",
       "      <td>11534.000000</td>\n",
       "      <td>11534.000000</td>\n",
       "      <td>svc</td>\n",
       "    </tr>\n",
       "  </tbody>\n",
       "</table>\n",
       "</div>"
      ],
      "text/plain": [
       "                    0             1  accuracy     macro avg  weighted avg  clf\n",
       "f1-score     0.101986      0.102453   0.10222      0.102219      0.102428  svc\n",
       "precision    0.053910      0.942584   0.10222      0.498247      0.894506  svc\n",
       "recall       0.942308      0.054170   0.10222      0.498239      0.102220  svc\n",
       "support    624.000000  10910.000000   0.10222  11534.000000  11534.000000  svc"
      ]
     },
     "execution_count": 22,
     "metadata": {},
     "output_type": "execute_result"
    }
   ],
   "source": [
    "#put hard limit on iterations to save time in exploration phase\n",
    "svc = SVC(C=1.0, kernel='rbf',\n",
    "          gamma='auto', \n",
    "          probability=True,\n",
    "          max_iter=400)\n",
    "\n",
    "svc_report = fit_score_clf(svc, X_train, y_train, X_test, y_test, name='svc')\n",
    "svc_report.head()"
   ]
  },
  {
   "cell_type": "code",
   "execution_count": 23,
   "metadata": {},
   "outputs": [],
   "source": [
    "#metrics for svc\n",
    "modify_roc_dict(svc, y_test, X_test, name='SVC',dict_modify=roc_dict)"
   ]
  },
  {
   "cell_type": "code",
   "execution_count": 24,
   "metadata": {},
   "outputs": [],
   "source": [
    "modify_prc_dict(clf=svc,\n",
    "                y_test=y_test,\n",
    "                X_test=X_test,\n",
    "                name='SVC',\n",
    "                dict_modify=prc_dict)"
   ]
  },
  {
   "cell_type": "markdown",
   "metadata": {},
   "source": [
    "## 3.6 Random Forest"
   ]
  },
  {
   "cell_type": "code",
   "execution_count": 25,
   "metadata": {},
   "outputs": [
    {
     "data": {
      "text/html": [
       "<div>\n",
       "<style scoped>\n",
       "    .dataframe tbody tr th:only-of-type {\n",
       "        vertical-align: middle;\n",
       "    }\n",
       "\n",
       "    .dataframe tbody tr th {\n",
       "        vertical-align: top;\n",
       "    }\n",
       "\n",
       "    .dataframe thead th {\n",
       "        text-align: right;\n",
       "    }\n",
       "</style>\n",
       "<table border=\"1\" class=\"dataframe\">\n",
       "  <thead>\n",
       "    <tr style=\"text-align: right;\">\n",
       "      <th></th>\n",
       "      <th>0</th>\n",
       "      <th>1</th>\n",
       "      <th>accuracy</th>\n",
       "      <th>macro avg</th>\n",
       "      <th>weighted avg</th>\n",
       "      <th>clf</th>\n",
       "    </tr>\n",
       "  </thead>\n",
       "  <tbody>\n",
       "    <tr>\n",
       "      <th>f1-score</th>\n",
       "      <td>0.109989</td>\n",
       "      <td>0.964242</td>\n",
       "      <td>0.931247</td>\n",
       "      <td>0.537116</td>\n",
       "      <td>0.918026</td>\n",
       "      <td>rf</td>\n",
       "    </tr>\n",
       "    <tr>\n",
       "      <th>precision</th>\n",
       "      <td>0.183521</td>\n",
       "      <td>0.948966</td>\n",
       "      <td>0.931247</td>\n",
       "      <td>0.566243</td>\n",
       "      <td>0.907555</td>\n",
       "      <td>rf</td>\n",
       "    </tr>\n",
       "    <tr>\n",
       "      <th>recall</th>\n",
       "      <td>0.078526</td>\n",
       "      <td>0.980018</td>\n",
       "      <td>0.931247</td>\n",
       "      <td>0.529272</td>\n",
       "      <td>0.931247</td>\n",
       "      <td>rf</td>\n",
       "    </tr>\n",
       "    <tr>\n",
       "      <th>support</th>\n",
       "      <td>624.000000</td>\n",
       "      <td>10910.000000</td>\n",
       "      <td>0.931247</td>\n",
       "      <td>11534.000000</td>\n",
       "      <td>11534.000000</td>\n",
       "      <td>rf</td>\n",
       "    </tr>\n",
       "  </tbody>\n",
       "</table>\n",
       "</div>"
      ],
      "text/plain": [
       "                    0             1  accuracy     macro avg  weighted avg clf\n",
       "f1-score     0.109989      0.964242  0.931247      0.537116      0.918026  rf\n",
       "precision    0.183521      0.948966  0.931247      0.566243      0.907555  rf\n",
       "recall       0.078526      0.980018  0.931247      0.529272      0.931247  rf\n",
       "support    624.000000  10910.000000  0.931247  11534.000000  11534.000000  rf"
      ]
     },
     "execution_count": 25,
     "metadata": {},
     "output_type": "execute_result"
    }
   ],
   "source": [
    "rf = RandomForestClassifier(n_estimators=100, n_jobs=-1)\n",
    "\n",
    "rf_report = fit_score_clf(rf, X_train, y_train, X_test, y_test, name='rf')\n",
    "rf_report.head()"
   ]
  },
  {
   "cell_type": "code",
   "execution_count": 26,
   "metadata": {},
   "outputs": [],
   "source": [
    "#metrics for random forest\n",
    "modify_roc_dict(rf, y_test, X_test, name='RandomForest',dict_modify=roc_dict)"
   ]
  },
  {
   "cell_type": "code",
   "execution_count": 27,
   "metadata": {},
   "outputs": [],
   "source": [
    "modify_prc_dict(clf=rf,\n",
    "                y_test=y_test,\n",
    "                X_test=X_test,\n",
    "                name='RandomForest',\n",
    "                dict_modify=prc_dict)"
   ]
  },
  {
   "cell_type": "markdown",
   "metadata": {},
   "source": [
    "## 3.7 XGBoost"
   ]
  },
  {
   "cell_type": "code",
   "execution_count": 28,
   "metadata": {},
   "outputs": [
    {
     "data": {
      "text/html": [
       "<div>\n",
       "<style scoped>\n",
       "    .dataframe tbody tr th:only-of-type {\n",
       "        vertical-align: middle;\n",
       "    }\n",
       "\n",
       "    .dataframe tbody tr th {\n",
       "        vertical-align: top;\n",
       "    }\n",
       "\n",
       "    .dataframe thead th {\n",
       "        text-align: right;\n",
       "    }\n",
       "</style>\n",
       "<table border=\"1\" class=\"dataframe\">\n",
       "  <thead>\n",
       "    <tr style=\"text-align: right;\">\n",
       "      <th></th>\n",
       "      <th>0</th>\n",
       "      <th>1</th>\n",
       "      <th>accuracy</th>\n",
       "      <th>macro avg</th>\n",
       "      <th>weighted avg</th>\n",
       "      <th>clf</th>\n",
       "    </tr>\n",
       "  </thead>\n",
       "  <tbody>\n",
       "    <tr>\n",
       "      <th>f1-score</th>\n",
       "      <td>0.100559</td>\n",
       "      <td>0.963695</td>\n",
       "      <td>0.930206</td>\n",
       "      <td>0.532127</td>\n",
       "      <td>0.916998</td>\n",
       "      <td>xgb</td>\n",
       "    </tr>\n",
       "    <tr>\n",
       "      <th>precision</th>\n",
       "      <td>0.166052</td>\n",
       "      <td>0.948593</td>\n",
       "      <td>0.930206</td>\n",
       "      <td>0.557322</td>\n",
       "      <td>0.906257</td>\n",
       "      <td>xgb</td>\n",
       "    </tr>\n",
       "    <tr>\n",
       "      <th>recall</th>\n",
       "      <td>0.072115</td>\n",
       "      <td>0.979285</td>\n",
       "      <td>0.930206</td>\n",
       "      <td>0.525700</td>\n",
       "      <td>0.930206</td>\n",
       "      <td>xgb</td>\n",
       "    </tr>\n",
       "    <tr>\n",
       "      <th>support</th>\n",
       "      <td>624.000000</td>\n",
       "      <td>10910.000000</td>\n",
       "      <td>0.930206</td>\n",
       "      <td>11534.000000</td>\n",
       "      <td>11534.000000</td>\n",
       "      <td>xgb</td>\n",
       "    </tr>\n",
       "  </tbody>\n",
       "</table>\n",
       "</div>"
      ],
      "text/plain": [
       "                    0             1  accuracy     macro avg  weighted avg  clf\n",
       "f1-score     0.100559      0.963695  0.930206      0.532127      0.916998  xgb\n",
       "precision    0.166052      0.948593  0.930206      0.557322      0.906257  xgb\n",
       "recall       0.072115      0.979285  0.930206      0.525700      0.930206  xgb\n",
       "support    624.000000  10910.000000  0.930206  11534.000000  11534.000000  xgb"
      ]
     },
     "execution_count": 28,
     "metadata": {},
     "output_type": "execute_result"
    }
   ],
   "source": [
    "xgb_clf = xgb.XGBClassifier(n_estimators=300,\n",
    "                            subsample=0.9,\n",
    "                            n_jobs=-1)\n",
    "\n",
    "xgb_report = fit_score_clf(xgb_clf, X_train, y_train, X_test, y_test, name='xgb')\n",
    "xgb_report.head()"
   ]
  },
  {
   "cell_type": "code",
   "execution_count": 29,
   "metadata": {},
   "outputs": [],
   "source": [
    "#metrics for svc\n",
    "modify_roc_dict(xgb_clf, y_test, X_test, name='XGBoost',dict_modify=roc_dict)"
   ]
  },
  {
   "cell_type": "code",
   "execution_count": 30,
   "metadata": {},
   "outputs": [],
   "source": [
    "modify_prc_dict(clf=xgb_clf,\n",
    "                y_test=y_test,\n",
    "                X_test=X_test,\n",
    "                name='XGBoost',\n",
    "                dict_modify=prc_dict)"
   ]
  },
  {
   "cell_type": "markdown",
   "metadata": {},
   "source": [
    "# 4.0 Comparing Metrics\n",
    "After training some classifiers with default paramters, we can get a first impression of performance. With the ROC metric, the best model is closest to the \"North West\" corver of the axes, where as for the PRC the best location is \"North East\".\n",
    "\n",
    "We will show the y=x line in the ROC plot in order to provide a baseline. Any classifer at this line makes completely random predictions, a classifer below it makes worse predictions than a random guess. Should this be the case, it is possible that our features were not approriately set up for that classifier or that the initial default parmaeters were very poorly choosen."
   ]
  },
  {
   "cell_type": "code",
   "execution_count": 31,
   "metadata": {},
   "outputs": [
    {
     "data": {
      "text/plain": [
       "dict_keys(['Logistic Regression', 'GBTree', 'KNN', 'SVC', 'RandomForest', 'XGBoost'])"
      ]
     },
     "execution_count": 31,
     "metadata": {},
     "output_type": "execute_result"
    }
   ],
   "source": [
    "#see keys we have\n",
    "roc_dict.keys()"
   ]
  },
  {
   "cell_type": "code",
   "execution_count": 32,
   "metadata": {
    "scrolled": false
   },
   "outputs": [
    {
     "data": {
      "image/png": "[encoded data removed]",
      "text/plain": [
       "<Figure size 432x288 with 1 Axes>"
      ]
     },
     "metadata": {
      "needs_background": "light"
     },
     "output_type": "display_data"
    }
   ],
   "source": [
    "for key in roc_dict:\n",
    "    clf = roc_dict[key]\n",
    "    plt.plot(clf['fpr'], clf['tpr'], label=key)\n",
    "plt.xlabel(\"FPR\")\n",
    "plt.ylabel(\"TPR\")\n",
    "plt.title(\"ROC\")\n",
    "plt.plot([0,1], [0,1], label='No Discrimination', linestyle='-', dashes=(5, 5))\n",
    "plt.legend()\n",
    "plt.savefig(os.path.join(goog_dir, 'plots/roc_curve_all_models.png'))\n",
    "plt.show()"
   ]
  },
  {
   "cell_type": "code",
   "execution_count": 33,
   "metadata": {},
   "outputs": [
    {
     "data": {
      "image/png": "[encoded data removed]",
      "text/plain": [
       "<Figure size 432x288 with 1 Axes>"
      ]
     },
     "metadata": {
      "needs_background": "light"
     },
     "output_type": "display_data"
    }
   ],
   "source": [
    "for key in prc_dict:\n",
    "    clf = prc_dict[key]\n",
    "    plt.plot(clf['precision'], clf['recall'], label=key)\n",
    "plt.xlabel(\"Precision\")\n",
    "plt.ylabel(\"Recall\")\n",
    "plt.title(\"Precision Recall Curve\")\n",
    "plt.legend()\n",
    "plt.savefig(os.path.join(goog_dir, 'plots/prc_curve_all_models.png'))\n",
    "\n",
    "plt.show()"
   ]
  },
  {
   "cell_type": "markdown",
   "metadata": {},
   "source": [
    "# 5.0 Picking a Model\n",
    "Looking at the overall performance, XGBoost seems to be the most viable option. In the next notebook we will iterate on the parameters to finetune performance."
   ]
  },
  {
   "cell_type": "code",
   "execution_count": 34,
   "metadata": {},
   "outputs": [
    {
     "name": "stdout",
     "output_type": "stream",
     "text": [
      "Saving model at: models/xgb_default_params.pickle\n"
     ]
    }
   ],
   "source": [
    "#define location to save trained model\n",
    "save_model_dir = os.path.join(save_path, 'xgb_default_params.pickle')\n",
    "print(\"Saving model at: {}\".format(save_model_dir))\n",
    "\n",
    "#save the model\n",
    "with open(save_model_dir, 'wb') as handle:\n",
    "    pickle.dump(xgb_clf,\n",
    "                handle,\n",
    "                protocol=pickle.HIGHEST_PROTOCOL)"
   ]
  },
  {
   "cell_type": "code",
   "execution_count": null,
   "metadata": {},
   "outputs": [],
   "source": []
  }
 ],
 "metadata": {
  "kernelspec": {
   "display_name": "Python 3",
   "language": "python",
   "name": "python3"
  },
  "language_info": {
   "codemirror_mode": {
    "name": "ipython",
    "version": 3
   },
   "file_extension": ".py",
   "mimetype": "text/x-python",
   "name": "python",
   "nbconvert_exporter": "python",
   "pygments_lexer": "ipython3",
   "version": "3.7.4"
  }
 },
 "nbformat": 4,
 "nbformat_minor": 2
}
