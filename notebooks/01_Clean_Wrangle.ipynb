{
 "cells": [
  {
   "cell_type": "markdown",
   "metadata": {
    "colab_type": "text",
    "id": "GuHDEMxCxh3x"
   },
   "source": [
    "# Wrangling Features"
   ]
  },
  {
   "cell_type": "markdown",
   "metadata": {
    "colab_type": "text",
    "id": "mB9a834Oxh32"
   },
   "source": [
    "In this notebook we drop features that might give unfair information, identify missing values, and explore the data."
   ]
  },
  {
   "cell_type": "code",
   "execution_count": 1,
   "metadata": {
    "colab": {
     "base_uri": "https://localhost:8080/",
     "height": 122
    },
    "colab_type": "code",
    "id": "_E21rFlUx8-l",
    "outputId": "532ffacf-3910-4a3c-dc52-f1d6abd3c4ac"
   },
   "outputs": [],
   "source": [
    "\n",
    "#if working on goolge drive\n",
    "goog_drive=False\n",
    "\n",
    "if goog_drive:\n",
    "    from google.colab import drive\n",
    "    drive.mount('/content/drive')\n",
    "    goog_dir = '/content/drive/My Drive/lending_club_project/'\n",
    "else:\n",
    "    goog_dir = ''\n",
    "\n"
   ]
  },
  {
   "cell_type": "code",
   "execution_count": 2,
   "metadata": {
    "colab": {},
    "colab_type": "code",
    "id": "-aWzqGlNxh33"
   },
   "outputs": [],
   "source": [
    "import pandas as pd\n",
    "import numpy as np\n",
    "import matplotlib.pyplot as plt\n",
    "import seaborn as sns\n",
    "import os\n",
    "import utils\n",
    "\n",
    "%matplotlib inline"
   ]
  },
  {
   "cell_type": "markdown",
   "metadata": {},
   "source": [
    "### Raw Data"
   ]
  },
  {
   "cell_type": "code",
   "execution_count": 3,
   "metadata": {
    "colab": {
     "base_uri": "https://localhost:8080/",
     "height": 559
    },
    "colab_type": "code",
    "id": "aBHvuC7txh4B",
    "outputId": "bbb522d5-c42c-40bb-993e-8f59ba8592e4"
   },
   "outputs": [
    {
     "data": {
      "text/html": [
       "<div>\n",
       "<style scoped>\n",
       "    .dataframe tbody tr th:only-of-type {\n",
       "        vertical-align: middle;\n",
       "    }\n",
       "\n",
       "    .dataframe tbody tr th {\n",
       "        vertical-align: top;\n",
       "    }\n",
       "\n",
       "    .dataframe thead th {\n",
       "        text-align: right;\n",
       "    }\n",
       "</style>\n",
       "<table border=\"1\" class=\"dataframe\">\n",
       "  <thead>\n",
       "    <tr style=\"text-align: right;\">\n",
       "      <th></th>\n",
       "      <th>id</th>\n",
       "      <th>member_id</th>\n",
       "      <th>loan_amnt</th>\n",
       "      <th>funded_amnt</th>\n",
       "      <th>funded_amnt_inv</th>\n",
       "      <th>term</th>\n",
       "      <th>int_rate</th>\n",
       "      <th>installment</th>\n",
       "      <th>grade</th>\n",
       "      <th>sub_grade</th>\n",
       "      <th>...</th>\n",
       "      <th>hardship_payoff_balance_amount</th>\n",
       "      <th>hardship_last_payment_amount</th>\n",
       "      <th>disbursement_method</th>\n",
       "      <th>debt_settlement_flag</th>\n",
       "      <th>debt_settlement_flag_date</th>\n",
       "      <th>settlement_status</th>\n",
       "      <th>settlement_date</th>\n",
       "      <th>settlement_amount</th>\n",
       "      <th>settlement_percentage</th>\n",
       "      <th>settlement_term</th>\n",
       "    </tr>\n",
       "  </thead>\n",
       "  <tbody>\n",
       "    <tr>\n",
       "      <th>2142001</th>\n",
       "      <td>NaN</td>\n",
       "      <td>NaN</td>\n",
       "      <td>1400</td>\n",
       "      <td>1400</td>\n",
       "      <td>475.0</td>\n",
       "      <td>36 months</td>\n",
       "      <td>10.91</td>\n",
       "      <td>45.78</td>\n",
       "      <td>C</td>\n",
       "      <td>C3</td>\n",
       "      <td>...</td>\n",
       "      <td>NaN</td>\n",
       "      <td>NaN</td>\n",
       "      <td>Cash</td>\n",
       "      <td>N</td>\n",
       "      <td>NaN</td>\n",
       "      <td>NaN</td>\n",
       "      <td>NaN</td>\n",
       "      <td>NaN</td>\n",
       "      <td>NaN</td>\n",
       "      <td>NaN</td>\n",
       "    </tr>\n",
       "    <tr>\n",
       "      <th>2142017</th>\n",
       "      <td>NaN</td>\n",
       "      <td>NaN</td>\n",
       "      <td>2525</td>\n",
       "      <td>2525</td>\n",
       "      <td>225.0</td>\n",
       "      <td>36 months</td>\n",
       "      <td>9.33</td>\n",
       "      <td>80.69</td>\n",
       "      <td>B</td>\n",
       "      <td>B3</td>\n",
       "      <td>...</td>\n",
       "      <td>NaN</td>\n",
       "      <td>NaN</td>\n",
       "      <td>Cash</td>\n",
       "      <td>N</td>\n",
       "      <td>NaN</td>\n",
       "      <td>NaN</td>\n",
       "      <td>NaN</td>\n",
       "      <td>NaN</td>\n",
       "      <td>NaN</td>\n",
       "      <td>NaN</td>\n",
       "    </tr>\n",
       "    <tr>\n",
       "      <th>2142016</th>\n",
       "      <td>NaN</td>\n",
       "      <td>NaN</td>\n",
       "      <td>1000</td>\n",
       "      <td>1000</td>\n",
       "      <td>0.0</td>\n",
       "      <td>36 months</td>\n",
       "      <td>9.64</td>\n",
       "      <td>32.11</td>\n",
       "      <td>B</td>\n",
       "      <td>B4</td>\n",
       "      <td>...</td>\n",
       "      <td>NaN</td>\n",
       "      <td>NaN</td>\n",
       "      <td>Cash</td>\n",
       "      <td>N</td>\n",
       "      <td>NaN</td>\n",
       "      <td>NaN</td>\n",
       "      <td>NaN</td>\n",
       "      <td>NaN</td>\n",
       "      <td>NaN</td>\n",
       "      <td>NaN</td>\n",
       "    </tr>\n",
       "    <tr>\n",
       "      <th>2142015</th>\n",
       "      <td>NaN</td>\n",
       "      <td>NaN</td>\n",
       "      <td>3500</td>\n",
       "      <td>3500</td>\n",
       "      <td>225.0</td>\n",
       "      <td>36 months</td>\n",
       "      <td>10.28</td>\n",
       "      <td>113.39</td>\n",
       "      <td>C</td>\n",
       "      <td>C1</td>\n",
       "      <td>...</td>\n",
       "      <td>NaN</td>\n",
       "      <td>NaN</td>\n",
       "      <td>Cash</td>\n",
       "      <td>N</td>\n",
       "      <td>NaN</td>\n",
       "      <td>NaN</td>\n",
       "      <td>NaN</td>\n",
       "      <td>NaN</td>\n",
       "      <td>NaN</td>\n",
       "      <td>NaN</td>\n",
       "    </tr>\n",
       "    <tr>\n",
       "      <th>2142014</th>\n",
       "      <td>NaN</td>\n",
       "      <td>NaN</td>\n",
       "      <td>6500</td>\n",
       "      <td>6500</td>\n",
       "      <td>0.0</td>\n",
       "      <td>36 months</td>\n",
       "      <td>9.64</td>\n",
       "      <td>208.66</td>\n",
       "      <td>B</td>\n",
       "      <td>B4</td>\n",
       "      <td>...</td>\n",
       "      <td>NaN</td>\n",
       "      <td>NaN</td>\n",
       "      <td>Cash</td>\n",
       "      <td>N</td>\n",
       "      <td>NaN</td>\n",
       "      <td>NaN</td>\n",
       "      <td>NaN</td>\n",
       "      <td>NaN</td>\n",
       "      <td>NaN</td>\n",
       "      <td>NaN</td>\n",
       "    </tr>\n",
       "  </tbody>\n",
       "</table>\n",
       "<p>5 rows × 145 columns</p>\n",
       "</div>"
      ],
      "text/plain": [
       "         id  member_id  loan_amnt  funded_amnt  funded_amnt_inv        term  \\\n",
       "2142001 NaN        NaN       1400         1400            475.0   36 months   \n",
       "2142017 NaN        NaN       2525         2525            225.0   36 months   \n",
       "2142016 NaN        NaN       1000         1000              0.0   36 months   \n",
       "2142015 NaN        NaN       3500         3500            225.0   36 months   \n",
       "2142014 NaN        NaN       6500         6500              0.0   36 months   \n",
       "\n",
       "         int_rate  installment grade sub_grade       ...        \\\n",
       "2142001     10.91        45.78     C        C3       ...         \n",
       "2142017      9.33        80.69     B        B3       ...         \n",
       "2142016      9.64        32.11     B        B4       ...         \n",
       "2142015     10.28       113.39     C        C1       ...         \n",
       "2142014      9.64       208.66     B        B4       ...         \n",
       "\n",
       "        hardship_payoff_balance_amount hardship_last_payment_amount  \\\n",
       "2142001                            NaN                          NaN   \n",
       "2142017                            NaN                          NaN   \n",
       "2142016                            NaN                          NaN   \n",
       "2142015                            NaN                          NaN   \n",
       "2142014                            NaN                          NaN   \n",
       "\n",
       "        disbursement_method  debt_settlement_flag debt_settlement_flag_date  \\\n",
       "2142001                Cash                     N                       NaN   \n",
       "2142017                Cash                     N                       NaN   \n",
       "2142016                Cash                     N                       NaN   \n",
       "2142015                Cash                     N                       NaN   \n",
       "2142014                Cash                     N                       NaN   \n",
       "\n",
       "        settlement_status settlement_date settlement_amount  \\\n",
       "2142001               NaN             NaN               NaN   \n",
       "2142017               NaN             NaN               NaN   \n",
       "2142016               NaN             NaN               NaN   \n",
       "2142015               NaN             NaN               NaN   \n",
       "2142014               NaN             NaN               NaN   \n",
       "\n",
       "         settlement_percentage settlement_term  \n",
       "2142001                    NaN             NaN  \n",
       "2142017                    NaN             NaN  \n",
       "2142016                    NaN             NaN  \n",
       "2142015                    NaN             NaN  \n",
       "2142014                    NaN             NaN  \n",
       "\n",
       "[5 rows x 145 columns]"
      ]
     },
     "execution_count": 3,
     "metadata": {},
     "output_type": "execute_result"
    }
   ],
   "source": [
    "#get directory\n",
    "df_train_path = os.path.join(goog_dir, 'data','df_train.csv.zip')\n",
    "df_test_path = os.path.join(goog_dir,'data','df_test.csv.zip')\n",
    "\n",
    "#download in chunks\n",
    "df = utils.chunk_loader(df_train_path, index_col=0)\n",
    "df.head()"
   ]
  },
  {
   "cell_type": "code",
   "execution_count": 4,
   "metadata": {
    "colab": {},
    "colab_type": "code",
    "id": "rx5tWd21xh4I"
   },
   "outputs": [
    {
     "data": {
      "text/plain": [
       "(2004062, 145)"
      ]
     },
     "execution_count": 4,
     "metadata": {},
     "output_type": "execute_result"
    }
   ],
   "source": [
    "df.shape"
   ]
  },
  {
   "cell_type": "markdown",
   "metadata": {},
   "source": [
    "### Table of Definitions"
   ]
  },
  {
   "cell_type": "code",
   "execution_count": 5,
   "metadata": {
    "colab": {
     "base_uri": "https://localhost:8080/",
     "height": 204
    },
    "colab_type": "code",
    "id": "96KkD_Ydxh4N",
    "outputId": "db6b4828-ba0d-4131-a590-13a6eeadc03f"
   },
   "outputs": [
    {
     "data": {
      "text/html": [
       "<div>\n",
       "<style scoped>\n",
       "    .dataframe tbody tr th:only-of-type {\n",
       "        vertical-align: middle;\n",
       "    }\n",
       "\n",
       "    .dataframe tbody tr th {\n",
       "        vertical-align: top;\n",
       "    }\n",
       "\n",
       "    .dataframe thead th {\n",
       "        text-align: right;\n",
       "    }\n",
       "</style>\n",
       "<table border=\"1\" class=\"dataframe\">\n",
       "  <thead>\n",
       "    <tr style=\"text-align: right;\">\n",
       "      <th></th>\n",
       "      <th>LoanStatNew</th>\n",
       "      <th>Description</th>\n",
       "    </tr>\n",
       "  </thead>\n",
       "  <tbody>\n",
       "    <tr>\n",
       "      <th>0</th>\n",
       "      <td>acc_now_delinq</td>\n",
       "      <td>The number of accounts on which the borrower i...</td>\n",
       "    </tr>\n",
       "    <tr>\n",
       "      <th>1</th>\n",
       "      <td>acc_open_past_24mths</td>\n",
       "      <td>Number of trades opened in past 24 months.</td>\n",
       "    </tr>\n",
       "    <tr>\n",
       "      <th>2</th>\n",
       "      <td>addr_state</td>\n",
       "      <td>The state provided by the borrower in the loan...</td>\n",
       "    </tr>\n",
       "    <tr>\n",
       "      <th>3</th>\n",
       "      <td>all_util</td>\n",
       "      <td>Balance to credit limit on all trades</td>\n",
       "    </tr>\n",
       "    <tr>\n",
       "      <th>4</th>\n",
       "      <td>annual_inc</td>\n",
       "      <td>The self-reported annual income provided by th...</td>\n",
       "    </tr>\n",
       "  </tbody>\n",
       "</table>\n",
       "</div>"
      ],
      "text/plain": [
       "            LoanStatNew                                        Description\n",
       "0        acc_now_delinq  The number of accounts on which the borrower i...\n",
       "1  acc_open_past_24mths         Number of trades opened in past 24 months.\n",
       "2            addr_state  The state provided by the borrower in the loan...\n",
       "3              all_util              Balance to credit limit on all trades\n",
       "4            annual_inc  The self-reported annual income provided by th..."
      ]
     },
     "execution_count": 5,
     "metadata": {},
     "output_type": "execute_result"
    }
   ],
   "source": [
    "#read accompanying excel\n",
    "excel_dir = os.path.join(goog_dir, 'LCDataDictionary.xlsx')\n",
    "loan_stats = pd.read_excel(excel_dir, sheet_name='LoanStats')\n",
    "\n",
    "\n",
    "#fix naming\n",
    "loan_stats['LoanStatNew'] = loan_stats['LoanStatNew'].str.replace('verified_status_joint',\n",
    "                                                                  'verification_status_joint')\n",
    "\n",
    "loan_stats['LoanStatNew'] = loan_stats['LoanStatNew'].str.replace(u' \\xa0', u'')\n",
    "\n",
    "loan_stats['LoanStatNew'] = loan_stats['LoanStatNew'].str.strip()\n",
    "\n",
    "loan_stats.head()"
   ]
  },
  {
   "cell_type": "code",
   "execution_count": 6,
   "metadata": {
    "colab": {
     "base_uri": "https://localhost:8080/",
     "height": 34
    },
    "colab_type": "code",
    "id": "FTWsyuHWxh4Q",
    "outputId": "53ef6d02-b645-4577-860b-b3f24046cd9f"
   },
   "outputs": [
    {
     "data": {
      "text/plain": [
       "(153, 2)"
      ]
     },
     "execution_count": 6,
     "metadata": {},
     "output_type": "execute_result"
    }
   ],
   "source": [
    "loan_stats.shape"
   ]
  },
  {
   "cell_type": "code",
   "execution_count": 7,
   "metadata": {
    "colab": {},
    "colab_type": "code",
    "id": "yNYSJNZkxh4V"
   },
   "outputs": [],
   "source": [
    "#convert to dict\n",
    "feat_to_text = dict(zip(loan_stats['LoanStatNew'], loan_stats['Description']))"
   ]
  },
  {
   "cell_type": "markdown",
   "metadata": {
    "colab_type": "text",
    "id": "IsBxcFx2xh4Y"
   },
   "source": [
    "# 1.0 Future Leak: Drop Cheat Features"
   ]
  },
  {
   "cell_type": "markdown",
   "metadata": {
    "colab_type": "text",
    "id": "m746dFNbxh4Z"
   },
   "source": [
    "In this part we wish to drop features that are recorded in the future. These features are not available to us when applying for loans and should not be taken in consideration"
   ]
  },
  {
   "cell_type": "code",
   "execution_count": 8,
   "metadata": {
    "colab": {},
    "colab_type": "code",
    "id": "p9VK2z4vxh4e"
   },
   "outputs": [],
   "source": [
    "leak_cols = ['acc_now_delinq', 'acc_open_past_24mths', 'avg_cur_bal', \n",
    "             'bc_open_to_buy', 'bc_util', 'chargeoff_within_12_mths', \n",
    "             'collection_recovery_fee', 'collections_12_mths_ex_med', \n",
    "             'debt_settlement_flag', 'delinq_2yrs', 'delinq_amnt', \n",
    "             'disbursement_method', 'funded_amnt', 'funded_amnt_inv', \n",
    "             'hardship_flag', 'inq_last_6mths', 'last_credit_pull_d', \n",
    "             'initial_list_status', 'mo_sin_old_rev_tl_op', 'mo_sin_old_il_acct',\n",
    "             'last_pymnt_amnt', \n",
    "             'last_pymnt_d', 'mo_sin_rcnt_rev_tl_op', 'mo_sin_rcnt_tl', \n",
    "             'mths_since_recent_bc', 'mths_since_recent_inq', 'num_accts_ever_120_pd', \n",
    "             'num_actv_bc_tl', 'num_actv_rev_tl', 'num_bc_sats', \n",
    "             'num_bc_tl', 'num_il_tl', 'num_op_rev_tl', 'num_rev_accts', \n",
    "             'num_rev_tl_bal_gt_0', 'num_sats', 'num_tl_120dpd_2m', \n",
    "             'num_tl_30dpd', 'num_tl_90g_dpd_24m', 'num_tl_op_past_12m',  \n",
    "             'out_prncp', 'out_prncp_inv', 'pct_tl_nvr_dlq', \n",
    "             'percent_bc_gt_75', 'pymnt_plan', 'recoveries', \n",
    "             'tax_liens', 'tot_coll_amt', 'tot_cur_bal', \n",
    "             'tot_hi_cred_lim','total_bal_ex_mort', 'total_bc_limit', \n",
    "             'total_il_high_credit_limit', 'total_pymnt', 'total_pymnt_inv', \n",
    "             'total_rec_int', 'total_rec_late_fee', 'total_rec_prncp', \n",
    "             'total_rev_hi_lim']"
   ]
  },
  {
   "cell_type": "code",
   "execution_count": 9,
   "metadata": {
    "colab": {
     "base_uri": "https://localhost:8080/",
     "height": 1000
    },
    "colab_type": "code",
    "id": "0UmDUsTPxh4m",
    "outputId": "5c1e5de3-1ee5-487d-9547-2a53c7f16fd4",
    "scrolled": false
   },
   "outputs": [
    {
     "name": "stdout",
     "output_type": "stream",
     "text": [
      "acc_now_delinq:\n",
      "The number of accounts on which the borrower is now delinquent.\n",
      "********************\n",
      "acc_open_past_24mths:\n",
      "Number of trades opened in past 24 months.\n",
      "********************\n",
      "avg_cur_bal:\n",
      "Average current balance of all accounts\n",
      "********************\n",
      "bc_open_to_buy:\n",
      "Total open to buy on revolving bankcards.\n",
      "********************\n",
      "bc_util:\n",
      "Ratio of total current balance to high credit/credit limit for all bankcard accounts.\n",
      "********************\n",
      "chargeoff_within_12_mths:\n",
      "Number of charge-offs within 12 months\n",
      "********************\n",
      "collection_recovery_fee:\n",
      "post charge off collection fee\n",
      "********************\n",
      "collections_12_mths_ex_med:\n",
      "Number of collections in 12 months excluding medical collections\n",
      "********************\n",
      "debt_settlement_flag:\n",
      "Flags whether or not the borrower, who has charged-off, is working with a debt-settlement company.\n",
      "********************\n",
      "delinq_2yrs:\n",
      "The number of 30+ days past-due incidences of delinquency in the borrower's credit file for the past 2 years\n",
      "********************\n",
      "delinq_amnt:\n",
      "The past-due amount owed for the accounts on which the borrower is now delinquent.\n",
      "********************\n",
      "disbursement_method:\n",
      "The method by which the borrower receives their loan. Possible values are: CASH, DIRECT_PAY\n",
      "********************\n",
      "funded_amnt:\n",
      "The total amount committed to that loan at that point in time.\n",
      "********************\n",
      "funded_amnt_inv:\n",
      "The total amount committed by investors for that loan at that point in time.\n",
      "********************\n",
      "hardship_flag:\n",
      "Flags whether or not the borrower is on a hardship plan\n",
      "********************\n",
      "inq_last_6mths:\n",
      "The number of inquiries in past 6 months (excluding auto and mortgage inquiries)\n",
      "********************\n",
      "last_credit_pull_d:\n",
      "The most recent month LC pulled credit for this loan\n",
      "********************\n",
      "initial_list_status:\n",
      "The initial listing status of the loan. Possible values are – W, F\n",
      "********************\n",
      "mo_sin_old_rev_tl_op:\n",
      "Months since oldest revolving account opened\n",
      "********************\n",
      "mo_sin_old_il_acct:\n",
      "Months since oldest bank installment account opened\n",
      "********************\n",
      "last_pymnt_amnt:\n",
      "Last total payment amount received\n",
      "********************\n",
      "last_pymnt_d:\n",
      "Last month payment was received\n",
      "********************\n",
      "mo_sin_rcnt_rev_tl_op:\n",
      "Months since most recent revolving account opened\n",
      "********************\n",
      "mo_sin_rcnt_tl:\n",
      "Months since most recent account opened\n",
      "********************\n",
      "mths_since_recent_bc:\n",
      "Months since most recent bankcard account opened.\n",
      "********************\n",
      "mths_since_recent_inq:\n",
      "Months since most recent inquiry.\n",
      "********************\n",
      "num_accts_ever_120_pd:\n",
      "Number of accounts ever 120 or more days past due\n",
      "********************\n",
      "num_actv_bc_tl:\n",
      "Number of currently active bankcard accounts\n",
      "********************\n",
      "num_actv_rev_tl:\n",
      "Number of currently active revolving trades\n",
      "********************\n",
      "num_bc_sats:\n",
      "Number of satisfactory bankcard accounts\n",
      "********************\n",
      "num_bc_tl:\n",
      "Number of bankcard accounts\n",
      "********************\n",
      "num_il_tl:\n",
      "Number of installment accounts\n",
      "********************\n",
      "num_op_rev_tl:\n",
      "Number of open revolving accounts\n",
      "********************\n",
      "num_rev_accts:\n",
      "Number of revolving accounts\n",
      "********************\n",
      "num_rev_tl_bal_gt_0:\n",
      "Number of revolving trades with balance >0\n",
      "********************\n",
      "num_sats:\n",
      "Number of satisfactory accounts\n",
      "********************\n",
      "num_tl_120dpd_2m:\n",
      "Number of accounts currently 120 days past due (updated in past 2 months)\n",
      "********************\n",
      "num_tl_30dpd:\n",
      "Number of accounts currently 30 days past due (updated in past 2 months)\n",
      "********************\n",
      "num_tl_90g_dpd_24m:\n",
      "Number of accounts 90 or more days past due in last 24 months\n",
      "********************\n",
      "num_tl_op_past_12m:\n",
      "Number of accounts opened in past 12 months\n",
      "********************\n",
      "out_prncp:\n",
      "Remaining outstanding principal for total amount funded\n",
      "********************\n",
      "out_prncp_inv:\n",
      "Remaining outstanding principal for portion of total amount funded by investors\n",
      "********************\n",
      "pct_tl_nvr_dlq:\n",
      "Percent of trades never delinquent\n",
      "********************\n",
      "percent_bc_gt_75:\n",
      "Percentage of all bankcard accounts > 75% of limit.\n",
      "********************\n",
      "pymnt_plan:\n",
      "Indicates if a payment plan has been put in place for the loan\n",
      "********************\n",
      "recoveries:\n",
      "post charge off gross recovery\n",
      "********************\n",
      "tax_liens:\n",
      "Number of tax liens\n",
      "********************\n",
      "tot_coll_amt:\n",
      "Total collection amounts ever owed\n",
      "********************\n",
      "tot_cur_bal:\n",
      "Total current balance of all accounts\n",
      "********************\n",
      "tot_hi_cred_lim:\n",
      "Total high credit/credit limit\n",
      "********************\n",
      "total_bal_ex_mort:\n",
      "Total credit balance excluding mortgage\n",
      "********************\n",
      "total_bc_limit:\n",
      "Total bankcard high credit/credit limit\n",
      "********************\n",
      "total_il_high_credit_limit:\n",
      "Total installment high credit/credit limit\n",
      "********************\n",
      "total_pymnt:\n",
      "Payments received to date for total amount funded\n",
      "********************\n",
      "total_pymnt_inv:\n",
      "Payments received to date for portion of total amount funded by investors\n",
      "********************\n",
      "total_rec_int:\n",
      "Interest received to date\n",
      "********************\n",
      "total_rec_late_fee:\n",
      "Late fees received to date\n",
      "********************\n",
      "total_rec_prncp:\n",
      "Principal received to date\n",
      "********************\n",
      "total_rev_hi_lim:\n",
      "Total revolving high credit/credit limit\n",
      "********************\n"
     ]
    }
   ],
   "source": [
    "#display columns\n",
    "for leak in leak_cols:\n",
    "    print('{}:'.format(leak))\n",
    "    print(feat_to_text[leak])\n",
    "    print(20*'*')\n",
    "    "
   ]
  },
  {
   "cell_type": "code",
   "execution_count": 10,
   "metadata": {
    "colab": {
     "base_uri": "https://localhost:8080/",
     "height": 34
    },
    "colab_type": "code",
    "id": "I7db57fZxh4t",
    "outputId": "c2313fd9-b04c-4e5d-f833-a758238353fe"
   },
   "outputs": [
    {
     "name": "stdout",
     "output_type": "stream",
     "text": [
      "The new dataframe has 86 columns and lost 59 after dropping future leaks\n"
     ]
    }
   ],
   "source": [
    "#drop leaks\n",
    "df_small = df.drop(columns=leak_cols, axis=1)\n",
    "\n",
    "drop_col_count = len(leak_cols)\n",
    "print(\"The new dataframe has {} columns and lost {} after dropping future leaks\".format(df_small.shape[1],\n",
    "                                                                           drop_col_count))"
   ]
  },
  {
   "cell_type": "markdown",
   "metadata": {},
   "source": [
    "## 1.1 Columns with No Variance\n",
    "We need to check if any feature repeats only 1 feature and is therefore useless to us. This will take out uncessary dimensions and remove noise. One might consider this a case of pre-pruning for tree based models."
   ]
  },
  {
   "cell_type": "code",
   "execution_count": 11,
   "metadata": {},
   "outputs": [],
   "source": [
    "#remove columns that have only 1 feature\n",
    "#get unique values per feature\n",
    "nunique_value = df_small.apply(pd.Series.nunique)\n",
    "#note columns that have single value\n",
    "single_value_cols = nunique_value[nunique_value == 1].index.tolist()\n"
   ]
  },
  {
   "cell_type": "code",
   "execution_count": 12,
   "metadata": {},
   "outputs": [
    {
     "name": "stdout",
     "output_type": "stream",
     "text": [
      "policy_code:\n",
      "publicly available policy_code=1\n",
      "new products not publicly available policy_code=2\n",
      "********************\n",
      "hardship_type:\n",
      "Describes the hardship plan offering\n",
      "********************\n",
      "deferral_term:\n",
      "Amount of months that the borrower is expected to pay less than the contractual monthly payment amount due to a hardship plan\n",
      "********************\n",
      "hardship_length:\n",
      "The number of months the borrower will make smaller payments than normally obligated due to a hardship plan\n",
      "********************\n"
     ]
    }
   ],
   "source": [
    "#see what we are dripping\n",
    "for col in single_value_cols:\n",
    "    print('{}:\\n{}'.format(col, feat_to_text[col]))\n",
    "    print(20*'*')"
   ]
  },
  {
   "cell_type": "code",
   "execution_count": 13,
   "metadata": {},
   "outputs": [],
   "source": [
    "# drop the redundant columns\n",
    "df_small = df_small.drop(columns=single_value_cols)"
   ]
  },
  {
   "cell_type": "markdown",
   "metadata": {
    "colab_type": "text",
    "id": "diH7W2OOxh4x"
   },
   "source": [
    "# 2.0 Identify the Target Variable"
   ]
  },
  {
   "cell_type": "code",
   "execution_count": 14,
   "metadata": {
    "colab": {
     "base_uri": "https://localhost:8080/",
     "height": 187
    },
    "colab_type": "code",
    "id": "VtAxgYoWxh4y",
    "outputId": "0d69f487-7ad7-43d8-ffd7-c286636fcd3e"
   },
   "outputs": [
    {
     "data": {
      "text/plain": [
       "Fully Paid                                             1031042\n",
       "Current                                                 678324\n",
       "Charged Off                                             261031\n",
       "Late (31-120 days)                                       19885\n",
       "In Grace Period                                           7764\n",
       "Late (16-30 days)                                         3238\n",
       "Does not meet the credit policy. Status:Fully Paid        1988\n",
       "Does not meet the credit policy. Status:Charged Off        761\n",
       "Default                                                     29\n",
       "Name: loan_status, dtype: int64"
      ]
     },
     "execution_count": 14,
     "metadata": {},
     "output_type": "execute_result"
    }
   ],
   "source": [
    "#see possibilities of target variable\n",
    "df_small['loan_status'].value_counts()"
   ]
  },
  {
   "cell_type": "code",
   "execution_count": 15,
   "metadata": {
    "colab": {
     "base_uri": "https://localhost:8080/",
     "height": 68
    },
    "colab_type": "code",
    "id": "2qPJG0l0xh41",
    "outputId": "c9ce7266-9ec2-418b-ab37-bb3a281c3882"
   },
   "outputs": [
    {
     "data": {
      "text/plain": [
       "Fully Paid     1031042\n",
       "Charged Off     261031\n",
       "Name: loan_status, dtype: int64"
      ]
     },
     "execution_count": 15,
     "metadata": {},
     "output_type": "execute_result"
    }
   ],
   "source": [
    "#only care about paid and default\n",
    "target_vals = ['Fully Paid', 'Charged Off']\n",
    "\n",
    "#drop vlaues if not in list\n",
    "df_target = df_small[df_small['loan_status'].isin(target_vals)]\n",
    "\n",
    "#check values\n",
    "df_target['loan_status'].value_counts()"
   ]
  },
  {
   "cell_type": "code",
   "execution_count": 16,
   "metadata": {
    "colab": {
     "base_uri": "https://localhost:8080/",
     "height": 34
    },
    "colab_type": "code",
    "id": "-bZFwSDqxh44",
    "outputId": "6e99930d-1ea8-450e-cfee-f8bfabaefd41"
   },
   "outputs": [
    {
     "data": {
      "text/plain": [
       "(1292073, 82)"
      ]
     },
     "execution_count": 16,
     "metadata": {},
     "output_type": "execute_result"
    }
   ],
   "source": [
    "df_target.shape"
   ]
  },
  {
   "cell_type": "markdown",
   "metadata": {
    "colab_type": "text",
    "id": "Bg1FcpVMxh48"
   },
   "source": [
    "# 3.0 Missing Values Limits"
   ]
  },
  {
   "cell_type": "markdown",
   "metadata": {
    "colab_type": "text",
    "id": "YE9SfXeaxh49"
   },
   "source": [
    "In this section we will assess on a domain expertise basis if the data should be dropped or kept.<br>\n",
    "Given that our target variable is unbalanced, some features with missing values might be key to a better performance. However given the case where we have too many missing values for a judgement call, we must drop some features beyond a certain threshold. "
   ]
  },
  {
   "cell_type": "code",
   "execution_count": 17,
   "metadata": {
    "colab": {
     "base_uri": "https://localhost:8080/",
     "height": 204
    },
    "colab_type": "code",
    "id": "EVCQxNJfxh4-",
    "outputId": "79792445-c446-4df0-f3a7-e377044806f9"
   },
   "outputs": [
    {
     "data": {
      "text/html": [
       "<div>\n",
       "<style scoped>\n",
       "    .dataframe tbody tr th:only-of-type {\n",
       "        vertical-align: middle;\n",
       "    }\n",
       "\n",
       "    .dataframe tbody tr th {\n",
       "        vertical-align: top;\n",
       "    }\n",
       "\n",
       "    .dataframe thead th {\n",
       "        text-align: right;\n",
       "    }\n",
       "</style>\n",
       "<table border=\"1\" class=\"dataframe\">\n",
       "  <thead>\n",
       "    <tr style=\"text-align: right;\">\n",
       "      <th></th>\n",
       "      <th>index</th>\n",
       "      <th>mean_nan</th>\n",
       "      <th>dtypes</th>\n",
       "    </tr>\n",
       "  </thead>\n",
       "  <tbody>\n",
       "    <tr>\n",
       "      <th>0</th>\n",
       "      <td>id</td>\n",
       "      <td>1.000000</td>\n",
       "      <td>float64</td>\n",
       "    </tr>\n",
       "    <tr>\n",
       "      <th>1</th>\n",
       "      <td>member_id</td>\n",
       "      <td>1.000000</td>\n",
       "      <td>float64</td>\n",
       "    </tr>\n",
       "    <tr>\n",
       "      <th>2</th>\n",
       "      <td>next_pymnt_d</td>\n",
       "      <td>1.000000</td>\n",
       "      <td>object</td>\n",
       "    </tr>\n",
       "    <tr>\n",
       "      <th>3</th>\n",
       "      <td>url</td>\n",
       "      <td>1.000000</td>\n",
       "      <td>float64</td>\n",
       "    </tr>\n",
       "    <tr>\n",
       "      <th>4</th>\n",
       "      <td>orig_projected_additional_accrued_interest</td>\n",
       "      <td>0.997344</td>\n",
       "      <td>float64</td>\n",
       "    </tr>\n",
       "  </tbody>\n",
       "</table>\n",
       "</div>"
      ],
      "text/plain": [
       "                                        index  mean_nan   dtypes\n",
       "0                                          id  1.000000  float64\n",
       "1                                   member_id  1.000000  float64\n",
       "2                                next_pymnt_d  1.000000   object\n",
       "3                                         url  1.000000  float64\n",
       "4  orig_projected_additional_accrued_interest  0.997344  float64"
      ]
     },
     "execution_count": 17,
     "metadata": {},
     "output_type": "execute_result"
    }
   ],
   "source": [
    "#make dataframe to record mean missing\n",
    "nan_df = pd.DataFrame(df_target.isna().mean(), columns=['mean_nan'])\n",
    "#add dtypes\n",
    "nan_df['dtypes'] = df_target.dtypes\n",
    "#sort by most missing at top\n",
    "nan_df = nan_df.sort_values(by=['mean_nan'], ascending=False)\n",
    "\n",
    "nan_df = nan_df.reset_index()\n",
    "\n",
    "nan_df.head()"
   ]
  },
  {
   "cell_type": "code",
   "execution_count": 18,
   "metadata": {
    "colab": {
     "base_uri": "https://localhost:8080/",
     "height": 51
    },
    "colab_type": "code",
    "id": "qVLFQm7nxh5C",
    "outputId": "b2b76325-4bbc-428e-c884-570724cf8deb"
   },
   "outputs": [
    {
     "data": {
      "text/plain": [
       "mean_nan    0.585141\n",
       "dtype: float64"
      ]
     },
     "execution_count": 18,
     "metadata": {},
     "output_type": "execute_result"
    }
   ],
   "source": [
    "#tally of average mission values\n",
    "nan_df.mean()"
   ]
  },
  {
   "cell_type": "code",
   "execution_count": 19,
   "metadata": {
    "colab": {
     "base_uri": "https://localhost:8080/",
     "height": 51
    },
    "colab_type": "code",
    "id": "xV_Jgv_wxh5F",
    "outputId": "52a4055d-c1ca-490b-9ee0-79dd218ca662"
   },
   "outputs": [
    {
     "data": {
      "text/plain": [
       "mean_nan    0.430858\n",
       "dtype: float64"
      ]
     },
     "execution_count": 19,
     "metadata": {},
     "output_type": "execute_result"
    }
   ],
   "source": [
    "nan_df.std()"
   ]
  },
  {
   "cell_type": "code",
   "execution_count": 20,
   "metadata": {
    "colab": {
     "base_uri": "https://localhost:8080/",
     "height": 295
    },
    "colab_type": "code",
    "id": "Z6V_EynVxh5I",
    "outputId": "49e82f49-affe-4f34-d556-9722789a22b5"
   },
   "outputs": [
    {
     "data": {
      "image/png": "[encoded data removed]",
      "text/plain": [
       "<Figure size 432x288 with 1 Axes>"
      ]
     },
     "metadata": {
      "needs_background": "light"
     },
     "output_type": "display_data"
    }
   ],
   "source": [
    "#draw histogram of missing values\n",
    "nan_df.hist(column='mean_nan', bins=np.arange(0,1.05,0.05))\n",
    "plt.xlabel(\"percent missing\")\n",
    "plt.ylabel(\"count\")\n",
    "plt.title(\"Missing Features Histogram\")\n",
    "plt.xticks(np.arange(0, 1.1, 0.1))\n",
    "plt.show()"
   ]
  },
  {
   "cell_type": "markdown",
   "metadata": {
    "colab_type": "text",
    "id": "yzVAHK8Xxh5L"
   },
   "source": [
    "We decide to drop the features that have more than **50%** missing values."
   ]
  },
  {
   "cell_type": "code",
   "execution_count": 21,
   "metadata": {
    "colab": {
     "base_uri": "https://localhost:8080/",
     "height": 34
    },
    "colab_type": "code",
    "id": "0yGs5Pf6xh5M",
    "outputId": "7900321b-cc08-4fa4-b6be-9f0aa87af17f"
   },
   "outputs": [
    {
     "data": {
      "text/plain": [
       "(1292073, 27)"
      ]
     },
     "execution_count": 21,
     "metadata": {},
     "output_type": "execute_result"
    }
   ],
   "source": [
    "#set the minimum missing percentage\n",
    "nan_pct_min = 0.5\n",
    "\n",
    "#get columns with more missing values than minimum\n",
    "missing_cols = nan_df[nan_df['mean_nan']>=nan_pct_min]['index']\n",
    "\n",
    "#drop the columns\n",
    "df_drop_nan = df_target.drop(columns=missing_cols)\n",
    "\n",
    "#see new shape\n",
    "df_drop_nan.shape"
   ]
  },
  {
   "cell_type": "markdown",
   "metadata": {
    "colab_type": "text",
    "id": "9gZUAAmmxh5R"
   },
   "source": [
    "# 4.0 Make Features Numerical & Fill NaNs"
   ]
  },
  {
   "cell_type": "code",
   "execution_count": 22,
   "metadata": {
    "colab": {
     "base_uri": "https://localhost:8080/",
     "height": 561
    },
    "colab_type": "code",
    "id": "iMNrpbaixh5S",
    "outputId": "620ec093-1f30-4898-faa5-f8637e942f60"
   },
   "outputs": [
    {
     "data": {
      "text/plain": [
       "loan_amnt                 int64\n",
       "term                     object\n",
       "int_rate                float64\n",
       "installment             float64\n",
       "grade                    object\n",
       "sub_grade                object\n",
       "emp_title                object\n",
       "emp_length               object\n",
       "home_ownership           object\n",
       "annual_inc              float64\n",
       "verification_status      object\n",
       "issue_d                  object\n",
       "loan_status              object\n",
       "purpose                  object\n",
       "title                    object\n",
       "zip_code                 object\n",
       "addr_state               object\n",
       "dti                     float64\n",
       "earliest_cr_line         object\n",
       "open_acc                float64\n",
       "pub_rec                 float64\n",
       "revol_bal                 int64\n",
       "revol_util              float64\n",
       "total_acc               float64\n",
       "application_type         object\n",
       "mort_acc                float64\n",
       "pub_rec_bankruptcies    float64\n",
       "dtype: object"
      ]
     },
     "execution_count": 22,
     "metadata": {},
     "output_type": "execute_result"
    }
   ],
   "source": [
    "df_drop_nan.dtypes"
   ]
  },
  {
   "cell_type": "code",
   "execution_count": 23,
   "metadata": {
    "colab": {
     "base_uri": "https://localhost:8080/",
     "height": 359
    },
    "colab_type": "code",
    "id": "IZwyvdMDxh5W",
    "outputId": "7b7b8a0e-8c60-4635-e4cf-7f7991cd65da"
   },
   "outputs": [
    {
     "data": {
      "text/html": [
       "<div>\n",
       "<style scoped>\n",
       "    .dataframe tbody tr th:only-of-type {\n",
       "        vertical-align: middle;\n",
       "    }\n",
       "\n",
       "    .dataframe tbody tr th {\n",
       "        vertical-align: top;\n",
       "    }\n",
       "\n",
       "    .dataframe thead th {\n",
       "        text-align: right;\n",
       "    }\n",
       "</style>\n",
       "<table border=\"1\" class=\"dataframe\">\n",
       "  <thead>\n",
       "    <tr style=\"text-align: right;\">\n",
       "      <th></th>\n",
       "      <th>index</th>\n",
       "      <th>mean_nan</th>\n",
       "      <th>dtypes</th>\n",
       "    </tr>\n",
       "  </thead>\n",
       "  <tbody>\n",
       "    <tr>\n",
       "      <th>55</th>\n",
       "      <td>emp_title</td>\n",
       "      <td>6.293994e-02</td>\n",
       "      <td>object</td>\n",
       "    </tr>\n",
       "    <tr>\n",
       "      <th>56</th>\n",
       "      <td>emp_length</td>\n",
       "      <td>5.765619e-02</td>\n",
       "      <td>object</td>\n",
       "    </tr>\n",
       "    <tr>\n",
       "      <th>57</th>\n",
       "      <td>mort_acc</td>\n",
       "      <td>3.659313e-02</td>\n",
       "      <td>float64</td>\n",
       "    </tr>\n",
       "    <tr>\n",
       "      <th>58</th>\n",
       "      <td>title</td>\n",
       "      <td>1.193895e-02</td>\n",
       "      <td>object</td>\n",
       "    </tr>\n",
       "    <tr>\n",
       "      <th>59</th>\n",
       "      <td>revol_util</td>\n",
       "      <td>6.168382e-04</td>\n",
       "      <td>float64</td>\n",
       "    </tr>\n",
       "    <tr>\n",
       "      <th>60</th>\n",
       "      <td>pub_rec_bankruptcies</td>\n",
       "      <td>5.394432e-04</td>\n",
       "      <td>float64</td>\n",
       "    </tr>\n",
       "    <tr>\n",
       "      <th>61</th>\n",
       "      <td>dti</td>\n",
       "      <td>2.228976e-04</td>\n",
       "      <td>float64</td>\n",
       "    </tr>\n",
       "    <tr>\n",
       "      <th>62</th>\n",
       "      <td>zip_code</td>\n",
       "      <td>7.739501e-07</td>\n",
       "      <td>object</td>\n",
       "    </tr>\n",
       "  </tbody>\n",
       "</table>\n",
       "</div>"
      ],
      "text/plain": [
       "                   index      mean_nan   dtypes\n",
       "55             emp_title  6.293994e-02   object\n",
       "56            emp_length  5.765619e-02   object\n",
       "57              mort_acc  3.659313e-02  float64\n",
       "58                 title  1.193895e-02   object\n",
       "59            revol_util  6.168382e-04  float64\n",
       "60  pub_rec_bankruptcies  5.394432e-04  float64\n",
       "61                   dti  2.228976e-04  float64\n",
       "62              zip_code  7.739501e-07   object"
      ]
     },
     "execution_count": 23,
     "metadata": {},
     "output_type": "execute_result"
    }
   ],
   "source": [
    "#inspect what is left from features with missing values\n",
    "nan_df[(nan_df['mean_nan']<nan_pct_min) & (nan_df['mean_nan']!=0)]"
   ]
  },
  {
   "cell_type": "markdown",
   "metadata": {
    "colab_type": "text",
    "id": "KxZAmCN_xh5Y"
   },
   "source": [
    "## 4.1 term"
   ]
  },
  {
   "cell_type": "code",
   "execution_count": 24,
   "metadata": {
    "colab": {
     "base_uri": "https://localhost:8080/",
     "height": 68
    },
    "colab_type": "code",
    "id": "fMBE4dqPxh5Z",
    "outputId": "e132f301-4cd2-49a5-c59b-8fcab66890bc"
   },
   "outputs": [
    {
     "data": {
      "text/plain": [
       " 36 months    980327\n",
       " 60 months    311746\n",
       "Name: term, dtype: int64"
      ]
     },
     "execution_count": 24,
     "metadata": {},
     "output_type": "execute_result"
    }
   ],
   "source": [
    "df_drop_nan['term'].value_counts()"
   ]
  },
  {
   "cell_type": "code",
   "execution_count": 25,
   "metadata": {
    "colab": {
     "base_uri": "https://localhost:8080/",
     "height": 34
    },
    "colab_type": "code",
    "id": "76MDN0JNxh5c",
    "outputId": "463ee2f7-d341-49e6-867a-ee0bcb3e1eee"
   },
   "outputs": [
    {
     "data": {
      "text/plain": [
       "{' 36 months': 1, ' 60 months': 2}"
      ]
     },
     "execution_count": 25,
     "metadata": {},
     "output_type": "execute_result"
    }
   ],
   "source": [
    "#Make a dict to convert term to integer\n",
    "term_to_int = {' 36 months': 1, ' 60 months': 2}\n",
    "term_to_int"
   ]
  },
  {
   "cell_type": "markdown",
   "metadata": {
    "colab_type": "text",
    "id": "RB80j9n4xh5g"
   },
   "source": [
    "## 4.2 grade"
   ]
  },
  {
   "cell_type": "code",
   "execution_count": 26,
   "metadata": {
    "colab": {
     "base_uri": "https://localhost:8080/",
     "height": 153
    },
    "colab_type": "code",
    "id": "7TRdLW4zxh5h",
    "outputId": "c97c2f80-ed2c-4987-c6d5-4e7fc57e1a65"
   },
   "outputs": [
    {
     "data": {
      "text/plain": [
       "B    377172\n",
       "C    367025\n",
       "A    223537\n",
       "D    193278\n",
       "E     90818\n",
       "F     31334\n",
       "G      8909\n",
       "Name: grade, dtype: int64"
      ]
     },
     "execution_count": 26,
     "metadata": {},
     "output_type": "execute_result"
    }
   ],
   "source": [
    "df_drop_nan['grade'].value_counts()"
   ]
  },
  {
   "cell_type": "code",
   "execution_count": 27,
   "metadata": {
    "colab": {
     "base_uri": "https://localhost:8080/",
     "height": 34
    },
    "colab_type": "code",
    "id": "RG5vmhVPxh5k",
    "outputId": "8c07220f-dcbb-4965-91bb-cc2b78b544eb"
   },
   "outputs": [
    {
     "data": {
      "text/plain": [
       "'LC assigned loan grade'"
      ]
     },
     "execution_count": 27,
     "metadata": {},
     "output_type": "execute_result"
    }
   ],
   "source": [
    "feat_to_text['grade']"
   ]
  },
  {
   "cell_type": "code",
   "execution_count": 28,
   "metadata": {},
   "outputs": [
    {
     "data": {
      "text/plain": [
       "B    377172\n",
       "C    367025\n",
       "A    223537\n",
       "D    193278\n",
       "E     90818\n",
       "F     31334\n",
       "G      8909\n",
       "Name: grade, dtype: int64"
      ]
     },
     "execution_count": 28,
     "metadata": {},
     "output_type": "execute_result"
    }
   ],
   "source": [
    "df_drop_nan['grade'].value_counts()"
   ]
  },
  {
   "cell_type": "code",
   "execution_count": 29,
   "metadata": {
    "colab": {
     "base_uri": "https://localhost:8080/",
     "height": 34
    },
    "colab_type": "code",
    "id": "PGTUx_4dxh5n",
    "outputId": "4198a1d8-27b0-426c-8b8e-4491cf97faf9"
   },
   "outputs": [
    {
     "data": {
      "text/plain": [
       "{'A': 7, 'B': 6, 'C': 5, 'D': 4, 'E': 3, 'F': 2, 'G': 1}"
      ]
     },
     "execution_count": 29,
     "metadata": {},
     "output_type": "execute_result"
    }
   ],
   "source": [
    "grade_to_int = dict(zip(['A', 'B', 'C', 'D', 'E', 'F', 'G'], np.arange(7, 0, -1)))\n",
    "grade_to_int"
   ]
  },
  {
   "cell_type": "markdown",
   "metadata": {
    "colab_type": "text",
    "id": "henVAxdmxh5t"
   },
   "source": [
    "## 4.3 sub_grade\n",
    "Note that is feature is related to the main grade"
   ]
  },
  {
   "cell_type": "code",
   "execution_count": 30,
   "metadata": {},
   "outputs": [
    {
     "data": {
      "text/plain": [
       "C1    82199\n",
       "B4    79899\n",
       "B5    78982\n",
       "B3    78944\n",
       "C2    76307\n",
       "C3    72097\n",
       "C4    71542\n",
       "B2    71064\n",
       "B1    68283\n",
       "C5    64880\n",
       "A5    61459\n",
       "A4    49876\n",
       "D1    49481\n",
       "D2    43031\n",
       "A1    40736\n",
       "D3    37811\n",
       "A3    36077\n",
       "A2    35389\n",
       "D4    34195\n",
       "D5    28760\n",
       "E1    23053\n",
       "E2    20834\n",
       "E3    17833\n",
       "E4    15231\n",
       "E5    13867\n",
       "F1     9710\n",
       "F2     7033\n",
       "F3     5964\n",
       "F4     4766\n",
       "F5     3861\n",
       "G1     2894\n",
       "G2     2092\n",
       "G3     1587\n",
       "G4     1255\n",
       "G5     1081\n",
       "Name: sub_grade, dtype: int64"
      ]
     },
     "execution_count": 30,
     "metadata": {},
     "output_type": "execute_result"
    }
   ],
   "source": [
    "df_drop_nan['sub_grade'].value_counts()"
   ]
  },
  {
   "cell_type": "code",
   "execution_count": 31,
   "metadata": {},
   "outputs": [
    {
     "data": {
      "image/png": "[encoded data removed]",
      "text/plain": [
       "<Figure size 720x720 with 1 Axes>"
      ]
     },
     "metadata": {
      "needs_background": "light"
     },
     "output_type": "display_data"
    }
   ],
   "source": [
    "plt.figure(figsize=(10,10))\n",
    "sns.countplot(x='sub_grade', \n",
    "              data=df_drop_nan, \n",
    "              order=sorted(df_drop_nan['sub_grade'].unique()))\n",
    "plt.savefig(os.path.join('plots', 'sub_grade_count.png'))"
   ]
  },
  {
   "cell_type": "code",
   "execution_count": 32,
   "metadata": {
    "colab": {
     "base_uri": "https://localhost:8080/",
     "height": 54
    },
    "colab_type": "code",
    "id": "QV1NA1dgxh5u",
    "outputId": "5c9d67b8-5f97-4714-ed1a-7fbae186ab77"
   },
   "outputs": [
    {
     "name": "stdout",
     "output_type": "stream",
     "text": [
      "{'G5': 0, 'G4': 1, 'G3': 2, 'G2': 3, 'G1': 4, 'F5': 5, 'F4': 6, 'F3': 7, 'F2': 8, 'F1': 9, 'E5': 10, 'E4': 11, 'E3': 12, 'E2': 13, 'E1': 14, 'D5': 15, 'D4': 16, 'D3': 17, 'D2': 18, 'D1': 19, 'C5': 20, 'C4': 21, 'C3': 22, 'C2': 23, 'C1': 24, 'B5': 25, 'B4': 26, 'B3': 27, 'B2': 28, 'B1': 29, 'A5': 30, 'A4': 31, 'A3': 32, 'A2': 33, 'A1': 34}\n"
     ]
    }
   ],
   "source": [
    "#get unique sub grades sorted in ascending order\n",
    "sub_grade_sorted = sorted(df_drop_nan['sub_grade'].unique())[::-1]\n",
    "sub_grade_to_int = dict(zip(sub_grade_sorted, np.arange(0, len(sub_grade_sorted))))\n",
    "#print side to side\n",
    "print(sub_grade_to_int)"
   ]
  },
  {
   "cell_type": "markdown",
   "metadata": {
    "colab_type": "text",
    "id": "c8duulLxxh5x"
   },
   "source": [
    "## 4.4 emp_title"
   ]
  },
  {
   "cell_type": "code",
   "execution_count": 33,
   "metadata": {
    "colab": {
     "base_uri": "https://localhost:8080/",
     "height": 544
    },
    "colab_type": "code",
    "id": "W9r3FFXpxh5y",
    "outputId": "aeeba5ac-cd64-4de8-94ad-0592b18e9e94",
    "scrolled": false
   },
   "outputs": [
    {
     "data": {
      "text/plain": [
       "Teacher                     20302\n",
       "Manager                     18527\n",
       "Owner                        9742\n",
       "Registered Nurse             8402\n",
       "RN                           8181\n",
       "Supervisor                   7942\n",
       "Sales                        7157\n",
       "Driver                       7144\n",
       "Project Manager              6085\n",
       "Office Manager               5307\n",
       "General Manager              4971\n",
       "Director                     4815\n",
       "owner                        4388\n",
       "manager                      4348\n",
       "Engineer                     4103\n",
       "President                    3971\n",
       "teacher                      3933\n",
       "Vice President               3388\n",
       "driver                       3384\n",
       "Operations Manager           3314\n",
       "Accountant                   3175\n",
       "Sales Manager                2954\n",
       "Administrative Assistant     2947\n",
       "Attorney                     2939\n",
       "Account Manager              2659\n",
       "Police Officer               2610\n",
       "Nurse                        2530\n",
       "Technician                   2461\n",
       "Analyst                      2453\n",
       "sales                        2437\n",
       "Name: emp_title, dtype: int64"
      ]
     },
     "execution_count": 33,
     "metadata": {},
     "output_type": "execute_result"
    }
   ],
   "source": [
    "#what are top  titles\n",
    "df_drop_nan['emp_title'].value_counts()[:30]"
   ]
  },
  {
   "cell_type": "markdown",
   "metadata": {
    "colab_type": "text",
    "id": "iZRSRY7Xxh51"
   },
   "source": [
    "There are a lot of titles to consider and it makes sense to turn this into a binary feature. we could make use of **pandas.get_dummies** method for this task however we will use a custom function that combines similar titles like VP and President into executives."
   ]
  },
  {
   "cell_type": "code",
   "execution_count": 34,
   "metadata": {
    "colab": {},
    "colab_type": "code",
    "id": "rJp2n1n5xh52"
   },
   "outputs": [],
   "source": [
    "def emp_title_to_dict(e_title):\n",
    "    #force make string if not and make lower\n",
    "    title_lower = str(e_title).lower()\n",
    "    \n",
    "    #list of employment types to consider\n",
    "    emp_list = ['e_manager', 'e_educ', 'e_self',\n",
    "                'e_health', 'e_exec', 'e_driver',\n",
    "                'e_law', 'e_admin', 'e_fin', 'e_other']\n",
    "    \n",
    "    #instantiate title dict\n",
    "    title_dict = dict(zip(emp_list, len(emp_list)*[0]))\n",
    "    \n",
    "    #check and fill out dict\n",
    "    if any(job in title_lower for job in ['manag', 'superv']):\n",
    "        title_dict['e_manager'] = 1\n",
    "        \n",
    "    elif 'teacher' in title_lower:\n",
    "        title_dict['e_educ'] = 1\n",
    "\n",
    "    elif 'owner' in title_lower:\n",
    "        title_dict['e_self'] = 1\n",
    "    \n",
    "    elif any(job in title_lower for job in ['rn', 'registered nurse', 'nurse',\n",
    "                                          'doctor', 'pharm', 'medic']):\n",
    "        title_dict['e_health'] = 1\n",
    "    \n",
    "    elif any(job in title_lower for job in ['vice president', 'president', 'director',\n",
    "                                          'exec', 'chief']):\n",
    "        title_dict['e_exec'] = 1\n",
    "        \n",
    "    elif any(job in title_lower for job in ['driver', 'trucker']):\n",
    "        title_dict['e_driver'] = 1   \n",
    "    \n",
    "    elif any(job in title_lower for job in ['lawyer', 'legal', 'judg']):\n",
    "        title_dict['e_law'] = 1    \n",
    "    \n",
    "    elif 'admin' in title_lower:\n",
    "        title_dict['e_admin'] = 1    \n",
    "    \n",
    "    elif any(job in title_lower for job in ['analyst', 'financ', 'sales']):\n",
    "        title_dict['e_fin'] = 1\n",
    "    else:\n",
    "        title_dict['e_other'] = 1\n",
    "    \n",
    "    return title_dict"
   ]
  },
  {
   "cell_type": "code",
   "execution_count": 35,
   "metadata": {
    "colab": {
     "base_uri": "https://localhost:8080/",
     "height": 170
    },
    "colab_type": "code",
    "id": "dwPS2FNqxh56",
    "outputId": "b757842e-657e-4600-a1e2-b09f3e747e0e"
   },
   "outputs": [
    {
     "data": {
      "text/plain": [
       "{'e_manager': 1,\n",
       " 'e_educ': 0,\n",
       " 'e_self': 0,\n",
       " 'e_health': 0,\n",
       " 'e_exec': 0,\n",
       " 'e_driver': 0,\n",
       " 'e_law': 0,\n",
       " 'e_admin': 0,\n",
       " 'e_fin': 0,\n",
       " 'e_other': 0}"
      ]
     },
     "execution_count": 35,
     "metadata": {},
     "output_type": "execute_result"
    }
   ],
   "source": [
    "#example\n",
    "emp_title_to_dict('regional executive manager')"
   ]
  },
  {
   "cell_type": "markdown",
   "metadata": {
    "colab_type": "text",
    "id": "fzyqB6kYxh59"
   },
   "source": [
    "## 4.5 emp_length\n",
    "This feature contains very few entries with missing values. It also raises the question of people with little to no work experience."
   ]
  },
  {
   "cell_type": "code",
   "execution_count": 36,
   "metadata": {
    "colab": {
     "base_uri": "https://localhost:8080/",
     "height": 221
    },
    "colab_type": "code",
    "id": "I68QU6fDxh5-",
    "outputId": "65dbf015-4fac-4ac4-a7ef-43144a15ed0c"
   },
   "outputs": [
    {
     "data": {
      "text/plain": [
       "10+ years    424609\n",
       "2 years      116845\n",
       "< 1 year     103546\n",
       "3 years      103296\n",
       "1 year        84986\n",
       "5 years       80925\n",
       "4 years       77302\n",
       "6 years       60401\n",
       "8 years       58715\n",
       "7 years       57705\n",
       "9 years       49247\n",
       "Name: emp_length, dtype: int64"
      ]
     },
     "execution_count": 36,
     "metadata": {},
     "output_type": "execute_result"
    }
   ],
   "source": [
    "df_drop_nan['emp_length'].value_counts()"
   ]
  },
  {
   "cell_type": "code",
   "execution_count": 37,
   "metadata": {
    "colab": {},
    "colab_type": "code",
    "id": "ceAbmoebxh6E"
   },
   "outputs": [],
   "source": [
    "def emp_time_to_int(emp_length_str):\n",
    "    \"\"\"\n",
    "    extracts the digits from employment duration\n",
    "    \"\"\"\n",
    "    \n",
    "    #provision for missing values\n",
    "    if pd.isna(emp_length_str):\n",
    "        return 0\n",
    "    \n",
    "    emp_int = [char for char in (emp_length_str) if char.isdigit()]\n",
    "    emp_int = ''.join(emp_int)\n",
    "\n",
    "    if len(emp_int)>= 1:\n",
    "        return int(emp_int)\n",
    "    else:\n",
    "        return 0\n",
    "    "
   ]
  },
  {
   "cell_type": "code",
   "execution_count": 38,
   "metadata": {
    "colab": {
     "base_uri": "https://localhost:8080/",
     "height": 34
    },
    "colab_type": "code",
    "id": "LqK6w6Noxh6J",
    "outputId": "04649ec3-102d-4478-81ff-dfe0be72e466"
   },
   "outputs": [
    {
     "data": {
      "text/plain": [
       "10"
      ]
     },
     "execution_count": 38,
     "metadata": {},
     "output_type": "execute_result"
    }
   ],
   "source": [
    "#example\n",
    "emp_time_to_int('10+ years')"
   ]
  },
  {
   "cell_type": "raw",
   "metadata": {
    "colab_type": "text",
    "id": "DKGkvCRrxh6O"
   },
   "source": [
    "## 4.6 home_ownership"
   ]
  },
  {
   "cell_type": "code",
   "execution_count": 39,
   "metadata": {
    "colab": {
     "base_uri": "https://localhost:8080/",
     "height": 136
    },
    "colab_type": "code",
    "id": "3-GC8TnYxh6R",
    "outputId": "a522189c-06a0-412d-865a-815567d9ff67"
   },
   "outputs": [
    {
     "data": {
      "text/plain": [
       "MORTGAGE    639373\n",
       "RENT        513888\n",
       "OWN         138364\n",
       "ANY            256\n",
       "OTHER          144\n",
       "NONE            48\n",
       "Name: home_ownership, dtype: int64"
      ]
     },
     "execution_count": 39,
     "metadata": {},
     "output_type": "execute_result"
    }
   ],
   "source": [
    "df_drop_nan['home_ownership'].value_counts()"
   ]
  },
  {
   "cell_type": "code",
   "execution_count": 40,
   "metadata": {
    "colab": {
     "base_uri": "https://localhost:8080/",
     "height": 54
    },
    "colab_type": "code",
    "id": "TzvdL30Qxh6U",
    "outputId": "ea43df64-0120-4464-f292-a81b6ccffec3"
   },
   "outputs": [
    {
     "data": {
      "text/plain": [
       "'The home ownership status provided by the borrower during registration\\xa0or obtained from the credit report.\\xa0Our values are: RENT, OWN, MORTGAGE, OTHER'"
      ]
     },
     "execution_count": 40,
     "metadata": {},
     "output_type": "execute_result"
    }
   ],
   "source": [
    "feat_to_text['home_ownership']"
   ]
  },
  {
   "cell_type": "code",
   "execution_count": 41,
   "metadata": {
    "colab": {},
    "colab_type": "code",
    "id": "JFZFbV3Cxh6Y"
   },
   "outputs": [],
   "source": [
    "#make dict for homeownership rank ownership as lowest value\n",
    "home_to_int = {'MORTGAGE': 4,\n",
    "               'RENT': 3,\n",
    "               'OWN': 5,         \n",
    "               'ANY': 2,            \n",
    "               'OTHER': 1,          \n",
    "               'NONE':0 }"
   ]
  },
  {
   "cell_type": "markdown",
   "metadata": {
    "colab_type": "text",
    "id": "Eg6KayRHxh6b"
   },
   "source": [
    "## 4.7 verification_status"
   ]
  },
  {
   "cell_type": "code",
   "execution_count": 42,
   "metadata": {
    "colab": {
     "base_uri": "https://localhost:8080/",
     "height": 85
    },
    "colab_type": "code",
    "id": "LPa-CfFXxh6c",
    "outputId": "7fcd6e5b-1756-4883-ad61-84361a9b0595"
   },
   "outputs": [
    {
     "data": {
      "text/plain": [
       "Source Verified    499061\n",
       "Verified           405315\n",
       "Not Verified       387697\n",
       "Name: verification_status, dtype: int64"
      ]
     },
     "execution_count": 42,
     "metadata": {},
     "output_type": "execute_result"
    }
   ],
   "source": [
    "df_drop_nan['verification_status'].value_counts()"
   ]
  },
  {
   "cell_type": "code",
   "execution_count": 43,
   "metadata": {
    "colab": {
     "base_uri": "https://localhost:8080/",
     "height": 34
    },
    "colab_type": "code",
    "id": "mijMf1Clxh6h",
    "outputId": "d5e59496-f8c2-4a24-fd82-b44dd3f2842c"
   },
   "outputs": [
    {
     "data": {
      "text/plain": [
       "'Indicates if income was verified by LC, not verified, or if the income source was verified'"
      ]
     },
     "execution_count": 43,
     "metadata": {},
     "output_type": "execute_result"
    }
   ],
   "source": [
    "feat_to_text['verification_status']"
   ]
  },
  {
   "cell_type": "code",
   "execution_count": 44,
   "metadata": {
    "colab": {},
    "colab_type": "code",
    "id": "XqXhzY5vxh6m"
   },
   "outputs": [],
   "source": [
    "#dict to rank income verification\n",
    "ver_stat_to_int = {'Source Verified':2,\n",
    "                   'Verified': 1,\n",
    "                   'Not Verified': 0}"
   ]
  },
  {
   "cell_type": "markdown",
   "metadata": {
    "colab_type": "text",
    "id": "HhmFgVBNxh6q"
   },
   "source": [
    "## 4.10 loan_status\n",
    "This is our binary target variable"
   ]
  },
  {
   "cell_type": "code",
   "execution_count": 45,
   "metadata": {
    "colab": {
     "base_uri": "https://localhost:8080/",
     "height": 68
    },
    "colab_type": "code",
    "id": "sQ4kOqa8xh6r",
    "outputId": "c7cb2469-fe7e-453a-ce8c-cb0582dc185c"
   },
   "outputs": [
    {
     "data": {
      "text/plain": [
       "Fully Paid     1031042\n",
       "Charged Off     261031\n",
       "Name: loan_status, dtype: int64"
      ]
     },
     "execution_count": 45,
     "metadata": {},
     "output_type": "execute_result"
    }
   ],
   "source": [
    "df_drop_nan['loan_status'].value_counts()"
   ]
  },
  {
   "cell_type": "code",
   "execution_count": 46,
   "metadata": {
    "colab": {},
    "colab_type": "code",
    "id": "Mpr-YsPexh6z"
   },
   "outputs": [],
   "source": [
    "loan_stat_to_int = {'Fully Paid': 1,\n",
    "                    'Charged Off': 0}"
   ]
  },
  {
   "cell_type": "markdown",
   "metadata": {
    "colab_type": "text",
    "id": "Ke473Lnfxh66"
   },
   "source": [
    "## 4.11 purpose"
   ]
  },
  {
   "cell_type": "code",
   "execution_count": 47,
   "metadata": {},
   "outputs": [
    {
     "data": {
      "text/plain": [
       "'A category provided by the borrower for the loan request. '"
      ]
     },
     "execution_count": 47,
     "metadata": {},
     "output_type": "execute_result"
    }
   ],
   "source": [
    "feat_to_text['purpose']"
   ]
  },
  {
   "cell_type": "code",
   "execution_count": 48,
   "metadata": {
    "colab": {
     "base_uri": "https://localhost:8080/",
     "height": 272
    },
    "colab_type": "code",
    "id": "VafMnaz1xh68",
    "outputId": "efd8a726-f752-4f00-eb1b-14df457fcd44"
   },
   "outputs": [
    {
     "data": {
      "text/plain": [
       "debt_consolidation    751496\n",
       "credit_card           283348\n",
       "home_improvement       83569\n",
       "other                  73984\n",
       "major_purchase         27997\n",
       "small_business         14915\n",
       "medical                14826\n",
       "car                    13954\n",
       "moving                  9053\n",
       "vacation                8607\n",
       "house                   6803\n",
       "wedding                 2294\n",
       "renewable_energy         901\n",
       "educational              326\n",
       "Name: purpose, dtype: int64"
      ]
     },
     "execution_count": 48,
     "metadata": {},
     "output_type": "execute_result"
    }
   ],
   "source": [
    "df_drop_nan['purpose'].value_counts()"
   ]
  },
  {
   "cell_type": "code",
   "execution_count": 49,
   "metadata": {
    "colab": {},
    "colab_type": "code",
    "id": "nAANXsNfxh7D"
   },
   "outputs": [],
   "source": [
    "def purpose_to_dummy(purpose_series, prefix='purp'):\n",
    "    \"\"\"\n",
    "    returns dummy dataframe\n",
    "    \"\"\"\n",
    "    \n",
    "    return pd.get_dummies(purpose_series.str.lower(), prefix=prefix)"
   ]
  },
  {
   "cell_type": "code",
   "execution_count": 50,
   "metadata": {},
   "outputs": [
    {
     "data": {
      "text/html": [
       "<div>\n",
       "<style scoped>\n",
       "    .dataframe tbody tr th:only-of-type {\n",
       "        vertical-align: middle;\n",
       "    }\n",
       "\n",
       "    .dataframe tbody tr th {\n",
       "        vertical-align: top;\n",
       "    }\n",
       "\n",
       "    .dataframe thead th {\n",
       "        text-align: right;\n",
       "    }\n",
       "</style>\n",
       "<table border=\"1\" class=\"dataframe\">\n",
       "  <thead>\n",
       "    <tr style=\"text-align: right;\">\n",
       "      <th></th>\n",
       "      <th>purp_car</th>\n",
       "      <th>purp_credit_card</th>\n",
       "      <th>purp_debt_consolidation</th>\n",
       "      <th>purp_educational</th>\n",
       "      <th>purp_home_improvement</th>\n",
       "      <th>purp_house</th>\n",
       "      <th>purp_major_purchase</th>\n",
       "      <th>purp_medical</th>\n",
       "      <th>purp_moving</th>\n",
       "      <th>purp_other</th>\n",
       "      <th>purp_renewable_energy</th>\n",
       "      <th>purp_small_business</th>\n",
       "      <th>purp_vacation</th>\n",
       "      <th>purp_wedding</th>\n",
       "    </tr>\n",
       "  </thead>\n",
       "  <tbody>\n",
       "    <tr>\n",
       "      <th>2139270</th>\n",
       "      <td>0</td>\n",
       "      <td>0</td>\n",
       "      <td>1</td>\n",
       "      <td>0</td>\n",
       "      <td>0</td>\n",
       "      <td>0</td>\n",
       "      <td>0</td>\n",
       "      <td>0</td>\n",
       "      <td>0</td>\n",
       "      <td>0</td>\n",
       "      <td>0</td>\n",
       "      <td>0</td>\n",
       "      <td>0</td>\n",
       "      <td>0</td>\n",
       "    </tr>\n",
       "    <tr>\n",
       "      <th>2139264</th>\n",
       "      <td>0</td>\n",
       "      <td>1</td>\n",
       "      <td>0</td>\n",
       "      <td>0</td>\n",
       "      <td>0</td>\n",
       "      <td>0</td>\n",
       "      <td>0</td>\n",
       "      <td>0</td>\n",
       "      <td>0</td>\n",
       "      <td>0</td>\n",
       "      <td>0</td>\n",
       "      <td>0</td>\n",
       "      <td>0</td>\n",
       "      <td>0</td>\n",
       "    </tr>\n",
       "    <tr>\n",
       "      <th>2139247</th>\n",
       "      <td>0</td>\n",
       "      <td>0</td>\n",
       "      <td>0</td>\n",
       "      <td>1</td>\n",
       "      <td>0</td>\n",
       "      <td>0</td>\n",
       "      <td>0</td>\n",
       "      <td>0</td>\n",
       "      <td>0</td>\n",
       "      <td>0</td>\n",
       "      <td>0</td>\n",
       "      <td>0</td>\n",
       "      <td>0</td>\n",
       "      <td>0</td>\n",
       "    </tr>\n",
       "    <tr>\n",
       "      <th>2139246</th>\n",
       "      <td>0</td>\n",
       "      <td>0</td>\n",
       "      <td>0</td>\n",
       "      <td>0</td>\n",
       "      <td>0</td>\n",
       "      <td>0</td>\n",
       "      <td>0</td>\n",
       "      <td>0</td>\n",
       "      <td>0</td>\n",
       "      <td>1</td>\n",
       "      <td>0</td>\n",
       "      <td>0</td>\n",
       "      <td>0</td>\n",
       "      <td>0</td>\n",
       "    </tr>\n",
       "    <tr>\n",
       "      <th>2139245</th>\n",
       "      <td>0</td>\n",
       "      <td>0</td>\n",
       "      <td>1</td>\n",
       "      <td>0</td>\n",
       "      <td>0</td>\n",
       "      <td>0</td>\n",
       "      <td>0</td>\n",
       "      <td>0</td>\n",
       "      <td>0</td>\n",
       "      <td>0</td>\n",
       "      <td>0</td>\n",
       "      <td>0</td>\n",
       "      <td>0</td>\n",
       "      <td>0</td>\n",
       "    </tr>\n",
       "  </tbody>\n",
       "</table>\n",
       "</div>"
      ],
      "text/plain": [
       "         purp_car  purp_credit_card  purp_debt_consolidation  \\\n",
       "2139270         0                 0                        1   \n",
       "2139264         0                 1                        0   \n",
       "2139247         0                 0                        0   \n",
       "2139246         0                 0                        0   \n",
       "2139245         0                 0                        1   \n",
       "\n",
       "         purp_educational  purp_home_improvement  purp_house  \\\n",
       "2139270                 0                      0           0   \n",
       "2139264                 0                      0           0   \n",
       "2139247                 1                      0           0   \n",
       "2139246                 0                      0           0   \n",
       "2139245                 0                      0           0   \n",
       "\n",
       "         purp_major_purchase  purp_medical  purp_moving  purp_other  \\\n",
       "2139270                    0             0            0           0   \n",
       "2139264                    0             0            0           0   \n",
       "2139247                    0             0            0           0   \n",
       "2139246                    0             0            0           1   \n",
       "2139245                    0             0            0           0   \n",
       "\n",
       "         purp_renewable_energy  purp_small_business  purp_vacation  \\\n",
       "2139270                      0                    0              0   \n",
       "2139264                      0                    0              0   \n",
       "2139247                      0                    0              0   \n",
       "2139246                      0                    0              0   \n",
       "2139245                      0                    0              0   \n",
       "\n",
       "         purp_wedding  \n",
       "2139270             0  \n",
       "2139264             0  \n",
       "2139247             0  \n",
       "2139246             0  \n",
       "2139245             0  "
      ]
     },
     "execution_count": 50,
     "metadata": {},
     "output_type": "execute_result"
    }
   ],
   "source": [
    "purpose_to_dummy(df_drop_nan['purpose']).head()"
   ]
  },
  {
   "cell_type": "markdown",
   "metadata": {
    "colab_type": "text",
    "id": "k678KCTAxh7I"
   },
   "source": [
    "## 4.12 title   \n",
    "\n",
    "Note the subtle difference between title and purpose. Title is the loan title as given by the borrower, purpose is category provided by the borrower for the loan request. It might make sense to keep purpose and drop title as purpose is more concise."
   ]
  },
  {
   "cell_type": "code",
   "execution_count": 51,
   "metadata": {},
   "outputs": [
    {
     "data": {
      "text/plain": [
       "'The loan title provided by the borrower'"
      ]
     },
     "execution_count": 51,
     "metadata": {},
     "output_type": "execute_result"
    }
   ],
   "source": [
    "feat_to_text['title']"
   ]
  },
  {
   "cell_type": "code",
   "execution_count": 52,
   "metadata": {
    "colab": {
     "base_uri": "https://localhost:8080/",
     "height": 459
    },
    "colab_type": "code",
    "id": "GD1qH44Axh7J",
    "outputId": "ac16dac6-de5a-43e7-8c7e-77e5a560acc8"
   },
   "outputs": [
    {
     "data": {
      "text/plain": [
       "Debt consolidation           632850\n",
       "Credit card refinancing      238323\n",
       "Home improvement              71199\n",
       "Other                         62925\n",
       "Major purchase                22643\n",
       "Debt Consolidation            15692\n",
       "Medical expenses              12863\n",
       "Business                      11264\n",
       "Car financing                 10602\n",
       "Vacation                       7596\n",
       "Moving and relocation          7527\n",
       "Home buying                    5447\n",
       "Consolidation                  5353\n",
       "debt consolidation             4812\n",
       "Debt Consolidation Loan        3777\n",
       "Credit Card Consolidation      2347\n",
       "consolidation                  2163\n",
       "Personal Loan                  2086\n",
       "Consolidation Loan             1770\n",
       "Home Improvement               1757\n",
       "Credit Card Refinance          1464\n",
       "Credit Card Payoff             1377\n",
       "Consolidate                    1254\n",
       "Personal                       1163\n",
       "Loan                           1028\n",
       "Name: title, dtype: int64"
      ]
     },
     "execution_count": 52,
     "metadata": {},
     "output_type": "execute_result"
    }
   ],
   "source": [
    "df_drop_nan['title'].value_counts()[:25]"
   ]
  },
  {
   "cell_type": "markdown",
   "metadata": {
    "colab_type": "text",
    "id": "73gGZHLqxh7O"
   },
   "source": [
    "This is another instance where we should return a dataframe"
   ]
  },
  {
   "cell_type": "code",
   "execution_count": 53,
   "metadata": {
    "colab": {},
    "colab_type": "code",
    "id": "eENyVTTbxh7P"
   },
   "outputs": [],
   "source": [
    "def title_to_int(title):\n",
    "    #force make string if not and make lower\n",
    "    title_lower = str(title).lower()\n",
    "    \n",
    "    #list of employment types to consider\n",
    "    title_list = ['debt_consol', 'refinancing', 'major',\n",
    "                  'home', 'car', 'travel', 'health', 'business']\n",
    "    \n",
    "    #instantiate title dict\n",
    "    title_dict = dict(zip(title_list,\n",
    "                          len(title_list)*[0]))\n",
    "    \n",
    "    #check and fill out dict\n",
    "    if 'consol' in title_lower:\n",
    "        title_dict['debt_consol'] = 1\n",
    "        \n",
    "    if 'refinanc' in title_lower:\n",
    "        title_dict['refinancing'] = 1\n",
    "\n",
    "    if 'major' in title_lower:\n",
    "        title_dict['major'] = 1\n",
    "    \n",
    "    if 'home imp' in title_lower:\n",
    "        title_dict['home'] = 1\n",
    "    \n",
    "    if 'car' in title_lower:\n",
    "        title_dict['car'] = 1\n",
    "  \n",
    "    if any(t in title_lower for t in ['travel', 'vacation']):\n",
    "        title_dict['travel'] = 1       \n",
    "    \n",
    "    if any(t in title_lower for t in ['health', 'medic']):\n",
    "        title_dict['health'] = 1\n",
    "        \n",
    "    if any(t in title_lower for t in ['business', 'invest']):\n",
    "        title_dict['business'] = 1\n",
    "    \n",
    "    return title_dict"
   ]
  },
  {
   "cell_type": "code",
   "execution_count": 54,
   "metadata": {
    "colab": {
     "base_uri": "https://localhost:8080/",
     "height": 153
    },
    "colab_type": "code",
    "id": "vCIaf9Umxh7U",
    "outputId": "6074d182-03f5-4acb-ac52-11b1bd802a39"
   },
   "outputs": [
    {
     "data": {
      "text/plain": [
       "{'debt_consol': 0,\n",
       " 'refinancing': 0,\n",
       " 'major': 0,\n",
       " 'home': 1,\n",
       " 'car': 0,\n",
       " 'travel': 0,\n",
       " 'health': 0,\n",
       " 'business': 0}"
      ]
     },
     "execution_count": 54,
     "metadata": {},
     "output_type": "execute_result"
    }
   ],
   "source": [
    "#example\n",
    "title_to_int('HoMe ImprovemeNT')"
   ]
  },
  {
   "cell_type": "markdown",
   "metadata": {
    "colab_type": "text",
    "id": "nqu7UsNixh7Y"
   },
   "source": [
    "## 4.13 zip_code\n",
    "We will extract the first 3 digits of zip code to keep track of stats"
   ]
  },
  {
   "cell_type": "code",
   "execution_count": 55,
   "metadata": {
    "colab": {
     "base_uri": "https://localhost:8080/",
     "height": 119
    },
    "colab_type": "code",
    "id": "6R5XqBjVxh7a",
    "outputId": "2b47a4c1-e4a8-4f8c-bd18-b4754339ff66"
   },
   "outputs": [
    {
     "data": {
      "text/plain": [
       "945    14488\n",
       "750    13915\n",
       "112    13298\n",
       "606    11970\n",
       "300    11601\n",
       "Name: zip_code, dtype: int64"
      ]
     },
     "execution_count": 55,
     "metadata": {},
     "output_type": "execute_result"
    }
   ],
   "source": [
    "#in future will wrangle data using zip code\n",
    "df_drop_nan['zip_code'].str.replace('x', '').value_counts()[:5]"
   ]
  },
  {
   "cell_type": "markdown",
   "metadata": {
    "colab_type": "text",
    "id": "0wCsrDm1xh7e"
   },
   "source": [
    "## 4.14 addr_state"
   ]
  },
  {
   "cell_type": "code",
   "execution_count": 56,
   "metadata": {
    "colab": {
     "base_uri": "https://localhost:8080/",
     "height": 119
    },
    "colab_type": "code",
    "id": "8hLz9HqQxh7f",
    "outputId": "718c04ec-8072-4a34-a19d-96767ca7feef"
   },
   "outputs": [
    {
     "data": {
      "text/plain": [
       "CA    189338\n",
       "TX    105705\n",
       "NY    105546\n",
       "FL     91694\n",
       "IL     49620\n",
       "Name: addr_state, dtype: int64"
      ]
     },
     "execution_count": 56,
     "metadata": {},
     "output_type": "execute_result"
    }
   ],
   "source": [
    "df_drop_nan['addr_state'].value_counts()[:5]"
   ]
  },
  {
   "cell_type": "markdown",
   "metadata": {
    "colab_type": "text",
    "id": "-_dmGKOexh7h"
   },
   "source": [
    "Might drop this feature at a later stage or use to wrangle data on a geographic basis."
   ]
  },
  {
   "cell_type": "markdown",
   "metadata": {
    "colab_type": "text",
    "id": "lz5Bibfcxh7i"
   },
   "source": [
    "## 4.15 earliest_cr_line & issue_d"
   ]
  },
  {
   "cell_type": "code",
   "execution_count": 57,
   "metadata": {
    "colab": {},
    "colab_type": "code",
    "id": "Kocqq5Znxh7i"
   },
   "outputs": [],
   "source": [
    "def credit_time_delta(earliest_cr_line, issue_d):\n",
    "    #get time differential\n",
    "    time_delta = pd.to_datetime(issue_d) - pd.to_datetime(earliest_cr_line)\n",
    "    return time_delta.dt.days"
   ]
  },
  {
   "cell_type": "markdown",
   "metadata": {
    "colab_type": "text",
    "id": "aMMw5OeCxh7l"
   },
   "source": [
    "## 4.16 initial_list_status"
   ]
  },
  {
   "cell_type": "code",
   "execution_count": 58,
   "metadata": {
    "colab": {
     "base_uri": "https://localhost:8080/",
     "height": 34
    },
    "colab_type": "code",
    "id": "web1O0TSxh7l",
    "outputId": "ec5d1e35-51c5-4fba-c4f2-41e5a9b92403"
   },
   "outputs": [
    {
     "data": {
      "text/plain": [
       "'The initial listing status of the loan. Possible values are – W, F'"
      ]
     },
     "execution_count": 58,
     "metadata": {},
     "output_type": "execute_result"
    }
   ],
   "source": [
    "#note that this was a cheat feature\n",
    "feat_to_text['initial_list_status']"
   ]
  },
  {
   "cell_type": "code",
   "execution_count": 59,
   "metadata": {
    "colab": {},
    "colab_type": "code",
    "id": "TozktqsUxh7q"
   },
   "outputs": [],
   "source": [
    "# #convert to binary target\n",
    "# initial_list_status_dict = {'w':0, 'f':1}"
   ]
  },
  {
   "cell_type": "markdown",
   "metadata": {
    "colab_type": "text",
    "id": "CNJC5erMxh7s"
   },
   "source": [
    "## 4.17 application_type"
   ]
  },
  {
   "cell_type": "code",
   "execution_count": 60,
   "metadata": {
    "colab": {
     "base_uri": "https://localhost:8080/",
     "height": 68
    },
    "colab_type": "code",
    "id": "CVdmgbaqxh7t",
    "outputId": "5f4f031e-d389-4d90-da72-4a08af6982a1"
   },
   "outputs": [
    {
     "data": {
      "text/plain": [
       "Individual    1270168\n",
       "Joint App       21905\n",
       "Name: application_type, dtype: int64"
      ]
     },
     "execution_count": 60,
     "metadata": {},
     "output_type": "execute_result"
    }
   ],
   "source": [
    "df_drop_nan['application_type'].value_counts()"
   ]
  },
  {
   "cell_type": "code",
   "execution_count": 61,
   "metadata": {
    "colab": {},
    "colab_type": "code",
    "id": "qmHjKvvcxh7x"
   },
   "outputs": [],
   "source": [
    "application_type_dict = {'Individual': 0,\n",
    "                         'Joint App': 1}"
   ]
  },
  {
   "cell_type": "markdown",
   "metadata": {
    "colab_type": "text",
    "id": "A371jwNcEKQu"
   },
   "source": [
    "## 4.18 mo_sin_old_il_acct"
   ]
  },
  {
   "cell_type": "code",
   "execution_count": 62,
   "metadata": {
    "colab": {
     "base_uri": "https://localhost:8080/",
     "height": 34
    },
    "colab_type": "code",
    "id": "oU-2j9t_EMxJ",
    "outputId": "b2bc3d7d-e6c7-4081-b873-9f2a062d14bd"
   },
   "outputs": [
    {
     "data": {
      "text/plain": [
       "'Months since oldest bank installment account opened'"
      ]
     },
     "execution_count": 62,
     "metadata": {},
     "output_type": "execute_result"
    }
   ],
   "source": [
    "feat_to_text['mo_sin_old_il_acct']"
   ]
  },
  {
   "cell_type": "code",
   "execution_count": 63,
   "metadata": {
    "colab": {
     "base_uri": "https://localhost:8080/",
     "height": 315
    },
    "colab_type": "code",
    "id": "dq9Ppan0EMo0",
    "outputId": "48d23596-f0f8-43b3-dc50-1e5475d46ef7"
   },
   "outputs": [],
   "source": [
    "#df_drop_nan.hist(column='mo_sin_old_il_acct')"
   ]
  },
  {
   "cell_type": "markdown",
   "metadata": {
    "colab_type": "text",
    "id": "Lp54GdhrHkwz"
   },
   "source": [
    "For this missing feature we decide to fill with the mode."
   ]
  },
  {
   "cell_type": "markdown",
   "metadata": {
    "colab_type": "text",
    "id": "pFwtKM8TPf4r"
   },
   "source": [
    "## 4.19 mo_sin_old_rev_tl_op"
   ]
  },
  {
   "cell_type": "code",
   "execution_count": 64,
   "metadata": {
    "colab": {
     "base_uri": "https://localhost:8080/",
     "height": 34
    },
    "colab_type": "code",
    "id": "Yp22ghRhPpWB",
    "outputId": "92bffb57-72ae-4f3a-b3bf-4743199859c2"
   },
   "outputs": [
    {
     "data": {
      "text/plain": [
       "'Months since oldest revolving account opened'"
      ]
     },
     "execution_count": 64,
     "metadata": {},
     "output_type": "execute_result"
    }
   ],
   "source": [
    "feat_to_text['mo_sin_old_rev_tl_op']"
   ]
  },
  {
   "cell_type": "code",
   "execution_count": 65,
   "metadata": {
    "colab": {
     "base_uri": "https://localhost:8080/",
     "height": 315
    },
    "colab_type": "code",
    "id": "ZtBVs_Q2qGzV",
    "outputId": "0cf6445a-4478-46a5-a252-4bea6452d218"
   },
   "outputs": [],
   "source": [
    "# df_drop_nan.hist(column='mo_sin_old_rev_tl_op')"
   ]
  },
  {
   "cell_type": "markdown",
   "metadata": {
    "colab_type": "text",
    "id": "X3q-IE8NPp5J"
   },
   "source": [
    "## 4.20 mort_acc"
   ]
  },
  {
   "cell_type": "code",
   "execution_count": 66,
   "metadata": {
    "colab": {
     "base_uri": "https://localhost:8080/",
     "height": 34
    },
    "colab_type": "code",
    "id": "8KeEr38drShJ",
    "outputId": "40db3dc0-7ff1-4588-aa1d-e1b8610a5180"
   },
   "outputs": [
    {
     "data": {
      "text/plain": [
       "'Number of mortgage accounts.'"
      ]
     },
     "execution_count": 66,
     "metadata": {},
     "output_type": "execute_result"
    }
   ],
   "source": [
    "feat_to_text['mort_acc']"
   ]
  },
  {
   "cell_type": "code",
   "execution_count": 67,
   "metadata": {
    "colab": {
     "base_uri": "https://localhost:8080/",
     "height": 315
    },
    "colab_type": "code",
    "id": "rF5OxglVPqVe",
    "outputId": "16f77473-2235-4fc3-90fe-e05beeace785"
   },
   "outputs": [
    {
     "data": {
      "text/plain": [
       "array([[<matplotlib.axes._subplots.AxesSubplot object at 0x1351782d0>]],\n",
       "      dtype=object)"
      ]
     },
     "execution_count": 67,
     "metadata": {},
     "output_type": "execute_result"
    },
    {
     "data": {
      "image/png": "[encoded data removed]",
      "text/plain": [
       "<Figure size 432x288 with 1 Axes>"
      ]
     },
     "metadata": {
      "needs_background": "light"
     },
     "output_type": "display_data"
    }
   ],
   "source": [
    "df_drop_nan.hist(column='mort_acc', bins=np.arange(0, 20, 2))"
   ]
  },
  {
   "cell_type": "markdown",
   "metadata": {
    "colab_type": "text",
    "id": "c7jI3LMgPq0Z"
   },
   "source": [
    "## 4.21 revol_util"
   ]
  },
  {
   "cell_type": "code",
   "execution_count": 68,
   "metadata": {
    "colab": {
     "base_uri": "https://localhost:8080/",
     "height": 54
    },
    "colab_type": "code",
    "id": "09Sk7CXGrV-R",
    "outputId": "dc92e533-66d4-43b8-9f5e-2d358ea50cee"
   },
   "outputs": [
    {
     "data": {
      "text/plain": [
       "'Revolving line utilization rate, or the amount of credit the borrower is using relative to all available revolving credit.'"
      ]
     },
     "execution_count": 68,
     "metadata": {},
     "output_type": "execute_result"
    }
   ],
   "source": [
    "feat_to_text['revol_util']"
   ]
  },
  {
   "cell_type": "code",
   "execution_count": 69,
   "metadata": {
    "colab": {
     "base_uri": "https://localhost:8080/",
     "height": 315
    },
    "colab_type": "code",
    "id": "oKFQm1uXPrPT",
    "outputId": "4989e940-5bc2-407a-8eeb-aa411e20de77"
   },
   "outputs": [
    {
     "data": {
      "text/plain": [
       "array([[<matplotlib.axes._subplots.AxesSubplot object at 0x12ce43250>]],\n",
       "      dtype=object)"
      ]
     },
     "execution_count": 69,
     "metadata": {},
     "output_type": "execute_result"
    },
    {
     "data": {
      "image/png": "[encoded data removed]",
      "text/plain": [
       "<Figure size 432x288 with 1 Axes>"
      ]
     },
     "metadata": {
      "needs_background": "light"
     },
     "output_type": "display_data"
    }
   ],
   "source": [
    "df_drop_nan.hist(column='revol_util', bins=np.arange(0,150,10))"
   ]
  },
  {
   "cell_type": "markdown",
   "metadata": {
    "colab_type": "text",
    "id": "5-MSLHuyP0Km"
   },
   "source": [
    "## 4.22 pub_rec_bankruptcies"
   ]
  },
  {
   "cell_type": "code",
   "execution_count": 70,
   "metadata": {
    "colab": {
     "base_uri": "https://localhost:8080/",
     "height": 34
    },
    "colab_type": "code",
    "id": "dRKjxxbTP0hH",
    "outputId": "5ccc018c-6a6f-4c81-ef70-612152dd5ce8"
   },
   "outputs": [
    {
     "data": {
      "text/plain": [
       "'Number of public record bankruptcies'"
      ]
     },
     "execution_count": 70,
     "metadata": {},
     "output_type": "execute_result"
    }
   ],
   "source": [
    "feat_to_text['pub_rec_bankruptcies']"
   ]
  },
  {
   "cell_type": "code",
   "execution_count": 71,
   "metadata": {
    "colab": {
     "base_uri": "https://localhost:8080/",
     "height": 315
    },
    "colab_type": "code",
    "id": "PujpprhHo7C5",
    "outputId": "8860fe2d-4b69-4953-ed1a-0d381aa4912d"
   },
   "outputs": [
    {
     "data": {
      "text/plain": [
       "array([[<matplotlib.axes._subplots.AxesSubplot object at 0x128c0a090>]],\n",
       "      dtype=object)"
      ]
     },
     "execution_count": 71,
     "metadata": {},
     "output_type": "execute_result"
    },
    {
     "data": {
      "image/png": "[encoded data removed]",
      "text/plain": [
       "<Figure size 432x288 with 1 Axes>"
      ]
     },
     "metadata": {
      "needs_background": "light"
     },
     "output_type": "display_data"
    }
   ],
   "source": [
    "df_drop_nan.hist(column='pub_rec_bankruptcies', bins=np.arange(0, 10, 1))"
   ]
  },
  {
   "cell_type": "markdown",
   "metadata": {
    "colab_type": "text",
    "id": "dyObjG74o7T7"
   },
   "source": [
    "## 4.22 dti"
   ]
  },
  {
   "cell_type": "code",
   "execution_count": 72,
   "metadata": {
    "colab": {},
    "colab_type": "code",
    "id": "442x_sado7yJ"
   },
   "outputs": [
    {
     "data": {
      "text/plain": [
       "'A ratio calculated using the borrower’s total monthly debt payments on the total debt obligations, excluding mortgage and the requested LC loan, divided by the borrower’s self-reported monthly income.'"
      ]
     },
     "execution_count": 72,
     "metadata": {},
     "output_type": "execute_result"
    }
   ],
   "source": [
    "feat_to_text['dti']"
   ]
  },
  {
   "cell_type": "code",
   "execution_count": 73,
   "metadata": {
    "colab": {},
    "colab_type": "code",
    "id": "tBjaGri8rvpb"
   },
   "outputs": [
    {
     "data": {
      "text/plain": [
       "array([[<matplotlib.axes._subplots.AxesSubplot object at 0x1233bea10>]],\n",
       "      dtype=object)"
      ]
     },
     "execution_count": 73,
     "metadata": {},
     "output_type": "execute_result"
    },
    {
     "data": {
      "image/png": "[encoded data removed]",
      "text/plain": [
       "<Figure size 432x288 with 1 Axes>"
      ]
     },
     "metadata": {
      "needs_background": "light"
     },
     "output_type": "display_data"
    }
   ],
   "source": [
    "df_drop_nan.hist(column='dti', bins=np.arange(0, 150, 10))"
   ]
  },
  {
   "cell_type": "markdown",
   "metadata": {
    "colab_type": "text",
    "id": "Ku0figTcxh70"
   },
   "source": [
    "## 4.18 Combine steps above in function\n",
    "\n",
    "In this part we combine all the steps in the previous subsections into one custom function to clean the data. Based on our observations in the training set, this shall apply to the testing set as well."
   ]
  },
  {
   "cell_type": "code",
   "execution_count": 74,
   "metadata": {
    "colab": {},
    "colab_type": "code",
    "id": "t4D7fgvAs7ta"
   },
   "outputs": [
    {
     "data": {
      "text/html": [
       "<div>\n",
       "<style scoped>\n",
       "    .dataframe tbody tr th:only-of-type {\n",
       "        vertical-align: middle;\n",
       "    }\n",
       "\n",
       "    .dataframe tbody tr th {\n",
       "        vertical-align: top;\n",
       "    }\n",
       "\n",
       "    .dataframe thead th {\n",
       "        text-align: right;\n",
       "    }\n",
       "</style>\n",
       "<table border=\"1\" class=\"dataframe\">\n",
       "  <thead>\n",
       "    <tr style=\"text-align: right;\">\n",
       "      <th></th>\n",
       "      <th>index</th>\n",
       "      <th>mode</th>\n",
       "    </tr>\n",
       "  </thead>\n",
       "  <tbody>\n",
       "    <tr>\n",
       "      <th>0</th>\n",
       "      <td>loan_amnt</td>\n",
       "      <td>10000</td>\n",
       "    </tr>\n",
       "    <tr>\n",
       "      <th>1</th>\n",
       "      <td>term</td>\n",
       "      <td>36 months</td>\n",
       "    </tr>\n",
       "    <tr>\n",
       "      <th>2</th>\n",
       "      <td>int_rate</td>\n",
       "      <td>10.99</td>\n",
       "    </tr>\n",
       "    <tr>\n",
       "      <th>3</th>\n",
       "      <td>installment</td>\n",
       "      <td>327.34</td>\n",
       "    </tr>\n",
       "    <tr>\n",
       "      <th>4</th>\n",
       "      <td>grade</td>\n",
       "      <td>B</td>\n",
       "    </tr>\n",
       "    <tr>\n",
       "      <th>5</th>\n",
       "      <td>sub_grade</td>\n",
       "      <td>C1</td>\n",
       "    </tr>\n",
       "    <tr>\n",
       "      <th>6</th>\n",
       "      <td>emp_title</td>\n",
       "      <td>Teacher</td>\n",
       "    </tr>\n",
       "    <tr>\n",
       "      <th>7</th>\n",
       "      <td>emp_length</td>\n",
       "      <td>10+ years</td>\n",
       "    </tr>\n",
       "    <tr>\n",
       "      <th>8</th>\n",
       "      <td>home_ownership</td>\n",
       "      <td>MORTGAGE</td>\n",
       "    </tr>\n",
       "    <tr>\n",
       "      <th>9</th>\n",
       "      <td>annual_inc</td>\n",
       "      <td>60000</td>\n",
       "    </tr>\n",
       "  </tbody>\n",
       "</table>\n",
       "</div>"
      ],
      "text/plain": [
       "            index        mode\n",
       "0       loan_amnt       10000\n",
       "1            term   36 months\n",
       "2        int_rate       10.99\n",
       "3     installment      327.34\n",
       "4           grade           B\n",
       "5       sub_grade          C1\n",
       "6       emp_title     Teacher\n",
       "7      emp_length   10+ years\n",
       "8  home_ownership    MORTGAGE\n",
       "9      annual_inc       60000"
      ]
     },
     "execution_count": 74,
     "metadata": {},
     "output_type": "execute_result"
    }
   ],
   "source": [
    "#instantiate dict\n",
    "mode_dict = {}\n",
    "#loop over columns\n",
    "for col in df_drop_nan.columns:\n",
    "    mode_dict[col] = df_drop_nan[col].mode()[0]\n",
    "\n",
    "#make dataframe object\n",
    "df_train_mode = pd.DataFrame.from_dict(mode_dict,\n",
    "                                       orient='index',\n",
    "                                       columns=['mode'])\n",
    "\n",
    "df_train_mode= df_train_mode.reset_index(drop=False)\n",
    "\n",
    "df_train_mode_path = os.path.join(goog_dir,'data', 'df_train_mode.csv')\n",
    "\n",
    "df_train_mode.to_csv(df_train_mode_path)\n",
    "\n",
    "df_train_mode.head(10)"
   ]
  },
  {
   "cell_type": "code",
   "execution_count": 75,
   "metadata": {},
   "outputs": [
    {
     "data": {
      "text/html": [
       "<div>\n",
       "<style scoped>\n",
       "    .dataframe tbody tr th:only-of-type {\n",
       "        vertical-align: middle;\n",
       "    }\n",
       "\n",
       "    .dataframe tbody tr th {\n",
       "        vertical-align: top;\n",
       "    }\n",
       "\n",
       "    .dataframe thead th {\n",
       "        text-align: right;\n",
       "    }\n",
       "</style>\n",
       "<table border=\"1\" class=\"dataframe\">\n",
       "  <thead>\n",
       "    <tr style=\"text-align: right;\">\n",
       "      <th></th>\n",
       "      <th>index</th>\n",
       "      <th>mode</th>\n",
       "    </tr>\n",
       "  </thead>\n",
       "  <tbody>\n",
       "    <tr>\n",
       "      <th>22</th>\n",
       "      <td>revol_util</td>\n",
       "      <td>0</td>\n",
       "    </tr>\n",
       "    <tr>\n",
       "      <th>23</th>\n",
       "      <td>total_acc</td>\n",
       "      <td>20</td>\n",
       "    </tr>\n",
       "    <tr>\n",
       "      <th>24</th>\n",
       "      <td>application_type</td>\n",
       "      <td>Individual</td>\n",
       "    </tr>\n",
       "    <tr>\n",
       "      <th>25</th>\n",
       "      <td>mort_acc</td>\n",
       "      <td>0</td>\n",
       "    </tr>\n",
       "    <tr>\n",
       "      <th>26</th>\n",
       "      <td>pub_rec_bankruptcies</td>\n",
       "      <td>0</td>\n",
       "    </tr>\n",
       "  </tbody>\n",
       "</table>\n",
       "</div>"
      ],
      "text/plain": [
       "                   index        mode\n",
       "22            revol_util           0\n",
       "23             total_acc          20\n",
       "24      application_type  Individual\n",
       "25              mort_acc           0\n",
       "26  pub_rec_bankruptcies           0"
      ]
     },
     "execution_count": 75,
     "metadata": {},
     "output_type": "execute_result"
    }
   ],
   "source": [
    "df_train_mode.tail()"
   ]
  },
  {
   "cell_type": "code",
   "execution_count": 76,
   "metadata": {},
   "outputs": [
    {
     "data": {
      "text/plain": [
       "0.0"
      ]
     },
     "execution_count": 76,
     "metadata": {},
     "output_type": "execute_result"
    }
   ],
   "source": [
    "df_train_mode[df_train_mode['index']=='mort_acc']['mode'].values[0]"
   ]
  },
  {
   "cell_type": "code",
   "execution_count": 77,
   "metadata": {},
   "outputs": [
    {
     "data": {
      "text/html": [
       "<div>\n",
       "<style scoped>\n",
       "    .dataframe tbody tr th:only-of-type {\n",
       "        vertical-align: middle;\n",
       "    }\n",
       "\n",
       "    .dataframe tbody tr th {\n",
       "        vertical-align: top;\n",
       "    }\n",
       "\n",
       "    .dataframe thead th {\n",
       "        text-align: right;\n",
       "    }\n",
       "</style>\n",
       "<table border=\"1\" class=\"dataframe\">\n",
       "  <thead>\n",
       "    <tr style=\"text-align: right;\">\n",
       "      <th></th>\n",
       "      <th>index</th>\n",
       "      <th>mode</th>\n",
       "    </tr>\n",
       "  </thead>\n",
       "  <tbody>\n",
       "    <tr>\n",
       "      <th>20</th>\n",
       "      <td>pub_rec</td>\n",
       "      <td>0</td>\n",
       "    </tr>\n",
       "  </tbody>\n",
       "</table>\n",
       "</div>"
      ],
      "text/plain": [
       "      index mode\n",
       "20  pub_rec    0"
      ]
     },
     "execution_count": 77,
     "metadata": {},
     "output_type": "execute_result"
    }
   ],
   "source": [
    "df_train_mode[df_train_mode['index']=='pub_rec']"
   ]
  },
  {
   "cell_type": "code",
   "execution_count": 78,
   "metadata": {
    "colab": {},
    "colab_type": "code",
    "id": "B27wQRNkxh70"
   },
   "outputs": [],
   "source": [
    "def df_object_to_num(df_obj, df_train_mode=df_train_mode):\n",
    "    \n",
    "    \"\"\"Custom function to transform categorical features into numerical ones\n",
    "    This function will also be applied on the testing data so that we apply the same exact kind of transformation\n",
    "    \"\"\"\n",
    "    \n",
    "    #make deep copy\n",
    "    df_num = df_obj.copy()\n",
    "    \n",
    "    \n",
    "    #keep track of columns to drop at end\n",
    "    col_drop_list = ['title']\n",
    "    \n",
    "\n",
    "    #loads from path defined outside of function\n",
    "        \n",
    "    df_train_mode = pd.read_csv(goog_dir+'data/df_train_mode.csv')\n",
    "\n",
    "    #fill missing values with mode\n",
    "    for col in df_num.columns:\n",
    "        #lookup fill value\n",
    "        mode_val = df_train_mode[df_train_mode['index']==col]['mode'].values[0]\n",
    "        #fill nan\n",
    "        df_num[col] = df_num[col].fillna(mode_val)\n",
    "        \n",
    "        \n",
    "    #drop nans in case we missed any\n",
    "    df_num = df_num.dropna(axis=0)\n",
    "        \n",
    "        \n",
    "    #fix types\n",
    "    df_num = df_num.astype(\n",
    "        {'mort_acc': 'float64',\n",
    "         'dti': 'float64',\n",
    "         #'mo_sin_old_il_acct': 'float64',\n",
    "         #'mo_sin_old_rev_tl_op': 'float64',\n",
    "         'pub_rec_bankruptcies': 'float64'\n",
    "        })\n",
    "\n",
    "    \n",
    "    ### instantiate dicts ### \n",
    "    term_to_int = {' 36 months': 1,\n",
    "                   ' 60 months': 2}\n",
    "    \n",
    "    grade_to_int = dict(zip(['A', 'B', 'C', 'D', 'E', 'F', 'G'], np.arange(7, 0, -1)))\n",
    "    \n",
    "    #copied from above, we can write a function to generate this dict\n",
    "    sub_grade_sorted = {'G5': 0, 'G4': 1, 'G3': 2, 'G2': 3, 'G1': 4,\n",
    "                        'F5': 5, 'F4': 6, 'F3': 7, 'F2': 8, 'F1': 9,\n",
    "                        'E5': 10, 'E4': 11, 'E3': 12, 'E2': 13, 'E1': 14,\n",
    "                        'D5': 15, 'D4': 16, 'D3': 17, 'D2': 18, 'D1': 19,\n",
    "                        'C5': 20, 'C4': 21, 'C3': 22, 'C2': 23, 'C1': 24,\n",
    "                        'B5': 25, 'B4': 26, 'B3': 27, 'B2': 28, 'B1': 29,\n",
    "                        'A5': 30, 'A4': 31, 'A3': 32, 'A2': 33, 'A1': 34}\n",
    "    \n",
    "    \n",
    "    home_to_int = {'MORTGAGE': 4,\n",
    "               'RENT': 3,\n",
    "               'OWN': 5,         \n",
    "               'ANY': 2,            \n",
    "               'OTHER': 1,          \n",
    "               'NONE':0 }\n",
    "    \n",
    "    ver_stat_to_int = {'Source Verified':2,\n",
    "                   'Verified': 1,\n",
    "                   'Not Verified': 0}\n",
    "    \n",
    "    loan_stat_to_int = {'Fully Paid': 1,\n",
    "                    'Charged Off': 0}\n",
    "    \n",
    "    initial_list_status_dict = {'w':0, 'f':1}\n",
    "    \n",
    "    application_type_dict = {'Individual': 0,\n",
    "                         'Joint App': 1}\n",
    "    \n",
    "    \n",
    "    #replacements\n",
    "    df_num.replace({'term': term_to_int,\n",
    "                    'grade':grade_to_int,\n",
    "                    'sub_grade': sub_grade_to_int,\n",
    "                    'home_ownership':home_to_int,\n",
    "                    'verification_status':ver_stat_to_int,\n",
    "                    'loan_status':loan_stat_to_int,\n",
    "                    'initial_list_status':initial_list_status_dict,\n",
    "                    'application_type': application_type_dict}, inplace=True)\n",
    "    \n",
    "    #fix zip codes and keep first 3\n",
    "    df_num['zip_3'] = df_num['zip_code'].str.replace('x','')\n",
    "    df_num['zip_2'] = df_num['zip_3'].str[:2]\n",
    "    col_drop_list.append('zip_code')\n",
    "    \n",
    "    \n",
    "    \n",
    "    #employee length extract numbers\n",
    "    df_num['emp_length'] = df_num['emp_length'].apply(emp_time_to_int)\n",
    "    \n",
    "    #store employees in list\n",
    "    emp_title_list = []\n",
    "    for emp in df_num['emp_title']:\n",
    "        emp_title_list.append(emp_title_to_dict(emp))\n",
    "    #make dataframe    \n",
    "    df_emp_title = pd.DataFrame.from_dict(emp_title_list)\n",
    "    df_emp_title.index = df_num.index\n",
    "    #join\n",
    "    df_num = pd.merge(df_num, df_emp_title, left_index=True, right_index=True)\n",
    "    #df_num = pd.concat([df_num, df_emp_title], axis=1)\n",
    "    #take out col\n",
    "    col_drop_list.append('emp_title')\n",
    "    \n",
    "        \n",
    "\n",
    "    #get time differential\n",
    "    col_drop_list.extend(['issue_d', 'earliest_cr_line'])\n",
    "    \n",
    "    time_delta = pd.to_datetime(df_num['issue_d']) - pd.to_datetime(df_num['earliest_cr_line'])\n",
    "    df_num['time_delta'] = time_delta.dt.days\n",
    "    \n",
    "    \n",
    "    #get purpose\n",
    "    purp_df = purpose_to_dummy(df_num['purpose'])\n",
    "    purp_df  =purp_df.astype('int64')\n",
    "    \n",
    "    col_drop_list.append('purpose')\n",
    "    purp_df.index = df_num.index\n",
    "    \n",
    "    #df_num = pd.concat([df_num, purp_df])\n",
    "    df_num = pd.merge(df_num, purp_df, left_index=True, right_index=True)\n",
    "    \n",
    "    \n",
    "    #drop more types\n",
    "    col_drop_list.append('addr_state')\n",
    "    \n",
    "    df_num  = df_num.drop(columns=col_drop_list)\n",
    "    \n",
    "    return df_num"
   ]
  },
  {
   "cell_type": "code",
   "execution_count": 79,
   "metadata": {
    "colab": {},
    "colab_type": "code",
    "id": "5BDKXVjcxh73"
   },
   "outputs": [
    {
     "data": {
      "text/html": [
       "<div>\n",
       "<style scoped>\n",
       "    .dataframe tbody tr th:only-of-type {\n",
       "        vertical-align: middle;\n",
       "    }\n",
       "\n",
       "    .dataframe tbody tr th {\n",
       "        vertical-align: top;\n",
       "    }\n",
       "\n",
       "    .dataframe thead th {\n",
       "        text-align: right;\n",
       "    }\n",
       "</style>\n",
       "<table border=\"1\" class=\"dataframe\">\n",
       "  <thead>\n",
       "    <tr style=\"text-align: right;\">\n",
       "      <th></th>\n",
       "      <th>loan_amnt</th>\n",
       "      <th>term</th>\n",
       "      <th>int_rate</th>\n",
       "      <th>installment</th>\n",
       "      <th>grade</th>\n",
       "      <th>sub_grade</th>\n",
       "      <th>emp_length</th>\n",
       "      <th>home_ownership</th>\n",
       "      <th>annual_inc</th>\n",
       "      <th>verification_status</th>\n",
       "      <th>...</th>\n",
       "      <th>purp_home_improvement</th>\n",
       "      <th>purp_house</th>\n",
       "      <th>purp_major_purchase</th>\n",
       "      <th>purp_medical</th>\n",
       "      <th>purp_moving</th>\n",
       "      <th>purp_other</th>\n",
       "      <th>purp_renewable_energy</th>\n",
       "      <th>purp_small_business</th>\n",
       "      <th>purp_vacation</th>\n",
       "      <th>purp_wedding</th>\n",
       "    </tr>\n",
       "  </thead>\n",
       "  <tbody>\n",
       "    <tr>\n",
       "      <th>2139270</th>\n",
       "      <td>7500</td>\n",
       "      <td>1</td>\n",
       "      <td>13.75</td>\n",
       "      <td>255.43</td>\n",
       "      <td>3</td>\n",
       "      <td>13</td>\n",
       "      <td>1</td>\n",
       "      <td>5</td>\n",
       "      <td>22000.0</td>\n",
       "      <td>0</td>\n",
       "      <td>...</td>\n",
       "      <td>0</td>\n",
       "      <td>0</td>\n",
       "      <td>0</td>\n",
       "      <td>0</td>\n",
       "      <td>0</td>\n",
       "      <td>0</td>\n",
       "      <td>0</td>\n",
       "      <td>0</td>\n",
       "      <td>0</td>\n",
       "      <td>0</td>\n",
       "    </tr>\n",
       "    <tr>\n",
       "      <th>2139264</th>\n",
       "      <td>5000</td>\n",
       "      <td>1</td>\n",
       "      <td>7.43</td>\n",
       "      <td>155.38</td>\n",
       "      <td>7</td>\n",
       "      <td>33</td>\n",
       "      <td>1</td>\n",
       "      <td>5</td>\n",
       "      <td>85000.0</td>\n",
       "      <td>0</td>\n",
       "      <td>...</td>\n",
       "      <td>0</td>\n",
       "      <td>0</td>\n",
       "      <td>0</td>\n",
       "      <td>0</td>\n",
       "      <td>0</td>\n",
       "      <td>0</td>\n",
       "      <td>0</td>\n",
       "      <td>0</td>\n",
       "      <td>0</td>\n",
       "      <td>0</td>\n",
       "    </tr>\n",
       "    <tr>\n",
       "      <th>2139247</th>\n",
       "      <td>3500</td>\n",
       "      <td>1</td>\n",
       "      <td>9.96</td>\n",
       "      <td>112.87</td>\n",
       "      <td>6</td>\n",
       "      <td>25</td>\n",
       "      <td>1</td>\n",
       "      <td>3</td>\n",
       "      <td>13500.0</td>\n",
       "      <td>0</td>\n",
       "      <td>...</td>\n",
       "      <td>0</td>\n",
       "      <td>0</td>\n",
       "      <td>0</td>\n",
       "      <td>0</td>\n",
       "      <td>0</td>\n",
       "      <td>0</td>\n",
       "      <td>0</td>\n",
       "      <td>0</td>\n",
       "      <td>0</td>\n",
       "      <td>0</td>\n",
       "    </tr>\n",
       "    <tr>\n",
       "      <th>2139246</th>\n",
       "      <td>5000</td>\n",
       "      <td>1</td>\n",
       "      <td>9.01</td>\n",
       "      <td>159.03</td>\n",
       "      <td>6</td>\n",
       "      <td>28</td>\n",
       "      <td>1</td>\n",
       "      <td>4</td>\n",
       "      <td>250000.0</td>\n",
       "      <td>0</td>\n",
       "      <td>...</td>\n",
       "      <td>0</td>\n",
       "      <td>0</td>\n",
       "      <td>0</td>\n",
       "      <td>0</td>\n",
       "      <td>0</td>\n",
       "      <td>1</td>\n",
       "      <td>0</td>\n",
       "      <td>0</td>\n",
       "      <td>0</td>\n",
       "      <td>0</td>\n",
       "    </tr>\n",
       "    <tr>\n",
       "      <th>2139245</th>\n",
       "      <td>2700</td>\n",
       "      <td>1</td>\n",
       "      <td>15.96</td>\n",
       "      <td>94.88</td>\n",
       "      <td>2</td>\n",
       "      <td>6</td>\n",
       "      <td>1</td>\n",
       "      <td>3</td>\n",
       "      <td>52200.0</td>\n",
       "      <td>0</td>\n",
       "      <td>...</td>\n",
       "      <td>0</td>\n",
       "      <td>0</td>\n",
       "      <td>0</td>\n",
       "      <td>0</td>\n",
       "      <td>0</td>\n",
       "      <td>0</td>\n",
       "      <td>0</td>\n",
       "      <td>0</td>\n",
       "      <td>0</td>\n",
       "      <td>0</td>\n",
       "    </tr>\n",
       "  </tbody>\n",
       "</table>\n",
       "<p>5 rows × 47 columns</p>\n",
       "</div>"
      ],
      "text/plain": [
       "         loan_amnt  term  int_rate  installment  grade  sub_grade  emp_length  \\\n",
       "2139270       7500     1     13.75       255.43      3         13           1   \n",
       "2139264       5000     1      7.43       155.38      7         33           1   \n",
       "2139247       3500     1      9.96       112.87      6         25           1   \n",
       "2139246       5000     1      9.01       159.03      6         28           1   \n",
       "2139245       2700     1     15.96        94.88      2          6           1   \n",
       "\n",
       "         home_ownership  annual_inc  verification_status      ...       \\\n",
       "2139270               5     22000.0                    0      ...        \n",
       "2139264               5     85000.0                    0      ...        \n",
       "2139247               3     13500.0                    0      ...        \n",
       "2139246               4    250000.0                    0      ...        \n",
       "2139245               3     52200.0                    0      ...        \n",
       "\n",
       "         purp_home_improvement  purp_house  purp_major_purchase  purp_medical  \\\n",
       "2139270                      0           0                    0             0   \n",
       "2139264                      0           0                    0             0   \n",
       "2139247                      0           0                    0             0   \n",
       "2139246                      0           0                    0             0   \n",
       "2139245                      0           0                    0             0   \n",
       "\n",
       "         purp_moving purp_other  purp_renewable_energy  purp_small_business  \\\n",
       "2139270            0          0                      0                    0   \n",
       "2139264            0          0                      0                    0   \n",
       "2139247            0          0                      0                    0   \n",
       "2139246            0          1                      0                    0   \n",
       "2139245            0          0                      0                    0   \n",
       "\n",
       "         purp_vacation  purp_wedding  \n",
       "2139270              0             0  \n",
       "2139264              0             0  \n",
       "2139247              0             0  \n",
       "2139246              0             0  \n",
       "2139245              0             0  \n",
       "\n",
       "[5 rows x 47 columns]"
      ]
     },
     "execution_count": 79,
     "metadata": {},
     "output_type": "execute_result"
    }
   ],
   "source": [
    "#make entries numerical\n",
    "df_num = df_object_to_num(df_drop_nan)\n",
    "df_num.head()"
   ]
  },
  {
   "cell_type": "markdown",
   "metadata": {},
   "source": [
    "## 4.19 Explore Features"
   ]
  },
  {
   "cell_type": "markdown",
   "metadata": {},
   "source": [
    "### Interest Rate"
   ]
  },
  {
   "cell_type": "code",
   "execution_count": 80,
   "metadata": {},
   "outputs": [
    {
     "data": {
      "image/png": "[encoded data removed]",
      "text/plain": [
       "<Figure size 432x288 with 1 Axes>"
      ]
     },
     "metadata": {
      "needs_background": "light"
     },
     "output_type": "display_data"
    }
   ],
   "source": [
    "plt.hist(df_num['int_rate'], bins=np.arange(0, 35, 0.5))\n",
    "plt.xlabel(\"Interest Rate (%)\")\n",
    "plt.ylabel(\"Count\")\n",
    "plt.show()"
   ]
  },
  {
   "cell_type": "markdown",
   "metadata": {},
   "source": [
    "### Loan Amount"
   ]
  },
  {
   "cell_type": "code",
   "execution_count": 81,
   "metadata": {},
   "outputs": [
    {
     "data": {
      "image/png": "[encoded data removed]",
      "text/plain": [
       "<Figure size 432x288 with 1 Axes>"
      ]
     },
     "metadata": {
      "needs_background": "light"
     },
     "output_type": "display_data"
    }
   ],
   "source": [
    "plt.hist(df_num['loan_amnt'], bins=np.arange(0, 45_000, 1000))\n",
    "plt.xlabel(\"Loan Aount (USD)\")\n",
    "plt.ylabel(\"Count\")\n",
    "plt.show()"
   ]
  },
  {
   "cell_type": "markdown",
   "metadata": {},
   "source": [
    "## Number of derogatory public records"
   ]
  },
  {
   "cell_type": "code",
   "execution_count": 110,
   "metadata": {},
   "outputs": [
    {
     "data": {
      "image/png": "[encoded data removed]",
      "text/plain": [
       "<Figure size 432x288 with 1 Axes>"
      ]
     },
     "metadata": {
      "needs_background": "light"
     },
     "output_type": "display_data"
    }
   ],
   "source": [
    "plt.hist(df_num['pub_rec'], bins=np.arange(0,11,1))\n",
    "plt.xlabel(\"pub_rec\")\n",
    "plt.ylabel(\"Count\")\n",
    "plt.show()"
   ]
  },
  {
   "cell_type": "markdown",
   "metadata": {},
   "source": [
    "## Annual Inc"
   ]
  },
  {
   "cell_type": "code",
   "execution_count": 114,
   "metadata": {},
   "outputs": [
    {
     "data": {
      "image/png": "[encoded data removed]",
      "text/plain": [
       "<Figure size 432x288 with 1 Axes>"
      ]
     },
     "metadata": {
      "needs_background": "light"
     },
     "output_type": "display_data"
    }
   ],
   "source": [
    "plt.hist(df_num['annual_inc'], bins=np.arange(0, 200_000, 5000))\n",
    "plt.xlabel(\"Annual Income (USD)\")\n",
    "plt.ylabel(\"Count\")\n",
    "plt.show()"
   ]
  },
  {
   "cell_type": "markdown",
   "metadata": {
    "colab": {},
    "colab_type": "code",
    "id": "OjO7F29axh76"
   },
   "source": [
    "# 5.0 Custom Scaling\n",
    "\n",
    "It makes more economic sense to compare observations to the micropolitan statistical area (MSA) rather than the whole nation. If the first digit of a zip code indicates a state, the second two digits denote central post office facility for that area. We shall therefore keep track of statistics such as the mean and standard deviation of samples grouped by the first 3 digits of zip code if there is sufficient data. Otherwise group by first 2 digits."
   ]
  },
  {
   "cell_type": "markdown",
   "metadata": {
    "colab": {},
    "colab_type": "code",
    "id": "D9gWXF9kxh78"
   },
   "source": [
    "## 5.1 Macro Level"
   ]
  },
  {
   "cell_type": "code",
   "execution_count": 82,
   "metadata": {},
   "outputs": [],
   "source": [
    "#instantiate groupby object\n",
    "df_macro_groupby = df_num.drop(columns=['zip_3']).groupby(by='zip_2')"
   ]
  },
  {
   "cell_type": "code",
   "execution_count": 83,
   "metadata": {},
   "outputs": [],
   "source": [
    "#take note of columns to scale\n",
    "scale_cols = ['loan_amnt', 'term', 'int_rate', 'installment',\n",
    "              'grade', 'sub_grade','emp_length', 'home_ownership',\n",
    "              'annual_inc', 'open_acc', 'revol_bal', 'dti',\n",
    "              'total_acc', 'mort_acc', 'time_delta']"
   ]
  },
  {
   "cell_type": "code",
   "execution_count": 84,
   "metadata": {},
   "outputs": [
    {
     "data": {
      "text/html": [
       "<div>\n",
       "<style scoped>\n",
       "    .dataframe tbody tr th:only-of-type {\n",
       "        vertical-align: middle;\n",
       "    }\n",
       "\n",
       "    .dataframe tbody tr th {\n",
       "        vertical-align: top;\n",
       "    }\n",
       "\n",
       "    .dataframe thead th {\n",
       "        text-align: right;\n",
       "    }\n",
       "</style>\n",
       "<table border=\"1\" class=\"dataframe\">\n",
       "  <thead>\n",
       "    <tr style=\"text-align: right;\">\n",
       "      <th></th>\n",
       "      <th>loan_amnt</th>\n",
       "      <th>term</th>\n",
       "      <th>int_rate</th>\n",
       "      <th>installment</th>\n",
       "      <th>grade</th>\n",
       "      <th>sub_grade</th>\n",
       "      <th>emp_length</th>\n",
       "      <th>home_ownership</th>\n",
       "      <th>annual_inc</th>\n",
       "      <th>open_acc</th>\n",
       "      <th>revol_bal</th>\n",
       "      <th>dti</th>\n",
       "      <th>total_acc</th>\n",
       "      <th>mort_acc</th>\n",
       "      <th>time_delta</th>\n",
       "    </tr>\n",
       "    <tr>\n",
       "      <th>zip_2</th>\n",
       "      <th></th>\n",
       "      <th></th>\n",
       "      <th></th>\n",
       "      <th></th>\n",
       "      <th></th>\n",
       "      <th></th>\n",
       "      <th></th>\n",
       "      <th></th>\n",
       "      <th></th>\n",
       "      <th></th>\n",
       "      <th></th>\n",
       "      <th></th>\n",
       "      <th></th>\n",
       "      <th></th>\n",
       "      <th></th>\n",
       "    </tr>\n",
       "  </thead>\n",
       "  <tbody>\n",
       "    <tr>\n",
       "      <th>00</th>\n",
       "      <td>15817.500000</td>\n",
       "      <td>1.300000</td>\n",
       "      <td>13.001000</td>\n",
       "      <td>482.474000</td>\n",
       "      <td>5.300000</td>\n",
       "      <td>23.200000</td>\n",
       "      <td>7.300000</td>\n",
       "      <td>3.900000</td>\n",
       "      <td>77400.000000</td>\n",
       "      <td>11.100000</td>\n",
       "      <td>14004.700000</td>\n",
       "      <td>18.074000</td>\n",
       "      <td>28.100000</td>\n",
       "      <td>1.200000</td>\n",
       "      <td>6142.000000</td>\n",
       "    </tr>\n",
       "    <tr>\n",
       "      <th>01</th>\n",
       "      <td>15361.415220</td>\n",
       "      <td>1.268147</td>\n",
       "      <td>12.803955</td>\n",
       "      <td>462.144017</td>\n",
       "      <td>5.363081</td>\n",
       "      <td>23.899515</td>\n",
       "      <td>6.301173</td>\n",
       "      <td>3.707259</td>\n",
       "      <td>80454.829590</td>\n",
       "      <td>11.821025</td>\n",
       "      <td>18144.884056</td>\n",
       "      <td>17.350918</td>\n",
       "      <td>24.955168</td>\n",
       "      <td>1.693556</td>\n",
       "      <td>5978.337854</td>\n",
       "    </tr>\n",
       "    <tr>\n",
       "      <th>02</th>\n",
       "      <td>14809.246154</td>\n",
       "      <td>1.242272</td>\n",
       "      <td>12.839088</td>\n",
       "      <td>449.497686</td>\n",
       "      <td>5.361373</td>\n",
       "      <td>23.849941</td>\n",
       "      <td>6.041893</td>\n",
       "      <td>3.581065</td>\n",
       "      <td>79299.406929</td>\n",
       "      <td>11.589302</td>\n",
       "      <td>17669.103763</td>\n",
       "      <td>16.757010</td>\n",
       "      <td>24.290320</td>\n",
       "      <td>1.390580</td>\n",
       "      <td>5821.610888</td>\n",
       "    </tr>\n",
       "    <tr>\n",
       "      <th>03</th>\n",
       "      <td>14376.356527</td>\n",
       "      <td>1.239706</td>\n",
       "      <td>12.859303</td>\n",
       "      <td>434.978950</td>\n",
       "      <td>5.352378</td>\n",
       "      <td>23.818385</td>\n",
       "      <td>6.414459</td>\n",
       "      <td>3.746888</td>\n",
       "      <td>77424.508513</td>\n",
       "      <td>11.523141</td>\n",
       "      <td>17445.314874</td>\n",
       "      <td>18.958433</td>\n",
       "      <td>25.313278</td>\n",
       "      <td>1.815512</td>\n",
       "      <td>6025.756463</td>\n",
       "    </tr>\n",
       "    <tr>\n",
       "      <th>04</th>\n",
       "      <td>13856.960621</td>\n",
       "      <td>1.229063</td>\n",
       "      <td>12.868347</td>\n",
       "      <td>420.335269</td>\n",
       "      <td>5.336661</td>\n",
       "      <td>23.698281</td>\n",
       "      <td>6.463117</td>\n",
       "      <td>3.866334</td>\n",
       "      <td>66706.723566</td>\n",
       "      <td>11.231281</td>\n",
       "      <td>15859.820300</td>\n",
       "      <td>19.801525</td>\n",
       "      <td>24.908486</td>\n",
       "      <td>1.858014</td>\n",
       "      <td>6212.874099</td>\n",
       "    </tr>\n",
       "  </tbody>\n",
       "</table>\n",
       "</div>"
      ],
      "text/plain": [
       "          loan_amnt      term   int_rate  installment     grade  sub_grade  \\\n",
       "zip_2                                                                        \n",
       "00     15817.500000  1.300000  13.001000   482.474000  5.300000  23.200000   \n",
       "01     15361.415220  1.268147  12.803955   462.144017  5.363081  23.899515   \n",
       "02     14809.246154  1.242272  12.839088   449.497686  5.361373  23.849941   \n",
       "03     14376.356527  1.239706  12.859303   434.978950  5.352378  23.818385   \n",
       "04     13856.960621  1.229063  12.868347   420.335269  5.336661  23.698281   \n",
       "\n",
       "       emp_length  home_ownership    annual_inc   open_acc     revol_bal  \\\n",
       "zip_2                                                                      \n",
       "00       7.300000        3.900000  77400.000000  11.100000  14004.700000   \n",
       "01       6.301173        3.707259  80454.829590  11.821025  18144.884056   \n",
       "02       6.041893        3.581065  79299.406929  11.589302  17669.103763   \n",
       "03       6.414459        3.746888  77424.508513  11.523141  17445.314874   \n",
       "04       6.463117        3.866334  66706.723566  11.231281  15859.820300   \n",
       "\n",
       "             dti  total_acc  mort_acc   time_delta  \n",
       "zip_2                                               \n",
       "00     18.074000  28.100000  1.200000  6142.000000  \n",
       "01     17.350918  24.955168  1.693556  5978.337854  \n",
       "02     16.757010  24.290320  1.390580  5821.610888  \n",
       "03     18.958433  25.313278  1.815512  6025.756463  \n",
       "04     19.801525  24.908486  1.858014  6212.874099  "
      ]
     },
     "execution_count": 84,
     "metadata": {},
     "output_type": "execute_result"
    }
   ],
   "source": [
    "#get mean\n",
    "df_macro_mean = df_macro_groupby.mean()\n",
    "\n",
    "#eliminate binary features\n",
    "df_macro_mean = df_macro_mean[scale_cols]\n",
    "\n",
    "df_macro_mean.head()"
   ]
  },
  {
   "cell_type": "code",
   "execution_count": 85,
   "metadata": {},
   "outputs": [],
   "source": [
    "#save statistics for later use\n",
    "df_macro_mean.to_csv(os.path.join(goog_dir,'data/df_macro_mean.csv'))"
   ]
  },
  {
   "cell_type": "code",
   "execution_count": 86,
   "metadata": {},
   "outputs": [
    {
     "data": {
      "text/html": [
       "<div>\n",
       "<style scoped>\n",
       "    .dataframe tbody tr th:only-of-type {\n",
       "        vertical-align: middle;\n",
       "    }\n",
       "\n",
       "    .dataframe tbody tr th {\n",
       "        vertical-align: top;\n",
       "    }\n",
       "\n",
       "    .dataframe thead th {\n",
       "        text-align: right;\n",
       "    }\n",
       "</style>\n",
       "<table border=\"1\" class=\"dataframe\">\n",
       "  <thead>\n",
       "    <tr style=\"text-align: right;\">\n",
       "      <th></th>\n",
       "      <th>loan_amnt</th>\n",
       "      <th>term</th>\n",
       "      <th>int_rate</th>\n",
       "      <th>installment</th>\n",
       "      <th>grade</th>\n",
       "      <th>sub_grade</th>\n",
       "      <th>emp_length</th>\n",
       "      <th>home_ownership</th>\n",
       "      <th>annual_inc</th>\n",
       "      <th>open_acc</th>\n",
       "      <th>revol_bal</th>\n",
       "      <th>dti</th>\n",
       "      <th>total_acc</th>\n",
       "      <th>mort_acc</th>\n",
       "      <th>time_delta</th>\n",
       "    </tr>\n",
       "    <tr>\n",
       "      <th>zip_2</th>\n",
       "      <th></th>\n",
       "      <th></th>\n",
       "      <th></th>\n",
       "      <th></th>\n",
       "      <th></th>\n",
       "      <th></th>\n",
       "      <th></th>\n",
       "      <th></th>\n",
       "      <th></th>\n",
       "      <th></th>\n",
       "      <th></th>\n",
       "      <th></th>\n",
       "      <th></th>\n",
       "      <th></th>\n",
       "      <th></th>\n",
       "    </tr>\n",
       "  </thead>\n",
       "  <tbody>\n",
       "    <tr>\n",
       "      <th>00</th>\n",
       "      <td>5331.745206</td>\n",
       "      <td>0.483046</td>\n",
       "      <td>5.049063</td>\n",
       "      <td>181.521301</td>\n",
       "      <td>1.337494</td>\n",
       "      <td>7.052186</td>\n",
       "      <td>3.233505</td>\n",
       "      <td>0.567646</td>\n",
       "      <td>34849.517771</td>\n",
       "      <td>4.067486</td>\n",
       "      <td>5808.620663</td>\n",
       "      <td>9.291131</td>\n",
       "      <td>12.887979</td>\n",
       "      <td>1.316561</td>\n",
       "      <td>2338.364291</td>\n",
       "    </tr>\n",
       "    <tr>\n",
       "      <th>01</th>\n",
       "      <td>8169.595446</td>\n",
       "      <td>0.443010</td>\n",
       "      <td>4.804053</td>\n",
       "      <td>243.913766</td>\n",
       "      <td>1.306209</td>\n",
       "      <td>6.524080</td>\n",
       "      <td>3.558952</td>\n",
       "      <td>0.629250</td>\n",
       "      <td>71122.867381</td>\n",
       "      <td>5.526714</td>\n",
       "      <td>23974.394010</td>\n",
       "      <td>12.007815</td>\n",
       "      <td>11.478721</td>\n",
       "      <td>2.037398</td>\n",
       "      <td>2682.340639</td>\n",
       "    </tr>\n",
       "    <tr>\n",
       "      <th>02</th>\n",
       "      <td>8207.455568</td>\n",
       "      <td>0.428468</td>\n",
       "      <td>4.773391</td>\n",
       "      <td>246.226781</td>\n",
       "      <td>1.299594</td>\n",
       "      <td>6.491595</td>\n",
       "      <td>3.601951</td>\n",
       "      <td>0.645892</td>\n",
       "      <td>53397.690891</td>\n",
       "      <td>5.437753</td>\n",
       "      <td>26540.929402</td>\n",
       "      <td>8.266727</td>\n",
       "      <td>11.511943</td>\n",
       "      <td>1.936532</td>\n",
       "      <td>2715.597752</td>\n",
       "    </tr>\n",
       "    <tr>\n",
       "      <th>03</th>\n",
       "      <td>8627.296527</td>\n",
       "      <td>0.426938</td>\n",
       "      <td>4.714925</td>\n",
       "      <td>259.217953</td>\n",
       "      <td>1.282453</td>\n",
       "      <td>6.402555</td>\n",
       "      <td>3.566418</td>\n",
       "      <td>0.627205</td>\n",
       "      <td>79362.499575</td>\n",
       "      <td>5.163058</td>\n",
       "      <td>24883.384228</td>\n",
       "      <td>9.565689</td>\n",
       "      <td>11.481426</td>\n",
       "      <td>2.077767</td>\n",
       "      <td>2588.317700</td>\n",
       "    </tr>\n",
       "    <tr>\n",
       "      <th>04</th>\n",
       "      <td>8541.284359</td>\n",
       "      <td>0.420346</td>\n",
       "      <td>5.029983</td>\n",
       "      <td>255.035168</td>\n",
       "      <td>1.248005</td>\n",
       "      <td>6.279376</td>\n",
       "      <td>3.658743</td>\n",
       "      <td>0.650615</td>\n",
       "      <td>43788.566078</td>\n",
       "      <td>5.363613</td>\n",
       "      <td>18938.846768</td>\n",
       "      <td>9.199075</td>\n",
       "      <td>11.832626</td>\n",
       "      <td>1.975383</td>\n",
       "      <td>2660.231962</td>\n",
       "    </tr>\n",
       "  </tbody>\n",
       "</table>\n",
       "</div>"
      ],
      "text/plain": [
       "         loan_amnt      term  int_rate  installment     grade  sub_grade  \\\n",
       "zip_2                                                                      \n",
       "00     5331.745206  0.483046  5.049063   181.521301  1.337494   7.052186   \n",
       "01     8169.595446  0.443010  4.804053   243.913766  1.306209   6.524080   \n",
       "02     8207.455568  0.428468  4.773391   246.226781  1.299594   6.491595   \n",
       "03     8627.296527  0.426938  4.714925   259.217953  1.282453   6.402555   \n",
       "04     8541.284359  0.420346  5.029983   255.035168  1.248005   6.279376   \n",
       "\n",
       "       emp_length  home_ownership    annual_inc  open_acc     revol_bal  \\\n",
       "zip_2                                                                     \n",
       "00       3.233505        0.567646  34849.517771  4.067486   5808.620663   \n",
       "01       3.558952        0.629250  71122.867381  5.526714  23974.394010   \n",
       "02       3.601951        0.645892  53397.690891  5.437753  26540.929402   \n",
       "03       3.566418        0.627205  79362.499575  5.163058  24883.384228   \n",
       "04       3.658743        0.650615  43788.566078  5.363613  18938.846768   \n",
       "\n",
       "             dti  total_acc  mort_acc   time_delta  \n",
       "zip_2                                               \n",
       "00      9.291131  12.887979  1.316561  2338.364291  \n",
       "01     12.007815  11.478721  2.037398  2682.340639  \n",
       "02      8.266727  11.511943  1.936532  2715.597752  \n",
       "03      9.565689  11.481426  2.077767  2588.317700  \n",
       "04      9.199075  11.832626  1.975383  2660.231962  "
      ]
     },
     "execution_count": 86,
     "metadata": {},
     "output_type": "execute_result"
    }
   ],
   "source": [
    "#get std\n",
    "df_macro_std = df_macro_groupby.std()\n",
    "\n",
    "df_macro_std = df_macro_std[scale_cols]\n",
    "\n",
    "df_macro_std.head()"
   ]
  },
  {
   "cell_type": "code",
   "execution_count": 87,
   "metadata": {},
   "outputs": [],
   "source": [
    "#save statistics for later use\n",
    "df_macro_std.to_csv(os.path.join(goog_dir,'data/df_macro_std.csv'))"
   ]
  },
  {
   "cell_type": "code",
   "execution_count": 88,
   "metadata": {},
   "outputs": [
    {
     "data": {
      "text/html": [
       "<div>\n",
       "<style scoped>\n",
       "    .dataframe tbody tr th:only-of-type {\n",
       "        vertical-align: middle;\n",
       "    }\n",
       "\n",
       "    .dataframe tbody tr th {\n",
       "        vertical-align: top;\n",
       "    }\n",
       "\n",
       "    .dataframe thead th {\n",
       "        text-align: right;\n",
       "    }\n",
       "</style>\n",
       "<table border=\"1\" class=\"dataframe\">\n",
       "  <thead>\n",
       "    <tr style=\"text-align: right;\">\n",
       "      <th></th>\n",
       "      <th>zip_2</th>\n",
       "    </tr>\n",
       "  </thead>\n",
       "  <tbody>\n",
       "    <tr>\n",
       "      <th>33</th>\n",
       "      <td>49389</td>\n",
       "    </tr>\n",
       "    <tr>\n",
       "      <th>92</th>\n",
       "      <td>47498</td>\n",
       "    </tr>\n",
       "    <tr>\n",
       "      <th>11</th>\n",
       "      <td>43076</td>\n",
       "    </tr>\n",
       "    <tr>\n",
       "      <th>60</th>\n",
       "      <td>37989</td>\n",
       "    </tr>\n",
       "    <tr>\n",
       "      <th>95</th>\n",
       "      <td>34767</td>\n",
       "    </tr>\n",
       "  </tbody>\n",
       "</table>\n",
       "</div>"
      ],
      "text/plain": [
       "    zip_2\n",
       "33  49389\n",
       "92  47498\n",
       "11  43076\n",
       "60  37989\n",
       "95  34767"
      ]
     },
     "execution_count": 88,
     "metadata": {},
     "output_type": "execute_result"
    }
   ],
   "source": [
    "#get counts\n",
    "df_macro_count = pd.DataFrame(df_num['zip_2'].value_counts())\n",
    "df_macro_count.head()"
   ]
  },
  {
   "cell_type": "code",
   "execution_count": 89,
   "metadata": {},
   "outputs": [
    {
     "data": {
      "text/html": [
       "<div>\n",
       "<style scoped>\n",
       "    .dataframe tbody tr th:only-of-type {\n",
       "        vertical-align: middle;\n",
       "    }\n",
       "\n",
       "    .dataframe tbody tr th {\n",
       "        vertical-align: top;\n",
       "    }\n",
       "\n",
       "    .dataframe thead th {\n",
       "        text-align: right;\n",
       "    }\n",
       "</style>\n",
       "<table border=\"1\" class=\"dataframe\">\n",
       "  <thead>\n",
       "    <tr style=\"text-align: right;\">\n",
       "      <th></th>\n",
       "      <th>zip_2</th>\n",
       "    </tr>\n",
       "  </thead>\n",
       "  <tbody>\n",
       "    <tr>\n",
       "      <th>count</th>\n",
       "      <td>100.000000</td>\n",
       "    </tr>\n",
       "    <tr>\n",
       "      <th>mean</th>\n",
       "      <td>12920.730000</td>\n",
       "    </tr>\n",
       "    <tr>\n",
       "      <th>std</th>\n",
       "      <td>11129.257605</td>\n",
       "    </tr>\n",
       "    <tr>\n",
       "      <th>min</th>\n",
       "      <td>6.000000</td>\n",
       "    </tr>\n",
       "    <tr>\n",
       "      <th>25%</th>\n",
       "      <td>4504.750000</td>\n",
       "    </tr>\n",
       "    <tr>\n",
       "      <th>50%</th>\n",
       "      <td>8995.000000</td>\n",
       "    </tr>\n",
       "    <tr>\n",
       "      <th>75%</th>\n",
       "      <td>18905.000000</td>\n",
       "    </tr>\n",
       "    <tr>\n",
       "      <th>max</th>\n",
       "      <td>49389.000000</td>\n",
       "    </tr>\n",
       "  </tbody>\n",
       "</table>\n",
       "</div>"
      ],
      "text/plain": [
       "              zip_2\n",
       "count    100.000000\n",
       "mean   12920.730000\n",
       "std    11129.257605\n",
       "min        6.000000\n",
       "25%     4504.750000\n",
       "50%     8995.000000\n",
       "75%    18905.000000\n",
       "max    49389.000000"
      ]
     },
     "execution_count": 89,
     "metadata": {},
     "output_type": "execute_result"
    }
   ],
   "source": [
    "df_macro_count.describe()"
   ]
  },
  {
   "cell_type": "code",
   "execution_count": 90,
   "metadata": {},
   "outputs": [
    {
     "data": {
      "text/plain": [
       "zip_2    28798\n",
       "Name: 85, dtype: int64"
      ]
     },
     "execution_count": 90,
     "metadata": {},
     "output_type": "execute_result"
    }
   ],
   "source": [
    "#sample measurement\n",
    "df_macro_count.loc['85']"
   ]
  },
  {
   "cell_type": "code",
   "execution_count": 91,
   "metadata": {},
   "outputs": [
    {
     "data": {
      "text/plain": [
       "Text(0.5, 1.0, 'Distribution of Loan Applications by 2 Digit Zip Code')"
      ]
     },
     "execution_count": 91,
     "metadata": {},
     "output_type": "execute_result"
    },
    {
     "data": {
      "image/png": "[encoded data removed]",
      "text/plain": [
       "<Figure size 432x288 with 1 Axes>"
      ]
     },
     "metadata": {
      "needs_background": "light"
     },
     "output_type": "display_data"
    }
   ],
   "source": [
    "df_macro_count.hist(column='zip_2',\n",
    "                    bins=np.arange(0, 55_000, 5000))\n",
    "plt.xlabel(\"Loan Applications\")\n",
    "plt.ylabel(\"Count\")\n",
    "plt.title(\"Distribution of Loan Applications by 2 Digit Zip Code\")"
   ]
  },
  {
   "cell_type": "markdown",
   "metadata": {},
   "source": [
    "## 5.2 Micro Level"
   ]
  },
  {
   "cell_type": "code",
   "execution_count": 92,
   "metadata": {},
   "outputs": [],
   "source": [
    "#instantiate groupby object\n",
    "df_micro_groupby = df_num.drop(columns=['zip_2']).groupby(by='zip_3')"
   ]
  },
  {
   "cell_type": "code",
   "execution_count": 93,
   "metadata": {},
   "outputs": [
    {
     "data": {
      "text/html": [
       "<div>\n",
       "<style scoped>\n",
       "    .dataframe tbody tr th:only-of-type {\n",
       "        vertical-align: middle;\n",
       "    }\n",
       "\n",
       "    .dataframe tbody tr th {\n",
       "        vertical-align: top;\n",
       "    }\n",
       "\n",
       "    .dataframe thead th {\n",
       "        text-align: right;\n",
       "    }\n",
       "</style>\n",
       "<table border=\"1\" class=\"dataframe\">\n",
       "  <thead>\n",
       "    <tr style=\"text-align: right;\">\n",
       "      <th></th>\n",
       "      <th>loan_amnt</th>\n",
       "      <th>term</th>\n",
       "      <th>int_rate</th>\n",
       "      <th>installment</th>\n",
       "      <th>grade</th>\n",
       "      <th>sub_grade</th>\n",
       "      <th>emp_length</th>\n",
       "      <th>home_ownership</th>\n",
       "      <th>annual_inc</th>\n",
       "      <th>verification_status</th>\n",
       "      <th>...</th>\n",
       "      <th>purp_home_improvement</th>\n",
       "      <th>purp_house</th>\n",
       "      <th>purp_major_purchase</th>\n",
       "      <th>purp_medical</th>\n",
       "      <th>purp_moving</th>\n",
       "      <th>purp_other</th>\n",
       "      <th>purp_renewable_energy</th>\n",
       "      <th>purp_small_business</th>\n",
       "      <th>purp_vacation</th>\n",
       "      <th>purp_wedding</th>\n",
       "    </tr>\n",
       "    <tr>\n",
       "      <th>zip_3</th>\n",
       "      <th></th>\n",
       "      <th></th>\n",
       "      <th></th>\n",
       "      <th></th>\n",
       "      <th></th>\n",
       "      <th></th>\n",
       "      <th></th>\n",
       "      <th></th>\n",
       "      <th></th>\n",
       "      <th></th>\n",
       "      <th></th>\n",
       "      <th></th>\n",
       "      <th></th>\n",
       "      <th></th>\n",
       "      <th></th>\n",
       "      <th></th>\n",
       "      <th></th>\n",
       "      <th></th>\n",
       "      <th></th>\n",
       "      <th></th>\n",
       "      <th></th>\n",
       "    </tr>\n",
       "  </thead>\n",
       "  <tbody>\n",
       "    <tr>\n",
       "      <th>007</th>\n",
       "      <td>17500.000000</td>\n",
       "      <td>1.600000</td>\n",
       "      <td>15.444000</td>\n",
       "      <td>501.648000</td>\n",
       "      <td>4.600000</td>\n",
       "      <td>19.600000</td>\n",
       "      <td>8.400000</td>\n",
       "      <td>3.600000</td>\n",
       "      <td>95800.000000</td>\n",
       "      <td>1.000000</td>\n",
       "      <td>...</td>\n",
       "      <td>0.000000</td>\n",
       "      <td>0.000000</td>\n",
       "      <td>0.000000</td>\n",
       "      <td>0.000000</td>\n",
       "      <td>0.000000</td>\n",
       "      <td>0.000000</td>\n",
       "      <td>0.000000</td>\n",
       "      <td>0.000000</td>\n",
       "      <td>0.000000</td>\n",
       "      <td>0.000000</td>\n",
       "    </tr>\n",
       "    <tr>\n",
       "      <th>008</th>\n",
       "      <td>15668.750000</td>\n",
       "      <td>1.000000</td>\n",
       "      <td>10.747500</td>\n",
       "      <td>514.777500</td>\n",
       "      <td>6.000000</td>\n",
       "      <td>26.750000</td>\n",
       "      <td>5.750000</td>\n",
       "      <td>4.250000</td>\n",
       "      <td>61250.000000</td>\n",
       "      <td>0.500000</td>\n",
       "      <td>...</td>\n",
       "      <td>0.250000</td>\n",
       "      <td>0.000000</td>\n",
       "      <td>0.000000</td>\n",
       "      <td>0.000000</td>\n",
       "      <td>0.000000</td>\n",
       "      <td>0.000000</td>\n",
       "      <td>0.000000</td>\n",
       "      <td>0.000000</td>\n",
       "      <td>0.000000</td>\n",
       "      <td>0.000000</td>\n",
       "    </tr>\n",
       "    <tr>\n",
       "      <th>009</th>\n",
       "      <td>8000.000000</td>\n",
       "      <td>1.000000</td>\n",
       "      <td>9.800000</td>\n",
       "      <td>257.390000</td>\n",
       "      <td>6.000000</td>\n",
       "      <td>27.000000</td>\n",
       "      <td>8.000000</td>\n",
       "      <td>4.000000</td>\n",
       "      <td>50000.000000</td>\n",
       "      <td>2.000000</td>\n",
       "      <td>...</td>\n",
       "      <td>0.000000</td>\n",
       "      <td>0.000000</td>\n",
       "      <td>0.000000</td>\n",
       "      <td>0.000000</td>\n",
       "      <td>0.000000</td>\n",
       "      <td>0.000000</td>\n",
       "      <td>0.000000</td>\n",
       "      <td>0.000000</td>\n",
       "      <td>0.000000</td>\n",
       "      <td>0.000000</td>\n",
       "    </tr>\n",
       "    <tr>\n",
       "      <th>010</th>\n",
       "      <td>14614.240964</td>\n",
       "      <td>1.272289</td>\n",
       "      <td>12.709022</td>\n",
       "      <td>439.634810</td>\n",
       "      <td>5.386024</td>\n",
       "      <td>24.012048</td>\n",
       "      <td>6.580241</td>\n",
       "      <td>3.764337</td>\n",
       "      <td>70454.915995</td>\n",
       "      <td>1.051566</td>\n",
       "      <td>...</td>\n",
       "      <td>0.083373</td>\n",
       "      <td>0.002410</td>\n",
       "      <td>0.016867</td>\n",
       "      <td>0.006747</td>\n",
       "      <td>0.003855</td>\n",
       "      <td>0.047711</td>\n",
       "      <td>0.000964</td>\n",
       "      <td>0.008193</td>\n",
       "      <td>0.002410</td>\n",
       "      <td>0.000964</td>\n",
       "    </tr>\n",
       "    <tr>\n",
       "      <th>011</th>\n",
       "      <td>13710.015528</td>\n",
       "      <td>1.273292</td>\n",
       "      <td>13.760668</td>\n",
       "      <td>415.731149</td>\n",
       "      <td>5.124224</td>\n",
       "      <td>22.580745</td>\n",
       "      <td>6.793478</td>\n",
       "      <td>3.760870</td>\n",
       "      <td>63547.224441</td>\n",
       "      <td>1.121118</td>\n",
       "      <td>...</td>\n",
       "      <td>0.065217</td>\n",
       "      <td>0.009317</td>\n",
       "      <td>0.012422</td>\n",
       "      <td>0.006211</td>\n",
       "      <td>0.001553</td>\n",
       "      <td>0.074534</td>\n",
       "      <td>0.001553</td>\n",
       "      <td>0.007764</td>\n",
       "      <td>0.006211</td>\n",
       "      <td>0.001553</td>\n",
       "    </tr>\n",
       "  </tbody>\n",
       "</table>\n",
       "<p>5 rows × 44 columns</p>\n",
       "</div>"
      ],
      "text/plain": [
       "          loan_amnt      term   int_rate  installment     grade  sub_grade  \\\n",
       "zip_3                                                                        \n",
       "007    17500.000000  1.600000  15.444000   501.648000  4.600000  19.600000   \n",
       "008    15668.750000  1.000000  10.747500   514.777500  6.000000  26.750000   \n",
       "009     8000.000000  1.000000   9.800000   257.390000  6.000000  27.000000   \n",
       "010    14614.240964  1.272289  12.709022   439.634810  5.386024  24.012048   \n",
       "011    13710.015528  1.273292  13.760668   415.731149  5.124224  22.580745   \n",
       "\n",
       "       emp_length  home_ownership    annual_inc  verification_status  \\\n",
       "zip_3                                                                  \n",
       "007      8.400000        3.600000  95800.000000             1.000000   \n",
       "008      5.750000        4.250000  61250.000000             0.500000   \n",
       "009      8.000000        4.000000  50000.000000             2.000000   \n",
       "010      6.580241        3.764337  70454.915995             1.051566   \n",
       "011      6.793478        3.760870  63547.224441             1.121118   \n",
       "\n",
       "           ...       purp_home_improvement  purp_house  purp_major_purchase  \\\n",
       "zip_3      ...                                                                \n",
       "007        ...                    0.000000    0.000000             0.000000   \n",
       "008        ...                    0.250000    0.000000             0.000000   \n",
       "009        ...                    0.000000    0.000000             0.000000   \n",
       "010        ...                    0.083373    0.002410             0.016867   \n",
       "011        ...                    0.065217    0.009317             0.012422   \n",
       "\n",
       "       purp_medical  purp_moving  purp_other  purp_renewable_energy  \\\n",
       "zip_3                                                                 \n",
       "007        0.000000     0.000000    0.000000               0.000000   \n",
       "008        0.000000     0.000000    0.000000               0.000000   \n",
       "009        0.000000     0.000000    0.000000               0.000000   \n",
       "010        0.006747     0.003855    0.047711               0.000964   \n",
       "011        0.006211     0.001553    0.074534               0.001553   \n",
       "\n",
       "       purp_small_business  purp_vacation  purp_wedding  \n",
       "zip_3                                                    \n",
       "007               0.000000       0.000000      0.000000  \n",
       "008               0.000000       0.000000      0.000000  \n",
       "009               0.000000       0.000000      0.000000  \n",
       "010               0.008193       0.002410      0.000964  \n",
       "011               0.007764       0.006211      0.001553  \n",
       "\n",
       "[5 rows x 44 columns]"
      ]
     },
     "execution_count": 93,
     "metadata": {},
     "output_type": "execute_result"
    }
   ],
   "source": [
    "#get mean\n",
    "df_micro_mean = df_micro_groupby.mean()\n",
    "\n",
    "df_micro_mean.head()"
   ]
  },
  {
   "cell_type": "code",
   "execution_count": 94,
   "metadata": {},
   "outputs": [
    {
     "data": {
      "text/html": [
       "<div>\n",
       "<style scoped>\n",
       "    .dataframe tbody tr th:only-of-type {\n",
       "        vertical-align: middle;\n",
       "    }\n",
       "\n",
       "    .dataframe tbody tr th {\n",
       "        vertical-align: top;\n",
       "    }\n",
       "\n",
       "    .dataframe thead th {\n",
       "        text-align: right;\n",
       "    }\n",
       "</style>\n",
       "<table border=\"1\" class=\"dataframe\">\n",
       "  <thead>\n",
       "    <tr style=\"text-align: right;\">\n",
       "      <th></th>\n",
       "      <th>loan_amnt</th>\n",
       "      <th>term</th>\n",
       "      <th>int_rate</th>\n",
       "      <th>installment</th>\n",
       "      <th>grade</th>\n",
       "      <th>sub_grade</th>\n",
       "      <th>emp_length</th>\n",
       "      <th>home_ownership</th>\n",
       "      <th>annual_inc</th>\n",
       "      <th>verification_status</th>\n",
       "      <th>...</th>\n",
       "      <th>purp_home_improvement</th>\n",
       "      <th>purp_house</th>\n",
       "      <th>purp_major_purchase</th>\n",
       "      <th>purp_medical</th>\n",
       "      <th>purp_moving</th>\n",
       "      <th>purp_other</th>\n",
       "      <th>purp_renewable_energy</th>\n",
       "      <th>purp_small_business</th>\n",
       "      <th>purp_vacation</th>\n",
       "      <th>purp_wedding</th>\n",
       "    </tr>\n",
       "    <tr>\n",
       "      <th>zip_3</th>\n",
       "      <th></th>\n",
       "      <th></th>\n",
       "      <th></th>\n",
       "      <th></th>\n",
       "      <th></th>\n",
       "      <th></th>\n",
       "      <th></th>\n",
       "      <th></th>\n",
       "      <th></th>\n",
       "      <th></th>\n",
       "      <th></th>\n",
       "      <th></th>\n",
       "      <th></th>\n",
       "      <th></th>\n",
       "      <th></th>\n",
       "      <th></th>\n",
       "      <th></th>\n",
       "      <th></th>\n",
       "      <th></th>\n",
       "      <th></th>\n",
       "      <th></th>\n",
       "    </tr>\n",
       "  </thead>\n",
       "  <tbody>\n",
       "    <tr>\n",
       "      <th>007</th>\n",
       "      <td>2179.449472</td>\n",
       "      <td>0.547723</td>\n",
       "      <td>4.256904</td>\n",
       "      <td>122.891795</td>\n",
       "      <td>1.140175</td>\n",
       "      <td>6.066300</td>\n",
       "      <td>3.577709</td>\n",
       "      <td>0.547723</td>\n",
       "      <td>36217.399134</td>\n",
       "      <td>0.707107</td>\n",
       "      <td>...</td>\n",
       "      <td>0.000000</td>\n",
       "      <td>0.000000</td>\n",
       "      <td>0.000000</td>\n",
       "      <td>0.000000</td>\n",
       "      <td>0.000000</td>\n",
       "      <td>0.000000</td>\n",
       "      <td>0.000000</td>\n",
       "      <td>0.000000</td>\n",
       "      <td>0.000000</td>\n",
       "      <td>0.000000</td>\n",
       "    </tr>\n",
       "    <tr>\n",
       "      <th>008</th>\n",
       "      <td>7336.932119</td>\n",
       "      <td>0.000000</td>\n",
       "      <td>5.673085</td>\n",
       "      <td>244.584810</td>\n",
       "      <td>1.414214</td>\n",
       "      <td>7.544314</td>\n",
       "      <td>2.986079</td>\n",
       "      <td>0.500000</td>\n",
       "      <td>27060.118255</td>\n",
       "      <td>0.577350</td>\n",
       "      <td>...</td>\n",
       "      <td>0.500000</td>\n",
       "      <td>0.000000</td>\n",
       "      <td>0.000000</td>\n",
       "      <td>0.000000</td>\n",
       "      <td>0.000000</td>\n",
       "      <td>0.000000</td>\n",
       "      <td>0.000000</td>\n",
       "      <td>0.000000</td>\n",
       "      <td>0.000000</td>\n",
       "      <td>0.000000</td>\n",
       "    </tr>\n",
       "    <tr>\n",
       "      <th>009</th>\n",
       "      <td>NaN</td>\n",
       "      <td>NaN</td>\n",
       "      <td>NaN</td>\n",
       "      <td>NaN</td>\n",
       "      <td>NaN</td>\n",
       "      <td>NaN</td>\n",
       "      <td>NaN</td>\n",
       "      <td>NaN</td>\n",
       "      <td>NaN</td>\n",
       "      <td>NaN</td>\n",
       "      <td>...</td>\n",
       "      <td>NaN</td>\n",
       "      <td>NaN</td>\n",
       "      <td>NaN</td>\n",
       "      <td>NaN</td>\n",
       "      <td>NaN</td>\n",
       "      <td>NaN</td>\n",
       "      <td>NaN</td>\n",
       "      <td>NaN</td>\n",
       "      <td>NaN</td>\n",
       "      <td>NaN</td>\n",
       "    </tr>\n",
       "    <tr>\n",
       "      <th>010</th>\n",
       "      <td>7673.199751</td>\n",
       "      <td>0.445245</td>\n",
       "      <td>4.817369</td>\n",
       "      <td>232.434360</td>\n",
       "      <td>1.320010</td>\n",
       "      <td>6.603698</td>\n",
       "      <td>3.488609</td>\n",
       "      <td>0.626389</td>\n",
       "      <td>36604.391833</td>\n",
       "      <td>0.849721</td>\n",
       "      <td>...</td>\n",
       "      <td>0.276513</td>\n",
       "      <td>0.049041</td>\n",
       "      <td>0.128806</td>\n",
       "      <td>0.081882</td>\n",
       "      <td>0.061987</td>\n",
       "      <td>0.213205</td>\n",
       "      <td>0.031039</td>\n",
       "      <td>0.090164</td>\n",
       "      <td>0.049041</td>\n",
       "      <td>0.031039</td>\n",
       "    </tr>\n",
       "    <tr>\n",
       "      <th>011</th>\n",
       "      <td>7425.375548</td>\n",
       "      <td>0.445996</td>\n",
       "      <td>5.056193</td>\n",
       "      <td>214.745584</td>\n",
       "      <td>1.335053</td>\n",
       "      <td>6.644588</td>\n",
       "      <td>3.490385</td>\n",
       "      <td>0.607335</td>\n",
       "      <td>33787.476440</td>\n",
       "      <td>0.831488</td>\n",
       "      <td>...</td>\n",
       "      <td>0.247101</td>\n",
       "      <td>0.096147</td>\n",
       "      <td>0.110847</td>\n",
       "      <td>0.078627</td>\n",
       "      <td>0.039406</td>\n",
       "      <td>0.262842</td>\n",
       "      <td>0.039406</td>\n",
       "      <td>0.087839</td>\n",
       "      <td>0.078627</td>\n",
       "      <td>0.039406</td>\n",
       "    </tr>\n",
       "  </tbody>\n",
       "</table>\n",
       "<p>5 rows × 44 columns</p>\n",
       "</div>"
      ],
      "text/plain": [
       "         loan_amnt      term  int_rate  installment     grade  sub_grade  \\\n",
       "zip_3                                                                      \n",
       "007    2179.449472  0.547723  4.256904   122.891795  1.140175   6.066300   \n",
       "008    7336.932119  0.000000  5.673085   244.584810  1.414214   7.544314   \n",
       "009            NaN       NaN       NaN          NaN       NaN        NaN   \n",
       "010    7673.199751  0.445245  4.817369   232.434360  1.320010   6.603698   \n",
       "011    7425.375548  0.445996  5.056193   214.745584  1.335053   6.644588   \n",
       "\n",
       "       emp_length  home_ownership    annual_inc  verification_status  \\\n",
       "zip_3                                                                  \n",
       "007      3.577709        0.547723  36217.399134             0.707107   \n",
       "008      2.986079        0.500000  27060.118255             0.577350   \n",
       "009           NaN             NaN           NaN                  NaN   \n",
       "010      3.488609        0.626389  36604.391833             0.849721   \n",
       "011      3.490385        0.607335  33787.476440             0.831488   \n",
       "\n",
       "           ...       purp_home_improvement  purp_house  purp_major_purchase  \\\n",
       "zip_3      ...                                                                \n",
       "007        ...                    0.000000    0.000000             0.000000   \n",
       "008        ...                    0.500000    0.000000             0.000000   \n",
       "009        ...                         NaN         NaN                  NaN   \n",
       "010        ...                    0.276513    0.049041             0.128806   \n",
       "011        ...                    0.247101    0.096147             0.110847   \n",
       "\n",
       "       purp_medical  purp_moving  purp_other  purp_renewable_energy  \\\n",
       "zip_3                                                                 \n",
       "007        0.000000     0.000000    0.000000               0.000000   \n",
       "008        0.000000     0.000000    0.000000               0.000000   \n",
       "009             NaN          NaN         NaN                    NaN   \n",
       "010        0.081882     0.061987    0.213205               0.031039   \n",
       "011        0.078627     0.039406    0.262842               0.039406   \n",
       "\n",
       "       purp_small_business  purp_vacation  purp_wedding  \n",
       "zip_3                                                    \n",
       "007               0.000000       0.000000      0.000000  \n",
       "008               0.000000       0.000000      0.000000  \n",
       "009                    NaN            NaN           NaN  \n",
       "010               0.090164       0.049041      0.031039  \n",
       "011               0.087839       0.078627      0.039406  \n",
       "\n",
       "[5 rows x 44 columns]"
      ]
     },
     "execution_count": 94,
     "metadata": {},
     "output_type": "execute_result"
    }
   ],
   "source": [
    "#get std\n",
    "df_micro_std = df_micro_groupby.std()\n",
    "\n",
    "df_micro_std.head()"
   ]
  },
  {
   "cell_type": "code",
   "execution_count": 95,
   "metadata": {},
   "outputs": [
    {
     "data": {
      "text/html": [
       "<div>\n",
       "<style scoped>\n",
       "    .dataframe tbody tr th:only-of-type {\n",
       "        vertical-align: middle;\n",
       "    }\n",
       "\n",
       "    .dataframe tbody tr th {\n",
       "        vertical-align: top;\n",
       "    }\n",
       "\n",
       "    .dataframe thead th {\n",
       "        text-align: right;\n",
       "    }\n",
       "</style>\n",
       "<table border=\"1\" class=\"dataframe\">\n",
       "  <thead>\n",
       "    <tr style=\"text-align: right;\">\n",
       "      <th></th>\n",
       "      <th>loan_amnt</th>\n",
       "      <th>term</th>\n",
       "      <th>int_rate</th>\n",
       "      <th>installment</th>\n",
       "      <th>grade</th>\n",
       "      <th>sub_grade</th>\n",
       "      <th>emp_length</th>\n",
       "      <th>home_ownership</th>\n",
       "      <th>annual_inc</th>\n",
       "      <th>verification_status</th>\n",
       "      <th>...</th>\n",
       "      <th>purp_home_improvement</th>\n",
       "      <th>purp_house</th>\n",
       "      <th>purp_major_purchase</th>\n",
       "      <th>purp_medical</th>\n",
       "      <th>purp_moving</th>\n",
       "      <th>purp_other</th>\n",
       "      <th>purp_renewable_energy</th>\n",
       "      <th>purp_small_business</th>\n",
       "      <th>purp_vacation</th>\n",
       "      <th>purp_wedding</th>\n",
       "    </tr>\n",
       "  </thead>\n",
       "  <tbody>\n",
       "    <tr>\n",
       "      <th>817081</th>\n",
       "      <td>8000</td>\n",
       "      <td>1</td>\n",
       "      <td>9.8</td>\n",
       "      <td>257.39</td>\n",
       "      <td>6</td>\n",
       "      <td>27</td>\n",
       "      <td>8</td>\n",
       "      <td>4</td>\n",
       "      <td>50000.0</td>\n",
       "      <td>2</td>\n",
       "      <td>...</td>\n",
       "      <td>0</td>\n",
       "      <td>0</td>\n",
       "      <td>0</td>\n",
       "      <td>0</td>\n",
       "      <td>0</td>\n",
       "      <td>0</td>\n",
       "      <td>0</td>\n",
       "      <td>0</td>\n",
       "      <td>0</td>\n",
       "      <td>0</td>\n",
       "    </tr>\n",
       "  </tbody>\n",
       "</table>\n",
       "<p>1 rows × 47 columns</p>\n",
       "</div>"
      ],
      "text/plain": [
       "        loan_amnt  term  int_rate  installment  grade  sub_grade  emp_length  \\\n",
       "817081       8000     1       9.8       257.39      6         27           8   \n",
       "\n",
       "        home_ownership  annual_inc  verification_status      ...       \\\n",
       "817081               4     50000.0                    2      ...        \n",
       "\n",
       "        purp_home_improvement  purp_house  purp_major_purchase  purp_medical  \\\n",
       "817081                      0           0                    0             0   \n",
       "\n",
       "        purp_moving purp_other  purp_renewable_energy  purp_small_business  \\\n",
       "817081            0          0                      0                    0   \n",
       "\n",
       "        purp_vacation  purp_wedding  \n",
       "817081              0             0  \n",
       "\n",
       "[1 rows x 47 columns]"
      ]
     },
     "execution_count": 95,
     "metadata": {},
     "output_type": "execute_result"
    }
   ],
   "source": [
    "df_num[df_num['zip_3']=='009']"
   ]
  },
  {
   "cell_type": "code",
   "execution_count": 96,
   "metadata": {},
   "outputs": [
    {
     "data": {
      "text/html": [
       "<div>\n",
       "<style scoped>\n",
       "    .dataframe tbody tr th:only-of-type {\n",
       "        vertical-align: middle;\n",
       "    }\n",
       "\n",
       "    .dataframe tbody tr th {\n",
       "        vertical-align: top;\n",
       "    }\n",
       "\n",
       "    .dataframe thead th {\n",
       "        text-align: right;\n",
       "    }\n",
       "</style>\n",
       "<table border=\"1\" class=\"dataframe\">\n",
       "  <thead>\n",
       "    <tr style=\"text-align: right;\">\n",
       "      <th></th>\n",
       "      <th>zip_3</th>\n",
       "    </tr>\n",
       "  </thead>\n",
       "  <tbody>\n",
       "    <tr>\n",
       "      <th>945</th>\n",
       "      <td>14489</td>\n",
       "    </tr>\n",
       "    <tr>\n",
       "      <th>750</th>\n",
       "      <td>13915</td>\n",
       "    </tr>\n",
       "    <tr>\n",
       "      <th>112</th>\n",
       "      <td>13298</td>\n",
       "    </tr>\n",
       "    <tr>\n",
       "      <th>606</th>\n",
       "      <td>11970</td>\n",
       "    </tr>\n",
       "    <tr>\n",
       "      <th>300</th>\n",
       "      <td>11601</td>\n",
       "    </tr>\n",
       "  </tbody>\n",
       "</table>\n",
       "</div>"
      ],
      "text/plain": [
       "     zip_3\n",
       "945  14489\n",
       "750  13915\n",
       "112  13298\n",
       "606  11970\n",
       "300  11601"
      ]
     },
     "execution_count": 96,
     "metadata": {},
     "output_type": "execute_result"
    }
   ],
   "source": [
    "#get counts\n",
    "df_micro_count = pd.DataFrame(df_num['zip_3'].value_counts())\n",
    "df_micro_count.head()"
   ]
  },
  {
   "cell_type": "code",
   "execution_count": 97,
   "metadata": {},
   "outputs": [
    {
     "data": {
      "text/html": [
       "<div>\n",
       "<style scoped>\n",
       "    .dataframe tbody tr th:only-of-type {\n",
       "        vertical-align: middle;\n",
       "    }\n",
       "\n",
       "    .dataframe tbody tr th {\n",
       "        vertical-align: top;\n",
       "    }\n",
       "\n",
       "    .dataframe thead th {\n",
       "        text-align: right;\n",
       "    }\n",
       "</style>\n",
       "<table border=\"1\" class=\"dataframe\">\n",
       "  <thead>\n",
       "    <tr style=\"text-align: right;\">\n",
       "      <th></th>\n",
       "      <th>zip_3</th>\n",
       "    </tr>\n",
       "  </thead>\n",
       "  <tbody>\n",
       "    <tr>\n",
       "      <th>count</th>\n",
       "      <td>943.000000</td>\n",
       "    </tr>\n",
       "    <tr>\n",
       "      <th>mean</th>\n",
       "      <td>1370.172853</td>\n",
       "    </tr>\n",
       "    <tr>\n",
       "      <th>std</th>\n",
       "      <td>1929.640542</td>\n",
       "    </tr>\n",
       "    <tr>\n",
       "      <th>min</th>\n",
       "      <td>1.000000</td>\n",
       "    </tr>\n",
       "    <tr>\n",
       "      <th>25%</th>\n",
       "      <td>258.000000</td>\n",
       "    </tr>\n",
       "    <tr>\n",
       "      <th>50%</th>\n",
       "      <td>642.000000</td>\n",
       "    </tr>\n",
       "    <tr>\n",
       "      <th>75%</th>\n",
       "      <td>1647.000000</td>\n",
       "    </tr>\n",
       "    <tr>\n",
       "      <th>max</th>\n",
       "      <td>14489.000000</td>\n",
       "    </tr>\n",
       "  </tbody>\n",
       "</table>\n",
       "</div>"
      ],
      "text/plain": [
       "              zip_3\n",
       "count    943.000000\n",
       "mean    1370.172853\n",
       "std     1929.640542\n",
       "min        1.000000\n",
       "25%      258.000000\n",
       "50%      642.000000\n",
       "75%     1647.000000\n",
       "max    14489.000000"
      ]
     },
     "execution_count": 97,
     "metadata": {},
     "output_type": "execute_result"
    }
   ],
   "source": [
    "df_micro_count.describe()"
   ]
  },
  {
   "cell_type": "code",
   "execution_count": 98,
   "metadata": {},
   "outputs": [
    {
     "data": {
      "text/plain": [
       "Text(0.5, 1.0, 'Distribution of Loan Applications by 3 digit Zip Code')"
      ]
     },
     "execution_count": 98,
     "metadata": {},
     "output_type": "execute_result"
    },
    {
     "data": {
      "image/png": "[encoded data removed]",
      "text/plain": [
       "<Figure size 432x288 with 1 Axes>"
      ]
     },
     "metadata": {
      "needs_background": "light"
     },
     "output_type": "display_data"
    }
   ],
   "source": [
    "df_micro_count.hist(column='zip_3',\n",
    "                    bins=np.arange(0, 16000, 1000))\n",
    "plt.xlabel(\"Loan Applications\")\n",
    "plt.ylabel(\"Count\")\n",
    "plt.title(\"Distribution of Loan Applications by 3 digit Zip Code\")"
   ]
  },
  {
   "cell_type": "markdown",
   "metadata": {},
   "source": [
    "## 5.3 Scaling Function\n",
    "In this section we will apply a standard scaler that relies on observations from the training data. The same scaler that was fitted on the training data will be used to transform both training and test data."
   ]
  },
  {
   "cell_type": "code",
   "execution_count": 99,
   "metadata": {},
   "outputs": [
    {
     "ename": "ModuleNotFoundError",
     "evalue": "No module named 'numpy.core._multiarray_umath'",
     "output_type": "error",
     "traceback": [
      "\u001b[0;31m---------------------------------------------------------------------------\u001b[0m",
      "\u001b[0;31mModuleNotFoundError\u001b[0m                       Traceback (most recent call last)",
      "\u001b[0;31mModuleNotFoundError\u001b[0m: No module named 'numpy.core._multiarray_umath'"
     ]
    },
    {
     "data": {
      "text/html": [
       "<div>\n",
       "<style scoped>\n",
       "    .dataframe tbody tr th:only-of-type {\n",
       "        vertical-align: middle;\n",
       "    }\n",
       "\n",
       "    .dataframe tbody tr th {\n",
       "        vertical-align: top;\n",
       "    }\n",
       "\n",
       "    .dataframe thead th {\n",
       "        text-align: right;\n",
       "    }\n",
       "</style>\n",
       "<table border=\"1\" class=\"dataframe\">\n",
       "  <thead>\n",
       "    <tr style=\"text-align: right;\">\n",
       "      <th></th>\n",
       "      <th>loan_amnt</th>\n",
       "      <th>term</th>\n",
       "      <th>int_rate</th>\n",
       "      <th>installment</th>\n",
       "      <th>grade</th>\n",
       "      <th>sub_grade</th>\n",
       "      <th>emp_length</th>\n",
       "      <th>home_ownership</th>\n",
       "      <th>annual_inc</th>\n",
       "      <th>verification_status</th>\n",
       "      <th>...</th>\n",
       "      <th>purp_home_improvement</th>\n",
       "      <th>purp_house</th>\n",
       "      <th>purp_major_purchase</th>\n",
       "      <th>purp_medical</th>\n",
       "      <th>purp_moving</th>\n",
       "      <th>purp_other</th>\n",
       "      <th>purp_renewable_energy</th>\n",
       "      <th>purp_small_business</th>\n",
       "      <th>purp_vacation</th>\n",
       "      <th>purp_wedding</th>\n",
       "    </tr>\n",
       "  </thead>\n",
       "  <tbody>\n",
       "    <tr>\n",
       "      <th>2139270</th>\n",
       "      <td>-0.890562</td>\n",
       "      <td>-0.565438</td>\n",
       "      <td>0.190831</td>\n",
       "      <td>-0.788166</td>\n",
       "      <td>-1.817008</td>\n",
       "      <td>-1.671383</td>\n",
       "      <td>-1.399767</td>\n",
       "      <td>2.196862</td>\n",
       "      <td>-1.073069</td>\n",
       "      <td>0</td>\n",
       "      <td>...</td>\n",
       "      <td>0</td>\n",
       "      <td>0</td>\n",
       "      <td>0</td>\n",
       "      <td>0</td>\n",
       "      <td>0</td>\n",
       "      <td>0</td>\n",
       "      <td>0</td>\n",
       "      <td>0</td>\n",
       "      <td>0</td>\n",
       "      <td>0</td>\n",
       "    </tr>\n",
       "    <tr>\n",
       "      <th>2139245</th>\n",
       "      <td>-1.475396</td>\n",
       "      <td>-0.565438</td>\n",
       "      <td>0.653814</td>\n",
       "      <td>-1.440208</td>\n",
       "      <td>-2.586479</td>\n",
       "      <td>-2.749700</td>\n",
       "      <td>-1.399767</td>\n",
       "      <td>-0.899632</td>\n",
       "      <td>-0.507501</td>\n",
       "      <td>0</td>\n",
       "      <td>...</td>\n",
       "      <td>0</td>\n",
       "      <td>0</td>\n",
       "      <td>0</td>\n",
       "      <td>0</td>\n",
       "      <td>0</td>\n",
       "      <td>0</td>\n",
       "      <td>0</td>\n",
       "      <td>0</td>\n",
       "      <td>0</td>\n",
       "      <td>0</td>\n",
       "    </tr>\n",
       "    <tr>\n",
       "      <th>2139236</th>\n",
       "      <td>-1.103783</td>\n",
       "      <td>-0.565438</td>\n",
       "      <td>-1.133175</td>\n",
       "      <td>-1.099830</td>\n",
       "      <td>1.260876</td>\n",
       "      <td>1.409524</td>\n",
       "      <td>1.098878</td>\n",
       "      <td>0.648615</td>\n",
       "      <td>0.855853</td>\n",
       "      <td>0</td>\n",
       "      <td>...</td>\n",
       "      <td>0</td>\n",
       "      <td>0</td>\n",
       "      <td>0</td>\n",
       "      <td>0</td>\n",
       "      <td>0</td>\n",
       "      <td>0</td>\n",
       "      <td>0</td>\n",
       "      <td>0</td>\n",
       "      <td>0</td>\n",
       "      <td>0</td>\n",
       "    </tr>\n",
       "    <tr>\n",
       "      <th>2139235</th>\n",
       "      <td>-1.377924</td>\n",
       "      <td>-0.565438</td>\n",
       "      <td>-0.536115</td>\n",
       "      <td>-1.365033</td>\n",
       "      <td>-0.278066</td>\n",
       "      <td>0.023116</td>\n",
       "      <td>-1.399767</td>\n",
       "      <td>-0.899632</td>\n",
       "      <td>-1.110524</td>\n",
       "      <td>0</td>\n",
       "      <td>...</td>\n",
       "      <td>0</td>\n",
       "      <td>0</td>\n",
       "      <td>0</td>\n",
       "      <td>0</td>\n",
       "      <td>1</td>\n",
       "      <td>0</td>\n",
       "      <td>0</td>\n",
       "      <td>0</td>\n",
       "      <td>0</td>\n",
       "      <td>0</td>\n",
       "    </tr>\n",
       "    <tr>\n",
       "      <th>2139225</th>\n",
       "      <td>-0.890562</td>\n",
       "      <td>-0.565438</td>\n",
       "      <td>-0.999098</td>\n",
       "      <td>-0.870123</td>\n",
       "      <td>1.260876</td>\n",
       "      <td>1.101433</td>\n",
       "      <td>-1.399767</td>\n",
       "      <td>0.648615</td>\n",
       "      <td>1.324038</td>\n",
       "      <td>0</td>\n",
       "      <td>...</td>\n",
       "      <td>1</td>\n",
       "      <td>0</td>\n",
       "      <td>0</td>\n",
       "      <td>0</td>\n",
       "      <td>0</td>\n",
       "      <td>0</td>\n",
       "      <td>0</td>\n",
       "      <td>0</td>\n",
       "      <td>0</td>\n",
       "      <td>0</td>\n",
       "    </tr>\n",
       "  </tbody>\n",
       "</table>\n",
       "<p>5 rows × 47 columns</p>\n",
       "</div>"
      ],
      "text/plain": [
       "         loan_amnt      term  int_rate  installment     grade  sub_grade  \\\n",
       "2139270  -0.890562 -0.565438  0.190831    -0.788166 -1.817008  -1.671383   \n",
       "2139245  -1.475396 -0.565438  0.653814    -1.440208 -2.586479  -2.749700   \n",
       "2139236  -1.103783 -0.565438 -1.133175    -1.099830  1.260876   1.409524   \n",
       "2139235  -1.377924 -0.565438 -0.536115    -1.365033 -0.278066   0.023116   \n",
       "2139225  -0.890562 -0.565438 -0.999098    -0.870123  1.260876   1.101433   \n",
       "\n",
       "         emp_length  home_ownership  annual_inc  verification_status  \\\n",
       "2139270   -1.399767        2.196862   -1.073069                    0   \n",
       "2139245   -1.399767       -0.899632   -0.507501                    0   \n",
       "2139236    1.098878        0.648615    0.855853                    0   \n",
       "2139235   -1.399767       -0.899632   -1.110524                    0   \n",
       "2139225   -1.399767        0.648615    1.324038                    0   \n",
       "\n",
       "             ...       purp_home_improvement  purp_house  purp_major_purchase  \\\n",
       "2139270      ...                           0           0                    0   \n",
       "2139245      ...                           0           0                    0   \n",
       "2139236      ...                           0           0                    0   \n",
       "2139235      ...                           0           0                    0   \n",
       "2139225      ...                           1           0                    0   \n",
       "\n",
       "         purp_medical  purp_moving purp_other  purp_renewable_energy  \\\n",
       "2139270             0            0          0                      0   \n",
       "2139245             0            0          0                      0   \n",
       "2139236             0            0          0                      0   \n",
       "2139235             0            1          0                      0   \n",
       "2139225             0            0          0                      0   \n",
       "\n",
       "         purp_small_business  purp_vacation  purp_wedding  \n",
       "2139270                    0              0             0  \n",
       "2139245                    0              0             0  \n",
       "2139236                    0              0             0  \n",
       "2139235                    0              0             0  \n",
       "2139225                    0              0             0  \n",
       "\n",
       "[5 rows x 47 columns]"
      ]
     },
     "execution_count": 99,
     "metadata": {},
     "output_type": "execute_result"
    }
   ],
   "source": [
    "def custom_scaler(df_unscaled, zip_means = df_macro_mean, zip_std = df_macro_std):\n",
    "    \"\"\"\n",
    "    Applies a custom scaling to a dataframe based on observations in same 2 digit zip code\n",
    "    returns new dataframe\n",
    "    \n",
    "    \"\"\"\n",
    "    \n",
    "    #nested for loops to scale by 2 digit zip code\n",
    "    df_scaled_list = []\n",
    "    for code in df_unscaled['zip_2'].unique():\n",
    "        #make deep copy of localized zip\n",
    "        df_local_zip = df_unscaled[df_unscaled['zip_2']==code].copy()\n",
    "\n",
    "        #for each feature we want to scale\n",
    "        for feat in zip_means.columns:\n",
    "            #subtract and divide by std\n",
    "            df_local_zip[feat] = (df_local_zip[feat] - zip_means.loc[code,feat]) / zip_std.loc[code,feat]\n",
    "        \n",
    "        #after scaling is done for local zip area we append to list\n",
    "        df_scaled_list.append(df_local_zip)\n",
    "\n",
    "\n",
    "    #concat in one df\n",
    "    df_scaled = pd.concat(df_scaled_list)\n",
    "    \n",
    "    return df_scaled\n",
    "\n",
    "\n",
    "df_train_scaled = custom_scaler(df_unscaled=df_num, zip_means = df_macro_mean, zip_std = df_macro_std)\n",
    "\n",
    "df_train_scaled.head()"
   ]
  },
  {
   "cell_type": "markdown",
   "metadata": {},
   "source": [
    "# 6.0 Repeat On Test Data"
   ]
  },
  {
   "cell_type": "code",
   "execution_count": 100,
   "metadata": {},
   "outputs": [],
   "source": [
    "#load test data\n",
    "df_test = utils.chunk_loader(df_test_path, index_col=0)"
   ]
  },
  {
   "cell_type": "code",
   "execution_count": 101,
   "metadata": {},
   "outputs": [],
   "source": [
    "#drop leak columns\n",
    "df_test = df_test.drop(columns=leak_cols, axis=1)\n",
    "\n",
    "# drop the redundant columns\n",
    "df_test = df_test.drop(columns=single_value_cols)\n",
    "\n",
    "#drop vlaues if not in list\n",
    "df_test = df_test[df_test['loan_status'].isin(target_vals)]\n",
    "\n",
    "#drop the columns\n",
    "df_test = df_test.drop(columns=missing_cols)"
   ]
  },
  {
   "cell_type": "code",
   "execution_count": 102,
   "metadata": {},
   "outputs": [],
   "source": [
    "#make numerical\n",
    "df_test_num = df_object_to_num(df_test)\n",
    "\n",
    "#scale \n",
    "df_test_scaled = custom_scaler(df_test_num)"
   ]
  },
  {
   "cell_type": "code",
   "execution_count": 103,
   "metadata": {},
   "outputs": [
    {
     "data": {
      "text/html": [
       "<div>\n",
       "<style scoped>\n",
       "    .dataframe tbody tr th:only-of-type {\n",
       "        vertical-align: middle;\n",
       "    }\n",
       "\n",
       "    .dataframe tbody tr th {\n",
       "        vertical-align: top;\n",
       "    }\n",
       "\n",
       "    .dataframe thead th {\n",
       "        text-align: right;\n",
       "    }\n",
       "</style>\n",
       "<table border=\"1\" class=\"dataframe\">\n",
       "  <thead>\n",
       "    <tr style=\"text-align: right;\">\n",
       "      <th></th>\n",
       "      <th>loan_amnt</th>\n",
       "      <th>term</th>\n",
       "      <th>int_rate</th>\n",
       "      <th>installment</th>\n",
       "      <th>grade</th>\n",
       "      <th>sub_grade</th>\n",
       "      <th>emp_length</th>\n",
       "      <th>home_ownership</th>\n",
       "      <th>annual_inc</th>\n",
       "      <th>verification_status</th>\n",
       "      <th>...</th>\n",
       "      <th>purp_debt_consolidation</th>\n",
       "      <th>purp_home_improvement</th>\n",
       "      <th>purp_house</th>\n",
       "      <th>purp_major_purchase</th>\n",
       "      <th>purp_medical</th>\n",
       "      <th>purp_moving</th>\n",
       "      <th>purp_other</th>\n",
       "      <th>purp_renewable_energy</th>\n",
       "      <th>purp_small_business</th>\n",
       "      <th>purp_vacation</th>\n",
       "    </tr>\n",
       "  </thead>\n",
       "  <tbody>\n",
       "    <tr>\n",
       "      <th>244697</th>\n",
       "      <td>2.711773</td>\n",
       "      <td>-0.558356</td>\n",
       "      <td>-1.237809</td>\n",
       "      <td>2.819585</td>\n",
       "      <td>1.316121</td>\n",
       "      <td>1.317800</td>\n",
       "      <td>-0.793118</td>\n",
       "      <td>0.338525</td>\n",
       "      <td>0.263661</td>\n",
       "      <td>2</td>\n",
       "      <td>...</td>\n",
       "      <td>0</td>\n",
       "      <td>0</td>\n",
       "      <td>0</td>\n",
       "      <td>0</td>\n",
       "      <td>0</td>\n",
       "      <td>0</td>\n",
       "      <td>0</td>\n",
       "      <td>0</td>\n",
       "      <td>1</td>\n",
       "      <td>0</td>\n",
       "    </tr>\n",
       "    <tr>\n",
       "      <th>244789</th>\n",
       "      <td>0.836039</td>\n",
       "      <td>1.790907</td>\n",
       "      <td>0.416115</td>\n",
       "      <td>0.289097</td>\n",
       "      <td>-0.236910</td>\n",
       "      <td>-0.243374</td>\n",
       "      <td>0.041428</td>\n",
       "      <td>0.338525</td>\n",
       "      <td>0.411947</td>\n",
       "      <td>2</td>\n",
       "      <td>...</td>\n",
       "      <td>0</td>\n",
       "      <td>0</td>\n",
       "      <td>0</td>\n",
       "      <td>0</td>\n",
       "      <td>0</td>\n",
       "      <td>0</td>\n",
       "      <td>0</td>\n",
       "      <td>0</td>\n",
       "      <td>0</td>\n",
       "      <td>0</td>\n",
       "    </tr>\n",
       "    <tr>\n",
       "      <th>244459</th>\n",
       "      <td>1.608400</td>\n",
       "      <td>-0.558356</td>\n",
       "      <td>1.040837</td>\n",
       "      <td>2.253124</td>\n",
       "      <td>-1.013426</td>\n",
       "      <td>-0.711727</td>\n",
       "      <td>1.154156</td>\n",
       "      <td>0.338525</td>\n",
       "      <td>-0.181633</td>\n",
       "      <td>2</td>\n",
       "      <td>...</td>\n",
       "      <td>1</td>\n",
       "      <td>0</td>\n",
       "      <td>0</td>\n",
       "      <td>0</td>\n",
       "      <td>0</td>\n",
       "      <td>0</td>\n",
       "      <td>0</td>\n",
       "      <td>0</td>\n",
       "      <td>0</td>\n",
       "      <td>0</td>\n",
       "    </tr>\n",
       "    <tr>\n",
       "      <th>245213</th>\n",
       "      <td>1.056714</td>\n",
       "      <td>1.790907</td>\n",
       "      <td>-0.630029</td>\n",
       "      <td>0.233329</td>\n",
       "      <td>0.539606</td>\n",
       "      <td>0.849448</td>\n",
       "      <td>0.041428</td>\n",
       "      <td>-1.226754</td>\n",
       "      <td>-0.059664</td>\n",
       "      <td>1</td>\n",
       "      <td>...</td>\n",
       "      <td>0</td>\n",
       "      <td>0</td>\n",
       "      <td>0</td>\n",
       "      <td>0</td>\n",
       "      <td>0</td>\n",
       "      <td>0</td>\n",
       "      <td>0</td>\n",
       "      <td>0</td>\n",
       "      <td>0</td>\n",
       "      <td>0</td>\n",
       "    </tr>\n",
       "    <tr>\n",
       "      <th>245189</th>\n",
       "      <td>-1.039695</td>\n",
       "      <td>-0.558356</td>\n",
       "      <td>-1.104394</td>\n",
       "      <td>-1.027633</td>\n",
       "      <td>1.316121</td>\n",
       "      <td>1.161682</td>\n",
       "      <td>-1.349481</td>\n",
       "      <td>0.338525</td>\n",
       "      <td>0.902531</td>\n",
       "      <td>0</td>\n",
       "      <td>...</td>\n",
       "      <td>0</td>\n",
       "      <td>1</td>\n",
       "      <td>0</td>\n",
       "      <td>0</td>\n",
       "      <td>0</td>\n",
       "      <td>0</td>\n",
       "      <td>0</td>\n",
       "      <td>0</td>\n",
       "      <td>0</td>\n",
       "      <td>0</td>\n",
       "    </tr>\n",
       "  </tbody>\n",
       "</table>\n",
       "<p>5 rows × 45 columns</p>\n",
       "</div>"
      ],
      "text/plain": [
       "        loan_amnt      term  int_rate  installment     grade  sub_grade  \\\n",
       "244697   2.711773 -0.558356 -1.237809     2.819585  1.316121   1.317800   \n",
       "244789   0.836039  1.790907  0.416115     0.289097 -0.236910  -0.243374   \n",
       "244459   1.608400 -0.558356  1.040837     2.253124 -1.013426  -0.711727   \n",
       "245213   1.056714  1.790907 -0.630029     0.233329  0.539606   0.849448   \n",
       "245189  -1.039695 -0.558356 -1.104394    -1.027633  1.316121   1.161682   \n",
       "\n",
       "        emp_length  home_ownership  annual_inc  verification_status  \\\n",
       "244697   -0.793118        0.338525    0.263661                    2   \n",
       "244789    0.041428        0.338525    0.411947                    2   \n",
       "244459    1.154156        0.338525   -0.181633                    2   \n",
       "245213    0.041428       -1.226754   -0.059664                    1   \n",
       "245189   -1.349481        0.338525    0.902531                    0   \n",
       "\n",
       "            ...        purp_debt_consolidation  purp_home_improvement  \\\n",
       "244697      ...                              0                      0   \n",
       "244789      ...                              0                      0   \n",
       "244459      ...                              1                      0   \n",
       "245213      ...                              0                      0   \n",
       "245189      ...                              0                      1   \n",
       "\n",
       "        purp_house  purp_major_purchase  purp_medical purp_moving  purp_other  \\\n",
       "244697           0                    0             0           0           0   \n",
       "244789           0                    0             0           0           0   \n",
       "244459           0                    0             0           0           0   \n",
       "245213           0                    0             0           0           0   \n",
       "245189           0                    0             0           0           0   \n",
       "\n",
       "        purp_renewable_energy  purp_small_business  purp_vacation  \n",
       "244697                      0                    1              0  \n",
       "244789                      0                    0              0  \n",
       "244459                      0                    0              0  \n",
       "245213                      0                    0              0  \n",
       "245189                      0                    0              0  \n",
       "\n",
       "[5 rows x 45 columns]"
      ]
     },
     "execution_count": 103,
     "metadata": {},
     "output_type": "execute_result"
    }
   ],
   "source": [
    "#peak\n",
    "df_test_scaled.head()"
   ]
  },
  {
   "cell_type": "markdown",
   "metadata": {},
   "source": [
    "# 6.1 Shape Check\n",
    "\n",
    "In some functions for the training data we used a pd.get_dummies method which might return novel columns between train and testdata. We must ensure that both datas have the same shape to fit similar algorithms. For examples we see that in the test set there is no loans for educations or weddings. This could be a product that was discontinued. In addition our testing set might not be representative enough, for example we only have the first few months of the year which are not typically wedding season."
   ]
  },
  {
   "cell_type": "code",
   "execution_count": 104,
   "metadata": {},
   "outputs": [
    {
     "data": {
      "text/plain": [
       "{'purp_educational', 'purp_wedding'}"
      ]
     },
     "execution_count": 104,
     "metadata": {},
     "output_type": "execute_result"
    }
   ],
   "source": [
    "different_columns = set.difference(set(df_train_scaled.columns), set(df_test_scaled.columns))\n",
    "different_columns"
   ]
  },
  {
   "cell_type": "code",
   "execution_count": 105,
   "metadata": {},
   "outputs": [],
   "source": [
    "#get common columns with set intersection\n",
    "common_cols_set = set.intersection(set(df_train_scaled.columns), set(df_test_scaled.columns))\n",
    "common_cols_list = list(common_cols_set)"
   ]
  },
  {
   "cell_type": "code",
   "execution_count": 106,
   "metadata": {},
   "outputs": [],
   "source": [
    "df_train_scaled = df_train_scaled[common_cols_list]\n",
    "df_test_scaled = df_test_scaled[common_cols_list]"
   ]
  },
  {
   "cell_type": "markdown",
   "metadata": {},
   "source": [
    "# 7.0 Save"
   ]
  },
  {
   "cell_type": "code",
   "execution_count": 107,
   "metadata": {},
   "outputs": [],
   "source": [
    "#zip columns no longer needed\n",
    "zip_cols = ['zip_2', 'zip_3']\n",
    "\n",
    "#drop columns\n",
    "df_train_save = df_train_scaled.drop(columns=zip_cols)\n",
    "df_test_save = df_test_scaled.drop(columns=zip_cols)\n",
    "\n",
    "#save as compressed zipped files to save space\n",
    "df_train_save.to_csv(os.path.join(goog_dir,'data','df_train_scaled.csv'), compression='zip')\n",
    "df_test_save.to_csv(os.path.join(goog_dir,'data','df_test_scaled.csv'),compression='zip')"
   ]
  },
  {
   "cell_type": "markdown",
   "metadata": {},
   "source": [
    "# 8.0 Conclusion\n",
    "This concludes the feature engineering part of the project. In the next notebook we will evaluate machine learning models to select a best performer and iterate on it."
   ]
  },
  {
   "cell_type": "code",
   "execution_count": null,
   "metadata": {},
   "outputs": [],
   "source": []
  }
 ],
 "metadata": {
  "colab": {
   "collapsed_sections": [],
   "name": "01_Clean_Wrangle.ipynb",
   "provenance": [],
   "toc_visible": true
  },
  "kernelspec": {
   "display_name": "Python 3",
   "language": "python",
   "name": "python3"
  },
  "language_info": {
   "codemirror_mode": {
    "name": "ipython",
    "version": 3
   },
   "file_extension": ".py",
   "mimetype": "text/x-python",
   "name": "python",
   "nbconvert_exporter": "python",
   "pygments_lexer": "ipython3",
   "version": "3.7.4"
  }
 },
 "nbformat": 4,
 "nbformat_minor": 1
}
