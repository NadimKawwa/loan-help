{
 "cells": [
  {
   "cell_type": "markdown",
   "metadata": {},
   "source": [
    "# Confidence Interval\n",
    "In this notebook we try to build a confidence interval around our predictions using the methods and functions shown here:\n",
    "https://gist.github.com/roncho12/60178f12ea4c3a74764fd645c6f2fe13"
   ]
  },
  {
   "cell_type": "code",
   "execution_count": 1,
   "metadata": {},
   "outputs": [
    {
     "name": "stderr",
     "output_type": "stream",
     "text": [
      "Using TensorFlow backend.\n"
     ]
    }
   ],
   "source": [
    "import pandas as pd\n",
    "import numpy as np\n",
    "import matplotlib.pyplot as plt\n",
    "import seaborn as sns\n",
    "import os\n",
    "import pickle\n",
    "from tqdm import tqdm\n",
    "\n",
    "\n",
    "from sklearn.metrics import  roc_auc_score\n",
    "\n",
    "import xgboost as xgb\n",
    "\n",
    "from imblearn.over_sampling import SMOTE\n",
    "\n",
    "\n",
    "%matplotlib inline"
   ]
  },
  {
   "cell_type": "markdown",
   "metadata": {},
   "source": [
    "# 1.0 Load Data"
   ]
  },
  {
   "cell_type": "markdown",
   "metadata": {},
   "source": [
    "## 1.1 Training Data"
   ]
  },
  {
   "cell_type": "code",
   "execution_count": 2,
   "metadata": {},
   "outputs": [],
   "source": [
    "#get directory\n",
    "df_train_path = os.path.join('data','df_train_scaled.csv')\n",
    "df_test_path = os.path.join('data','df_test_scaled.csv')"
   ]
  },
  {
   "cell_type": "code",
   "execution_count": 3,
   "metadata": {},
   "outputs": [
    {
     "name": "stderr",
     "output_type": "stream",
     "text": [
      "/Users/nadimkawwa/opt/anaconda3/lib/python3.7/site-packages/numpy/lib/arraysetops.py:522: FutureWarning: elementwise comparison failed; returning scalar instead, but in the future will perform elementwise comparison\n",
      "  mask |= (ar1 == a)\n"
     ]
    },
    {
     "data": {
      "text/html": [
       "<div>\n",
       "<style scoped>\n",
       "    .dataframe tbody tr th:only-of-type {\n",
       "        vertical-align: middle;\n",
       "    }\n",
       "\n",
       "    .dataframe tbody tr th {\n",
       "        vertical-align: top;\n",
       "    }\n",
       "\n",
       "    .dataframe thead th {\n",
       "        text-align: right;\n",
       "    }\n",
       "</style>\n",
       "<table border=\"1\" class=\"dataframe\">\n",
       "  <thead>\n",
       "    <tr style=\"text-align: right;\">\n",
       "      <th></th>\n",
       "      <th>pub_rec</th>\n",
       "      <th>grade</th>\n",
       "      <th>purp_renewable_energy</th>\n",
       "      <th>revol_bal</th>\n",
       "      <th>open_acc</th>\n",
       "      <th>mort_acc</th>\n",
       "      <th>purp_credit_card</th>\n",
       "      <th>purp_car</th>\n",
       "      <th>e_exec</th>\n",
       "      <th>verification_status</th>\n",
       "      <th>...</th>\n",
       "      <th>installment</th>\n",
       "      <th>total_acc</th>\n",
       "      <th>e_admin</th>\n",
       "      <th>purp_medical</th>\n",
       "      <th>purp_vacation</th>\n",
       "      <th>e_self</th>\n",
       "      <th>purp_debt_consolidation</th>\n",
       "      <th>int_rate</th>\n",
       "      <th>annual_inc</th>\n",
       "      <th>purp_home_improvement</th>\n",
       "    </tr>\n",
       "  </thead>\n",
       "  <tbody>\n",
       "    <tr>\n",
       "      <th>2139270</th>\n",
       "      <td>0.0</td>\n",
       "      <td>-1.817008</td>\n",
       "      <td>0</td>\n",
       "      <td>-0.508426</td>\n",
       "      <td>-0.843970</td>\n",
       "      <td>-0.718077</td>\n",
       "      <td>0</td>\n",
       "      <td>0</td>\n",
       "      <td>0</td>\n",
       "      <td>0</td>\n",
       "      <td>...</td>\n",
       "      <td>-0.788166</td>\n",
       "      <td>-1.415080</td>\n",
       "      <td>0</td>\n",
       "      <td>0</td>\n",
       "      <td>0</td>\n",
       "      <td>0</td>\n",
       "      <td>1</td>\n",
       "      <td>0.190831</td>\n",
       "      <td>-1.073069</td>\n",
       "      <td>0</td>\n",
       "    </tr>\n",
       "    <tr>\n",
       "      <th>2139245</th>\n",
       "      <td>0.0</td>\n",
       "      <td>-2.586479</td>\n",
       "      <td>0</td>\n",
       "      <td>-0.549872</td>\n",
       "      <td>0.075527</td>\n",
       "      <td>-0.718077</td>\n",
       "      <td>0</td>\n",
       "      <td>0</td>\n",
       "      <td>0</td>\n",
       "      <td>0</td>\n",
       "      <td>...</td>\n",
       "      <td>-1.440208</td>\n",
       "      <td>-0.980748</td>\n",
       "      <td>0</td>\n",
       "      <td>0</td>\n",
       "      <td>0</td>\n",
       "      <td>0</td>\n",
       "      <td>1</td>\n",
       "      <td>0.653814</td>\n",
       "      <td>-0.507501</td>\n",
       "      <td>0</td>\n",
       "    </tr>\n",
       "    <tr>\n",
       "      <th>2139236</th>\n",
       "      <td>0.0</td>\n",
       "      <td>1.260876</td>\n",
       "      <td>0</td>\n",
       "      <td>-0.559592</td>\n",
       "      <td>-0.292272</td>\n",
       "      <td>-0.718077</td>\n",
       "      <td>0</td>\n",
       "      <td>0</td>\n",
       "      <td>0</td>\n",
       "      <td>0</td>\n",
       "      <td>...</td>\n",
       "      <td>-1.099830</td>\n",
       "      <td>-0.720149</td>\n",
       "      <td>0</td>\n",
       "      <td>0</td>\n",
       "      <td>0</td>\n",
       "      <td>0</td>\n",
       "      <td>1</td>\n",
       "      <td>-1.133175</td>\n",
       "      <td>0.855853</td>\n",
       "      <td>0</td>\n",
       "    </tr>\n",
       "    <tr>\n",
       "      <th>2139235</th>\n",
       "      <td>0.0</td>\n",
       "      <td>-0.278066</td>\n",
       "      <td>0</td>\n",
       "      <td>-0.594821</td>\n",
       "      <td>0.995025</td>\n",
       "      <td>-0.718077</td>\n",
       "      <td>0</td>\n",
       "      <td>0</td>\n",
       "      <td>0</td>\n",
       "      <td>0</td>\n",
       "      <td>...</td>\n",
       "      <td>-1.365033</td>\n",
       "      <td>-0.546417</td>\n",
       "      <td>0</td>\n",
       "      <td>0</td>\n",
       "      <td>0</td>\n",
       "      <td>0</td>\n",
       "      <td>0</td>\n",
       "      <td>-0.536115</td>\n",
       "      <td>-1.110524</td>\n",
       "      <td>0</td>\n",
       "    </tr>\n",
       "    <tr>\n",
       "      <th>2139225</th>\n",
       "      <td>0.0</td>\n",
       "      <td>1.260876</td>\n",
       "      <td>0</td>\n",
       "      <td>0.226401</td>\n",
       "      <td>0.627226</td>\n",
       "      <td>-0.718077</td>\n",
       "      <td>0</td>\n",
       "      <td>0</td>\n",
       "      <td>0</td>\n",
       "      <td>0</td>\n",
       "      <td>...</td>\n",
       "      <td>-0.870123</td>\n",
       "      <td>3.101968</td>\n",
       "      <td>0</td>\n",
       "      <td>0</td>\n",
       "      <td>0</td>\n",
       "      <td>0</td>\n",
       "      <td>0</td>\n",
       "      <td>-0.999098</td>\n",
       "      <td>1.324038</td>\n",
       "      <td>1</td>\n",
       "    </tr>\n",
       "  </tbody>\n",
       "</table>\n",
       "<p>5 rows × 43 columns</p>\n",
       "</div>"
      ],
      "text/plain": [
       "         pub_rec     grade  purp_renewable_energy  revol_bal  open_acc  \\\n",
       "2139270      0.0 -1.817008                      0  -0.508426 -0.843970   \n",
       "2139245      0.0 -2.586479                      0  -0.549872  0.075527   \n",
       "2139236      0.0  1.260876                      0  -0.559592 -0.292272   \n",
       "2139235      0.0 -0.278066                      0  -0.594821  0.995025   \n",
       "2139225      0.0  1.260876                      0   0.226401  0.627226   \n",
       "\n",
       "         mort_acc  purp_credit_card  purp_car  e_exec  verification_status  \\\n",
       "2139270 -0.718077                 0         0       0                    0   \n",
       "2139245 -0.718077                 0         0       0                    0   \n",
       "2139236 -0.718077                 0         0       0                    0   \n",
       "2139235 -0.718077                 0         0       0                    0   \n",
       "2139225 -0.718077                 0         0       0                    0   \n",
       "\n",
       "                 ...            installment  total_acc  e_admin  purp_medical  \\\n",
       "2139270          ...              -0.788166  -1.415080        0             0   \n",
       "2139245          ...              -1.440208  -0.980748        0             0   \n",
       "2139236          ...              -1.099830  -0.720149        0             0   \n",
       "2139235          ...              -1.365033  -0.546417        0             0   \n",
       "2139225          ...              -0.870123   3.101968        0             0   \n",
       "\n",
       "         purp_vacation  e_self  purp_debt_consolidation  int_rate  annual_inc  \\\n",
       "2139270              0       0                        1  0.190831   -1.073069   \n",
       "2139245              0       0                        1  0.653814   -0.507501   \n",
       "2139236              0       0                        1 -1.133175    0.855853   \n",
       "2139235              0       0                        0 -0.536115   -1.110524   \n",
       "2139225              0       0                        0 -0.999098    1.324038   \n",
       "\n",
       "         purp_home_improvement  \n",
       "2139270                      0  \n",
       "2139245                      0  \n",
       "2139236                      0  \n",
       "2139235                      0  \n",
       "2139225                      1  \n",
       "\n",
       "[5 rows x 43 columns]"
      ]
     },
     "execution_count": 3,
     "metadata": {},
     "output_type": "execute_result"
    }
   ],
   "source": [
    "df_train = pd.read_csv(df_train_path, compression='zip',index_col=0)\n",
    "df_train.head()"
   ]
  },
  {
   "cell_type": "code",
   "execution_count": 4,
   "metadata": {},
   "outputs": [
    {
     "data": {
      "text/plain": [
       "(1292073, 43)"
      ]
     },
     "execution_count": 4,
     "metadata": {},
     "output_type": "execute_result"
    }
   ],
   "source": [
    "df_train.shape"
   ]
  },
  {
   "cell_type": "code",
   "execution_count": 5,
   "metadata": {},
   "outputs": [],
   "source": [
    "#target variable\n",
    "target_col = 'loan_status'\n",
    "\n",
    "#training variables\n",
    "X_train = df_train.drop(columns=[target_col]).values\n",
    "y_train = df_train[target_col].values\n"
   ]
  },
  {
   "cell_type": "markdown",
   "metadata": {},
   "source": [
    "## 1.2 Test data"
   ]
  },
  {
   "cell_type": "code",
   "execution_count": 6,
   "metadata": {},
   "outputs": [
    {
     "data": {
      "text/html": [
       "<div>\n",
       "<style scoped>\n",
       "    .dataframe tbody tr th:only-of-type {\n",
       "        vertical-align: middle;\n",
       "    }\n",
       "\n",
       "    .dataframe tbody tr th {\n",
       "        vertical-align: top;\n",
       "    }\n",
       "\n",
       "    .dataframe thead th {\n",
       "        text-align: right;\n",
       "    }\n",
       "</style>\n",
       "<table border=\"1\" class=\"dataframe\">\n",
       "  <thead>\n",
       "    <tr style=\"text-align: right;\">\n",
       "      <th></th>\n",
       "      <th>pub_rec</th>\n",
       "      <th>grade</th>\n",
       "      <th>purp_renewable_energy</th>\n",
       "      <th>revol_bal</th>\n",
       "      <th>open_acc</th>\n",
       "      <th>mort_acc</th>\n",
       "      <th>purp_credit_card</th>\n",
       "      <th>purp_car</th>\n",
       "      <th>e_exec</th>\n",
       "      <th>verification_status</th>\n",
       "      <th>...</th>\n",
       "      <th>installment</th>\n",
       "      <th>total_acc</th>\n",
       "      <th>e_admin</th>\n",
       "      <th>purp_medical</th>\n",
       "      <th>purp_vacation</th>\n",
       "      <th>e_self</th>\n",
       "      <th>purp_debt_consolidation</th>\n",
       "      <th>int_rate</th>\n",
       "      <th>annual_inc</th>\n",
       "      <th>purp_home_improvement</th>\n",
       "    </tr>\n",
       "  </thead>\n",
       "  <tbody>\n",
       "    <tr>\n",
       "      <th>244697</th>\n",
       "      <td>0.0</td>\n",
       "      <td>1.316121</td>\n",
       "      <td>0</td>\n",
       "      <td>-0.258040</td>\n",
       "      <td>-0.172649</td>\n",
       "      <td>-0.335020</td>\n",
       "      <td>0</td>\n",
       "      <td>0</td>\n",
       "      <td>0</td>\n",
       "      <td>2</td>\n",
       "      <td>...</td>\n",
       "      <td>2.819585</td>\n",
       "      <td>-0.001213</td>\n",
       "      <td>0</td>\n",
       "      <td>0</td>\n",
       "      <td>0</td>\n",
       "      <td>0</td>\n",
       "      <td>0</td>\n",
       "      <td>-1.237809</td>\n",
       "      <td>0.263661</td>\n",
       "      <td>0</td>\n",
       "    </tr>\n",
       "    <tr>\n",
       "      <th>244789</th>\n",
       "      <td>0.0</td>\n",
       "      <td>-0.236910</td>\n",
       "      <td>0</td>\n",
       "      <td>0.935375</td>\n",
       "      <td>2.552677</td>\n",
       "      <td>-0.335020</td>\n",
       "      <td>1</td>\n",
       "      <td>0</td>\n",
       "      <td>0</td>\n",
       "      <td>2</td>\n",
       "      <td>...</td>\n",
       "      <td>0.289097</td>\n",
       "      <td>1.790371</td>\n",
       "      <td>0</td>\n",
       "      <td>0</td>\n",
       "      <td>0</td>\n",
       "      <td>0</td>\n",
       "      <td>0</td>\n",
       "      <td>0.416115</td>\n",
       "      <td>0.411947</td>\n",
       "      <td>0</td>\n",
       "    </tr>\n",
       "    <tr>\n",
       "      <th>244459</th>\n",
       "      <td>0.0</td>\n",
       "      <td>-1.013426</td>\n",
       "      <td>0</td>\n",
       "      <td>-0.262623</td>\n",
       "      <td>-0.354337</td>\n",
       "      <td>0.730536</td>\n",
       "      <td>0</td>\n",
       "      <td>0</td>\n",
       "      <td>0</td>\n",
       "      <td>2</td>\n",
       "      <td>...</td>\n",
       "      <td>2.253124</td>\n",
       "      <td>0.243094</td>\n",
       "      <td>0</td>\n",
       "      <td>0</td>\n",
       "      <td>0</td>\n",
       "      <td>0</td>\n",
       "      <td>1</td>\n",
       "      <td>1.040837</td>\n",
       "      <td>-0.181633</td>\n",
       "      <td>0</td>\n",
       "    </tr>\n",
       "    <tr>\n",
       "      <th>245213</th>\n",
       "      <td>0.0</td>\n",
       "      <td>0.539606</td>\n",
       "      <td>0</td>\n",
       "      <td>-0.659508</td>\n",
       "      <td>-1.081091</td>\n",
       "      <td>0.197758</td>\n",
       "      <td>1</td>\n",
       "      <td>0</td>\n",
       "      <td>1</td>\n",
       "      <td>1</td>\n",
       "      <td>...</td>\n",
       "      <td>0.233329</td>\n",
       "      <td>-1.059876</td>\n",
       "      <td>0</td>\n",
       "      <td>0</td>\n",
       "      <td>0</td>\n",
       "      <td>0</td>\n",
       "      <td>0</td>\n",
       "      <td>-0.630029</td>\n",
       "      <td>-0.059664</td>\n",
       "      <td>0</td>\n",
       "    </tr>\n",
       "    <tr>\n",
       "      <th>245189</th>\n",
       "      <td>0.0</td>\n",
       "      <td>1.316121</td>\n",
       "      <td>0</td>\n",
       "      <td>-0.490607</td>\n",
       "      <td>-0.354337</td>\n",
       "      <td>-0.335020</td>\n",
       "      <td>0</td>\n",
       "      <td>0</td>\n",
       "      <td>0</td>\n",
       "      <td>0</td>\n",
       "      <td>...</td>\n",
       "      <td>-1.027633</td>\n",
       "      <td>-0.815569</td>\n",
       "      <td>0</td>\n",
       "      <td>0</td>\n",
       "      <td>0</td>\n",
       "      <td>0</td>\n",
       "      <td>0</td>\n",
       "      <td>-1.104394</td>\n",
       "      <td>0.902531</td>\n",
       "      <td>1</td>\n",
       "    </tr>\n",
       "  </tbody>\n",
       "</table>\n",
       "<p>5 rows × 43 columns</p>\n",
       "</div>"
      ],
      "text/plain": [
       "        pub_rec     grade  purp_renewable_energy  revol_bal  open_acc  \\\n",
       "244697      0.0  1.316121                      0  -0.258040 -0.172649   \n",
       "244789      0.0 -0.236910                      0   0.935375  2.552677   \n",
       "244459      0.0 -1.013426                      0  -0.262623 -0.354337   \n",
       "245213      0.0  0.539606                      0  -0.659508 -1.081091   \n",
       "245189      0.0  1.316121                      0  -0.490607 -0.354337   \n",
       "\n",
       "        mort_acc  purp_credit_card  purp_car  e_exec  verification_status  \\\n",
       "244697 -0.335020                 0         0       0                    2   \n",
       "244789 -0.335020                 1         0       0                    2   \n",
       "244459  0.730536                 0         0       0                    2   \n",
       "245213  0.197758                 1         0       1                    1   \n",
       "245189 -0.335020                 0         0       0                    0   \n",
       "\n",
       "                ...            installment  total_acc  e_admin  purp_medical  \\\n",
       "244697          ...               2.819585  -0.001213        0             0   \n",
       "244789          ...               0.289097   1.790371        0             0   \n",
       "244459          ...               2.253124   0.243094        0             0   \n",
       "245213          ...               0.233329  -1.059876        0             0   \n",
       "245189          ...              -1.027633  -0.815569        0             0   \n",
       "\n",
       "        purp_vacation  e_self  purp_debt_consolidation  int_rate  annual_inc  \\\n",
       "244697              0       0                        0 -1.237809    0.263661   \n",
       "244789              0       0                        0  0.416115    0.411947   \n",
       "244459              0       0                        1  1.040837   -0.181633   \n",
       "245213              0       0                        0 -0.630029   -0.059664   \n",
       "245189              0       0                        0 -1.104394    0.902531   \n",
       "\n",
       "        purp_home_improvement  \n",
       "244697                      0  \n",
       "244789                      0  \n",
       "244459                      0  \n",
       "245213                      0  \n",
       "245189                      1  \n",
       "\n",
       "[5 rows x 43 columns]"
      ]
     },
     "execution_count": 6,
     "metadata": {},
     "output_type": "execute_result"
    }
   ],
   "source": [
    "df_test = pd.read_csv(df_test_path, compression='zip',index_col=0)\n",
    "df_test.head()"
   ]
  },
  {
   "cell_type": "code",
   "execution_count": 7,
   "metadata": {},
   "outputs": [
    {
     "data": {
      "text/plain": [
       "(11534, 43)"
      ]
     },
     "execution_count": 7,
     "metadata": {},
     "output_type": "execute_result"
    }
   ],
   "source": [
    "df_test.shape"
   ]
  },
  {
   "cell_type": "code",
   "execution_count": 8,
   "metadata": {},
   "outputs": [],
   "source": [
    "X_test = df_test.drop(columns=[target_col]).values\n",
    "y_test = df_test[target_col].values"
   ]
  },
  {
   "cell_type": "markdown",
   "metadata": {},
   "source": [
    "# 2.0 Build Intervals"
   ]
  },
  {
   "cell_type": "code",
   "execution_count": 9,
   "metadata": {},
   "outputs": [],
   "source": [
    "#instantiate smote\n",
    "sm = SMOTE(random_state=42)"
   ]
  },
  {
   "cell_type": "code",
   "execution_count": 10,
   "metadata": {},
   "outputs": [
    {
     "name": "stderr",
     "output_type": "stream",
     "text": [
      "100%|██████████| 200/200 [3:23:37<00:00, 61.09s/it]  \n"
     ]
    }
   ],
   "source": [
    "auc_arr = []\n",
    "\n",
    "for _ in tqdm(range(200)):\n",
    "    idx = np.random.choice(np.arange(len(X_train)), 100_000, replace=True)\n",
    "    X_temp = X_train[idx]\n",
    "    y_temp = y_train[idx]\n",
    "    \n",
    "    #apply oversampling to training data\n",
    "    X_temp, y_temp = sm.fit_resample(X_temp, y_temp)\n",
    "    \n",
    "    #instantiate classifier\n",
    "    clf = xgb.XGBClassifier(colsample_bytree=0.9, eta=0.3, max_depth=3)\n",
    "    #fit to new data\n",
    "    clf.fit(X_temp, y_temp)\n",
    "    \n",
    "    #predictions and scoring\n",
    "    y_pred = clf.predict(X_test)\n",
    "    score = roc_auc_score(y_test, y_pred)\n",
    "    auc_arr.append(score)\n"
   ]
  },
  {
   "cell_type": "code",
   "execution_count": 12,
   "metadata": {},
   "outputs": [
    {
     "data": {
      "image/png": "[encoded data removed]",
      "text/plain": [
       "<Figure size 432x288 with 1 Axes>"
      ]
     },
     "metadata": {
      "needs_background": "light"
     },
     "output_type": "display_data"
    }
   ],
   "source": [
    "plt.hist(auc_arr)\n",
    "plt.xlabel(\"AUC Score\")\n",
    "plt.xticks(np.arange(0.5, 0.65, 0.05))\n",
    "plt.savefig(os.path.join(\"plots\", 'auc_632_sampling.png'))\n",
    "plt.show()"
   ]
  },
  {
   "cell_type": "code",
   "execution_count": null,
   "metadata": {},
   "outputs": [],
   "source": []
  },
  {
   "cell_type": "code",
   "execution_count": null,
   "metadata": {},
   "outputs": [],
   "source": []
  }
 ],
 "metadata": {
  "kernelspec": {
   "display_name": "Python 3",
   "language": "python",
   "name": "python3"
  },
  "language_info": {
   "codemirror_mode": {
    "name": "ipython",
    "version": 3
   },
   "file_extension": ".py",
   "mimetype": "text/x-python",
   "name": "python",
   "nbconvert_exporter": "python",
   "pygments_lexer": "ipython3",
   "version": "3.7.4"
  }
 },
 "nbformat": 4,
 "nbformat_minor": 2
}
